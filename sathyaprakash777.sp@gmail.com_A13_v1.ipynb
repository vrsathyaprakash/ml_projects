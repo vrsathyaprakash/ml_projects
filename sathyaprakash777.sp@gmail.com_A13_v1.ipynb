{
  "nbformat": 4,
  "nbformat_minor": 0,
  "metadata": {
    "colab": {
      "name": "sathyaprakash777.sp@gmail.com_A13_v1.ipynb",
      "provenance": [],
      "collapsed_sections": []
    },
    "kernelspec": {
      "name": "python3",
      "display_name": "Python 3"
    },
    "accelerator": "GPU"
  },
  "cells": [
    {
      "cell_type": "markdown",
      "metadata": {
        "id": "baLGd-BAR4bi",
        "colab_type": "text"
      },
      "source": [
        "#Varioius CNN Architecture on MNIST Data using Keras"
      ]
    },
    {
      "cell_type": "code",
      "metadata": {
        "id": "eiXMi7xLz8qp",
        "colab_type": "code",
        "colab": {
          "base_uri": "https://localhost:8080/",
          "height": 34
        },
        "outputId": "eb79d503-89f9-4111-ef72-7848fdaa1f15"
      },
      "source": [
        "from __future__ import print_function\n",
        "import keras\n",
        "from keras.datasets import mnist\n",
        "from keras.models import Sequential\n",
        "from keras.layers import Dense, Dropout, Flatten\n",
        "from keras.layers import Conv2D, MaxPooling2D\n",
        "from keras import backend as K\n"
      ],
      "execution_count": 1,
      "outputs": [
        {
          "output_type": "stream",
          "text": [
            "Using TensorFlow backend.\n"
          ],
          "name": "stderr"
        }
      ]
    },
    {
      "cell_type": "markdown",
      "metadata": {
        "id": "t9L9_y4cHTR2",
        "colab_type": "text"
      },
      "source": [
        "#Intialization of variables"
      ]
    },
    {
      "cell_type": "code",
      "metadata": {
        "id": "aSYCX2GW0IBA",
        "colab_type": "code",
        "colab": {}
      },
      "source": [
        "batch_size = 128\n",
        "num_classes = 10\n",
        "epochs = 10\n",
        "\n",
        "# input image dimensions\n",
        "img_rows, img_cols = 28, 28"
      ],
      "execution_count": 0,
      "outputs": []
    },
    {
      "cell_type": "markdown",
      "metadata": {
        "id": "401PT69LHRLh",
        "colab_type": "text"
      },
      "source": [
        "#loading ,Normalization and one hot encoding of data"
      ]
    },
    {
      "cell_type": "code",
      "metadata": {
        "id": "lKKnu4830Yl8",
        "colab_type": "code",
        "colab": {
          "base_uri": "https://localhost:8080/",
          "height": 50
        },
        "outputId": "8343e025-98ce-48b1-e48a-9da2a36229ba"
      },
      "source": [
        "# the data, split between train and test sets\n",
        "(x_train, y_train), (x_test, y_test) = mnist.load_data()\n"
      ],
      "execution_count": 3,
      "outputs": [
        {
          "output_type": "stream",
          "text": [
            "Downloading data from https://s3.amazonaws.com/img-datasets/mnist.npz\n",
            "11493376/11490434 [==============================] - 0s 0us/step\n"
          ],
          "name": "stdout"
        }
      ]
    },
    {
      "cell_type": "code",
      "metadata": {
        "id": "Xpfl0AQN0cS0",
        "colab_type": "code",
        "colab": {}
      },
      "source": [
        "if K.image_data_format() == 'channels_first':\n",
        "    x_train = x_train.reshape(x_train.shape[0], 1, img_rows, img_cols)\n",
        "    x_test = x_test.reshape(x_test.shape[0], 1, img_rows, img_cols)\n",
        "    input_shape = (1, img_rows, img_cols)\n",
        "else:\n",
        "    x_train = x_train.reshape(x_train.shape[0], img_rows, img_cols, 1)\n",
        "    x_test = x_test.reshape(x_test.shape[0], img_rows, img_cols, 1)\n",
        "    input_shape = (img_rows, img_cols, 1)"
      ],
      "execution_count": 0,
      "outputs": []
    },
    {
      "cell_type": "code",
      "metadata": {
        "id": "JGr3Jbr10gua",
        "colab_type": "code",
        "outputId": "93892e81-037c-4ee5-c6e8-ba964520284c",
        "colab": {
          "base_uri": "https://localhost:8080/",
          "height": 67
        }
      },
      "source": [
        "x_train = x_train.astype('float32')\n",
        "x_test = x_test.astype('float32')\n",
        "x_train /= 255\n",
        "x_test /= 255\n",
        "print('x_train shape:', x_train.shape)\n",
        "print(x_train.shape[0], 'train samples')\n",
        "print(x_test.shape[0], 'test samples')"
      ],
      "execution_count": 5,
      "outputs": [
        {
          "output_type": "stream",
          "text": [
            "x_train shape: (60000, 28, 28, 1)\n",
            "60000 train samples\n",
            "10000 test samples\n"
          ],
          "name": "stdout"
        }
      ]
    },
    {
      "cell_type": "markdown",
      "metadata": {
        "id": "PrH3QWTsDyai",
        "colab_type": "text"
      },
      "source": [
        "# New Section"
      ]
    },
    {
      "cell_type": "code",
      "metadata": {
        "id": "foqjcF8G0li4",
        "colab_type": "code",
        "colab": {}
      },
      "source": [
        "# convert class vectors to binary class matrices\n",
        "y_train = keras.utils.to_categorical(y_train, num_classes)\n",
        "y_test = keras.utils.to_categorical(y_test, num_classes)"
      ],
      "execution_count": 0,
      "outputs": []
    },
    {
      "cell_type": "markdown",
      "metadata": {
        "id": "uQTQ7gueExVi",
        "colab_type": "text"
      },
      "source": [
        "#3 layer CNN"
      ]
    },
    {
      "cell_type": "markdown",
      "metadata": {
        "id": "867O1Ok6L3sy",
        "colab_type": "text"
      },
      "source": [
        "#Input layer + 2conv layers + max pool + Drop out + conv layers + max pool +  Drop out + Flatten + Dense + Flatten + Drop out + Dense Layer"
      ]
    },
    {
      "cell_type": "code",
      "metadata": {
        "id": "lDYFzqEE0sC2",
        "colab_type": "code",
        "outputId": "8e73e532-c68d-4e62-cf2f-60b88abc4c64",
        "colab": {
          "base_uri": "https://localhost:8080/",
          "height": 759
        }
      },
      "source": [
        "model3 = Sequential()\n",
        "model3.add(Conv2D(32, kernel_size=(3, 3),activation='relu',input_shape=input_shape))\n",
        "\n",
        "model3.add(Conv2D(64, (3, 3), activation='relu'))\n",
        "model3.add(MaxPooling2D(pool_size=(2, 2)))\n",
        "model3.add(Dropout(rate=0.25))\n",
        "\n",
        "model3.add(Conv2D(64, (3, 3), activation='relu'))\n",
        "model3.add(MaxPooling2D(pool_size=(2, 2)))\n",
        "model3.add(Dropout(rate=0.25))\n",
        "\n",
        "model3.add(Flatten())\n",
        "model3.add(Dense(128, activation='relu'))\n",
        "model3.add(Dropout(rate=0.5))\n",
        "model3.add(Dense(num_classes, activation='softmax'))\n",
        "model3.summary()"
      ],
      "execution_count": 7,
      "outputs": [
        {
          "output_type": "stream",
          "text": [
            "WARNING:tensorflow:From /usr/local/lib/python3.6/dist-packages/keras/backend/tensorflow_backend.py:66: The name tf.get_default_graph is deprecated. Please use tf.compat.v1.get_default_graph instead.\n",
            "\n",
            "WARNING:tensorflow:From /usr/local/lib/python3.6/dist-packages/keras/backend/tensorflow_backend.py:541: The name tf.placeholder is deprecated. Please use tf.compat.v1.placeholder instead.\n",
            "\n",
            "WARNING:tensorflow:From /usr/local/lib/python3.6/dist-packages/keras/backend/tensorflow_backend.py:4432: The name tf.random_uniform is deprecated. Please use tf.random.uniform instead.\n",
            "\n",
            "WARNING:tensorflow:From /usr/local/lib/python3.6/dist-packages/keras/backend/tensorflow_backend.py:4267: The name tf.nn.max_pool is deprecated. Please use tf.nn.max_pool2d instead.\n",
            "\n",
            "WARNING:tensorflow:From /usr/local/lib/python3.6/dist-packages/keras/backend/tensorflow_backend.py:148: The name tf.placeholder_with_default is deprecated. Please use tf.compat.v1.placeholder_with_default instead.\n",
            "\n",
            "WARNING:tensorflow:From /usr/local/lib/python3.6/dist-packages/keras/backend/tensorflow_backend.py:3733: calling dropout (from tensorflow.python.ops.nn_ops) with keep_prob is deprecated and will be removed in a future version.\n",
            "Instructions for updating:\n",
            "Please use `rate` instead of `keep_prob`. Rate should be set to `rate = 1 - keep_prob`.\n",
            "Model: \"sequential_1\"\n",
            "_________________________________________________________________\n",
            "Layer (type)                 Output Shape              Param #   \n",
            "=================================================================\n",
            "conv2d_1 (Conv2D)            (None, 26, 26, 32)        320       \n",
            "_________________________________________________________________\n",
            "conv2d_2 (Conv2D)            (None, 24, 24, 64)        18496     \n",
            "_________________________________________________________________\n",
            "max_pooling2d_1 (MaxPooling2 (None, 12, 12, 64)        0         \n",
            "_________________________________________________________________\n",
            "dropout_1 (Dropout)          (None, 12, 12, 64)        0         \n",
            "_________________________________________________________________\n",
            "conv2d_3 (Conv2D)            (None, 10, 10, 64)        36928     \n",
            "_________________________________________________________________\n",
            "max_pooling2d_2 (MaxPooling2 (None, 5, 5, 64)          0         \n",
            "_________________________________________________________________\n",
            "dropout_2 (Dropout)          (None, 5, 5, 64)          0         \n",
            "_________________________________________________________________\n",
            "flatten_1 (Flatten)          (None, 1600)              0         \n",
            "_________________________________________________________________\n",
            "dense_1 (Dense)              (None, 128)               204928    \n",
            "_________________________________________________________________\n",
            "dropout_3 (Dropout)          (None, 128)               0         \n",
            "_________________________________________________________________\n",
            "dense_2 (Dense)              (None, 10)                1290      \n",
            "=================================================================\n",
            "Total params: 261,962\n",
            "Trainable params: 261,962\n",
            "Non-trainable params: 0\n",
            "_________________________________________________________________\n"
          ],
          "name": "stdout"
        }
      ]
    },
    {
      "cell_type": "code",
      "metadata": {
        "id": "3AU9NAZxGC_3",
        "colab_type": "code",
        "outputId": "372db34f-b146-4c23-c29a-fd2de0b94ef0",
        "colab": {
          "base_uri": "https://localhost:8080/",
          "height": 776
        }
      },
      "source": [
        "model3.compile(loss=keras.losses.categorical_crossentropy,optimizer=keras.optimizers.Adadelta(),metrics=['accuracy'])\n",
        "\n",
        "history = model3.fit(x_train, y_train,batch_size=batch_size,epochs=epochs,verbose=1,validation_data=(x_test, y_test))"
      ],
      "execution_count": 8,
      "outputs": [
        {
          "output_type": "stream",
          "text": [
            "WARNING:tensorflow:From /usr/local/lib/python3.6/dist-packages/keras/optimizers.py:793: The name tf.train.Optimizer is deprecated. Please use tf.compat.v1.train.Optimizer instead.\n",
            "\n",
            "WARNING:tensorflow:From /usr/local/lib/python3.6/dist-packages/keras/backend/tensorflow_backend.py:3576: The name tf.log is deprecated. Please use tf.math.log instead.\n",
            "\n",
            "WARNING:tensorflow:From /usr/local/lib/python3.6/dist-packages/tensorflow_core/python/ops/math_grad.py:1424: where (from tensorflow.python.ops.array_ops) is deprecated and will be removed in a future version.\n",
            "Instructions for updating:\n",
            "Use tf.where in 2.0, which has the same broadcast rule as np.where\n",
            "WARNING:tensorflow:From /usr/local/lib/python3.6/dist-packages/keras/backend/tensorflow_backend.py:1033: The name tf.assign_add is deprecated. Please use tf.compat.v1.assign_add instead.\n",
            "\n",
            "WARNING:tensorflow:From /usr/local/lib/python3.6/dist-packages/keras/backend/tensorflow_backend.py:1020: The name tf.assign is deprecated. Please use tf.compat.v1.assign instead.\n",
            "\n",
            "WARNING:tensorflow:From /usr/local/lib/python3.6/dist-packages/keras/backend/tensorflow_backend.py:3005: The name tf.Session is deprecated. Please use tf.compat.v1.Session instead.\n",
            "\n",
            "Train on 60000 samples, validate on 10000 samples\n",
            "Epoch 1/10\n",
            "WARNING:tensorflow:From /usr/local/lib/python3.6/dist-packages/keras/backend/tensorflow_backend.py:190: The name tf.get_default_session is deprecated. Please use tf.compat.v1.get_default_session instead.\n",
            "\n",
            "WARNING:tensorflow:From /usr/local/lib/python3.6/dist-packages/keras/backend/tensorflow_backend.py:197: The name tf.ConfigProto is deprecated. Please use tf.compat.v1.ConfigProto instead.\n",
            "\n",
            "WARNING:tensorflow:From /usr/local/lib/python3.6/dist-packages/keras/backend/tensorflow_backend.py:207: The name tf.global_variables is deprecated. Please use tf.compat.v1.global_variables instead.\n",
            "\n",
            "WARNING:tensorflow:From /usr/local/lib/python3.6/dist-packages/keras/backend/tensorflow_backend.py:216: The name tf.is_variable_initialized is deprecated. Please use tf.compat.v1.is_variable_initialized instead.\n",
            "\n",
            "WARNING:tensorflow:From /usr/local/lib/python3.6/dist-packages/keras/backend/tensorflow_backend.py:223: The name tf.variables_initializer is deprecated. Please use tf.compat.v1.variables_initializer instead.\n",
            "\n",
            "60000/60000 [==============================] - 17s 287us/step - loss: 0.2978 - acc: 0.9060 - val_loss: 0.0503 - val_acc: 0.9838\n",
            "Epoch 2/10\n",
            "60000/60000 [==============================] - 10s 169us/step - loss: 0.0938 - acc: 0.9714 - val_loss: 0.0351 - val_acc: 0.9886\n",
            "Epoch 3/10\n",
            "60000/60000 [==============================] - 10s 168us/step - loss: 0.0717 - acc: 0.9789 - val_loss: 0.0266 - val_acc: 0.9912\n",
            "Epoch 4/10\n",
            "60000/60000 [==============================] - 10s 169us/step - loss: 0.0606 - acc: 0.9821 - val_loss: 0.0249 - val_acc: 0.9916\n",
            "Epoch 5/10\n",
            "60000/60000 [==============================] - 10s 170us/step - loss: 0.0517 - acc: 0.9846 - val_loss: 0.0217 - val_acc: 0.9926\n",
            "Epoch 6/10\n",
            "60000/60000 [==============================] - 10s 170us/step - loss: 0.0480 - acc: 0.9857 - val_loss: 0.0226 - val_acc: 0.9927\n",
            "Epoch 7/10\n",
            "60000/60000 [==============================] - 10s 169us/step - loss: 0.0420 - acc: 0.9878 - val_loss: 0.0217 - val_acc: 0.9924\n",
            "Epoch 8/10\n",
            "60000/60000 [==============================] - 10s 170us/step - loss: 0.0377 - acc: 0.9882 - val_loss: 0.0209 - val_acc: 0.9931\n",
            "Epoch 9/10\n",
            "60000/60000 [==============================] - 10s 169us/step - loss: 0.0356 - acc: 0.9893 - val_loss: 0.0175 - val_acc: 0.9943\n",
            "Epoch 10/10\n",
            "60000/60000 [==============================] - 10s 170us/step - loss: 0.0343 - acc: 0.9897 - val_loss: 0.0190 - val_acc: 0.9932\n"
          ],
          "name": "stdout"
        }
      ]
    },
    {
      "cell_type": "code",
      "metadata": {
        "id": "u7N1EoQ0wjVD",
        "colab_type": "code",
        "outputId": "76a95eea-128e-4964-b412-be4b52ea37c2",
        "colab": {
          "base_uri": "https://localhost:8080/",
          "height": 50
        }
      },
      "source": [
        "score3 = model3.evaluate(x_test, y_test, verbose=0) \n",
        "print('Test score:', score3[0]) \n",
        "print('Test accuracy:', score3[1])"
      ],
      "execution_count": 9,
      "outputs": [
        {
          "output_type": "stream",
          "text": [
            "Test score: 0.019043457312680402\n",
            "Test accuracy: 0.9932\n"
          ],
          "name": "stdout"
        }
      ]
    },
    {
      "cell_type": "code",
      "metadata": {
        "id": "opDmqe-8xpEh",
        "colab_type": "code",
        "outputId": "208c4d2a-4fe6-44df-df4d-f3de790021b2",
        "colab": {
          "base_uri": "https://localhost:8080/",
          "height": 312
        }
      },
      "source": [
        "%matplotlib notebook\n",
        "import matplotlib.pyplot as plt\n",
        "import numpy as np\n",
        "import time\n",
        "%matplotlib inline\n",
        "# list of epoch numbers\n",
        "x = list(range(1,epochs+1))\n",
        "vy = history.history['val_loss']\n",
        "ty = history.history['loss']\n",
        "test_los,=plt.plot(x,vy,label=\"Test_loss\")\n",
        "train_los,=plt.plot(x,ty,label=\"Train_loss\")\n",
        "plt.legend(handles=[test_los,train_los])\n",
        "plt.title(\"error plot\")\n",
        "plt.xlabel(\"epochs\")\n",
        "plt.ylabel(\"loss\")"
      ],
      "execution_count": 10,
      "outputs": [
        {
          "output_type": "execute_result",
          "data": {
            "text/plain": [
              "Text(0, 0.5, 'loss')"
            ]
          },
          "metadata": {
            "tags": []
          },
          "execution_count": 10
        },
        {
          "output_type": "display_data",
          "data": {
            "image/png": "[encoded data removed]",
            "text/plain": [
              "<Figure size 432x288 with 1 Axes>"
            ]
          },
          "metadata": {
            "tags": []
          }
        }
      ]
    },
    {
      "cell_type": "markdown",
      "metadata": {
        "id": "LX9XiTxGQi5q",
        "colab_type": "text"
      },
      "source": [
        "#5 layer CNN"
      ]
    },
    {
      "cell_type": "markdown",
      "metadata": {
        "id": "zlrfIeK0Iioo",
        "colab_type": "text"
      },
      "source": [
        "#Input layer + 2conv layers + max pool + Drop out + conv layers + max pool +  Drop out + 2conv layers + max pool + Drop out + Flatten + Dense + Flatten + Drop out+ Dense layer"
      ]
    },
    {
      "cell_type": "code",
      "metadata": {
        "id": "aRspksRpJ0An",
        "colab_type": "code",
        "outputId": "adaca103-6357-4d43-e7a2-75580991ecf2",
        "colab": {
          "base_uri": "https://localhost:8080/",
          "height": 655
        }
      },
      "source": [
        "\n",
        "model5 = Sequential()\n",
        "model5.add(Conv2D(32, kernel_size=(3, 3),activation='relu',input_shape=input_shape))\n",
        "\n",
        "model5.add(Conv2D(64, (5, 5), activation='relu',padding='same'))\n",
        "model5.add(MaxPooling2D(pool_size=(2, 2)))\n",
        "model5.add(Dropout(rate=0.25))\n",
        "\n",
        "model5.add(Conv2D(128, (5, 5), activation='relu',padding='same'))\n",
        "model5.add(MaxPooling2D(pool_size=(2, 2)))\n",
        "model5.add(Dropout(rate=0.25))\n",
        "\n",
        "model5.add(Conv2D(256, (5, 5), activation='relu',padding='same'))\n",
        "model5.add(Conv2D(256, (5, 5), activation='relu',padding='same'))\n",
        "model5.add(MaxPooling2D(pool_size=(2, 2)))\n",
        "model5.add(Dropout(rate=0.5))\n",
        "\n",
        "model5.add(Flatten())\n",
        "model5.add(Dense(128, activation='relu'))\n",
        "model5.add(Dropout(rate=0.5))\n",
        "model5.add(Dense(num_classes, activation='softmax'))\n",
        "model5.summary()"
      ],
      "execution_count": 11,
      "outputs": [
        {
          "output_type": "stream",
          "text": [
            "Model: \"sequential_2\"\n",
            "_________________________________________________________________\n",
            "Layer (type)                 Output Shape              Param #   \n",
            "=================================================================\n",
            "conv2d_4 (Conv2D)            (None, 26, 26, 32)        320       \n",
            "_________________________________________________________________\n",
            "conv2d_5 (Conv2D)            (None, 26, 26, 64)        51264     \n",
            "_________________________________________________________________\n",
            "max_pooling2d_3 (MaxPooling2 (None, 13, 13, 64)        0         \n",
            "_________________________________________________________________\n",
            "dropout_4 (Dropout)          (None, 13, 13, 64)        0         \n",
            "_________________________________________________________________\n",
            "conv2d_6 (Conv2D)            (None, 13, 13, 128)       204928    \n",
            "_________________________________________________________________\n",
            "max_pooling2d_4 (MaxPooling2 (None, 6, 6, 128)         0         \n",
            "_________________________________________________________________\n",
            "dropout_5 (Dropout)          (None, 6, 6, 128)         0         \n",
            "_________________________________________________________________\n",
            "conv2d_7 (Conv2D)            (None, 6, 6, 256)         819456    \n",
            "_________________________________________________________________\n",
            "conv2d_8 (Conv2D)            (None, 6, 6, 256)         1638656   \n",
            "_________________________________________________________________\n",
            "max_pooling2d_5 (MaxPooling2 (None, 3, 3, 256)         0         \n",
            "_________________________________________________________________\n",
            "dropout_6 (Dropout)          (None, 3, 3, 256)         0         \n",
            "_________________________________________________________________\n",
            "flatten_2 (Flatten)          (None, 2304)              0         \n",
            "_________________________________________________________________\n",
            "dense_3 (Dense)              (None, 128)               295040    \n",
            "_________________________________________________________________\n",
            "dropout_7 (Dropout)          (None, 128)               0         \n",
            "_________________________________________________________________\n",
            "dense_4 (Dense)              (None, 10)                1290      \n",
            "=================================================================\n",
            "Total params: 3,010,954\n",
            "Trainable params: 3,010,954\n",
            "Non-trainable params: 0\n",
            "_________________________________________________________________\n"
          ],
          "name": "stdout"
        }
      ]
    },
    {
      "cell_type": "code",
      "metadata": {
        "id": "tNDl-KVRMI_H",
        "colab_type": "code",
        "colab": {
          "base_uri": "https://localhost:8080/",
          "height": 370
        },
        "outputId": "a115fa1c-adf4-4e6a-82f9-7d9c5db9081a"
      },
      "source": [
        "model5.compile(loss=keras.losses.categorical_crossentropy,optimizer=keras.optimizers.Adadelta(),metrics=['accuracy'])\n",
        "\n",
        "history=model5.fit(x_train, y_train,batch_size=batch_size,epochs=epochs,verbose=1,validation_data=(x_test, y_test))"
      ],
      "execution_count": 12,
      "outputs": [
        {
          "output_type": "stream",
          "text": [
            "Train on 60000 samples, validate on 10000 samples\n",
            "Epoch 1/10\n",
            "60000/60000 [==============================] - 36s 596us/step - loss: 0.3313 - acc: 0.8918 - val_loss: 0.0408 - val_acc: 0.9878\n",
            "Epoch 2/10\n",
            "60000/60000 [==============================] - 34s 560us/step - loss: 0.0610 - acc: 0.9831 - val_loss: 0.0290 - val_acc: 0.9923\n",
            "Epoch 3/10\n",
            "60000/60000 [==============================] - 34s 560us/step - loss: 0.0420 - acc: 0.9884 - val_loss: 0.0221 - val_acc: 0.9934\n",
            "Epoch 4/10\n",
            "60000/60000 [==============================] - 34s 560us/step - loss: 0.0318 - acc: 0.9915 - val_loss: 0.0226 - val_acc: 0.9929\n",
            "Epoch 5/10\n",
            "60000/60000 [==============================] - 33s 557us/step - loss: 0.0253 - acc: 0.9930 - val_loss: 0.0254 - val_acc: 0.9929\n",
            "Epoch 6/10\n",
            "60000/60000 [==============================] - 33s 555us/step - loss: 0.0211 - acc: 0.9942 - val_loss: 0.0178 - val_acc: 0.9949\n",
            "Epoch 7/10\n",
            "60000/60000 [==============================] - 33s 554us/step - loss: 0.0174 - acc: 0.9953 - val_loss: 0.0175 - val_acc: 0.9947\n",
            "Epoch 8/10\n",
            "60000/60000 [==============================] - 33s 555us/step - loss: 0.0164 - acc: 0.9952 - val_loss: 0.0224 - val_acc: 0.9932\n",
            "Epoch 9/10\n",
            "60000/60000 [==============================] - 33s 555us/step - loss: 0.0130 - acc: 0.9963 - val_loss: 0.0232 - val_acc: 0.9943\n",
            "Epoch 10/10\n",
            "60000/60000 [==============================] - 33s 554us/step - loss: 0.0119 - acc: 0.9967 - val_loss: 0.0179 - val_acc: 0.9959\n"
          ],
          "name": "stdout"
        }
      ]
    },
    {
      "cell_type": "code",
      "metadata": {
        "id": "vh9_LbAWIxRM",
        "colab_type": "code",
        "colab": {
          "base_uri": "https://localhost:8080/",
          "height": 50
        },
        "outputId": "f1be3f17-1b0d-4391-8f92-45a4e9304858"
      },
      "source": [
        "score5 = model5.evaluate(x_test, y_test, verbose=0) \n",
        "print('Test score:', score5[0]) \n",
        "print('Test accuracy:', score5[1])"
      ],
      "execution_count": 13,
      "outputs": [
        {
          "output_type": "stream",
          "text": [
            "Test score: 0.01785606231603083\n",
            "Test accuracy: 0.9959\n"
          ],
          "name": "stdout"
        }
      ]
    },
    {
      "cell_type": "code",
      "metadata": {
        "id": "ly9PFy8zJE-L",
        "colab_type": "code",
        "colab": {
          "base_uri": "https://localhost:8080/",
          "height": 312
        },
        "outputId": "f0daa33d-60ec-4a65-cbd3-0f93a635a2d9"
      },
      "source": [
        "%matplotlib notebook\n",
        "import matplotlib.pyplot as plt\n",
        "import numpy as np\n",
        "import time\n",
        "%matplotlib inline\n",
        "# list of epoch numbers\n",
        "x = list(range(1,epochs+1))\n",
        "vy = history.history['val_loss']\n",
        "ty = history.history['loss']\n",
        "test_los,=plt.plot(x,vy,label=\"Test_loss\")\n",
        "train_los,=plt.plot(x,ty,label=\"Train_loss\")\n",
        "plt.legend(handles=[test_los,train_los])\n",
        "plt.title(\"error plot\")\n",
        "plt.xlabel(\"epochs\")\n",
        "plt.ylabel(\"loss\")"
      ],
      "execution_count": 14,
      "outputs": [
        {
          "output_type": "execute_result",
          "data": {
            "text/plain": [
              "Text(0, 0.5, 'loss')"
            ]
          },
          "metadata": {
            "tags": []
          },
          "execution_count": 14
        },
        {
          "output_type": "display_data",
          "data": {
            "image/png": "[encoded data removed]",
            "text/plain": [
              "<Figure size 432x288 with 1 Axes>"
            ]
          },
          "metadata": {
            "tags": []
          }
        }
      ]
    },
    {
      "cell_type": "markdown",
      "metadata": {
        "id": "UkhoF2J9P_iX",
        "colab_type": "text"
      },
      "source": [
        "#7 layer CNN"
      ]
    },
    {
      "cell_type": "markdown",
      "metadata": {
        "id": "EFzjBcU8P_qV",
        "colab_type": "text"
      },
      "source": [
        "#Input layer + 2conv layers + max pool + Drop out + 2conv layers + max pool + Drop out + conv layers + max pool + Drop out + 2conv layers + max pool + Drop out + Flatten + Dense + Flatten + Drop out+ Dense layer\n"
      ]
    },
    {
      "cell_type": "code",
      "metadata": {
        "id": "NkiQqUb3MQZf",
        "colab_type": "code",
        "outputId": "ff1a5624-cb3a-430a-8dc5-16b13fad5330",
        "colab": {
          "base_uri": "https://localhost:8080/",
          "height": 823
        }
      },
      "source": [
        "model7 = Sequential()\n",
        "model7.add(Conv2D(32, kernel_size=(2, 2),activation='relu',input_shape=input_shape))\n",
        "\n",
        "model7.add(Conv2D(64, (5, 5), activation='relu',padding='same'))\n",
        "model7.add(MaxPooling2D(pool_size=(2, 2)))\n",
        "model7.add(Dropout(rate=0.25))\n",
        "\n",
        "model7.add(Conv2D(128, (5, 5), activation='relu',padding='same'))\n",
        "model7.add(Conv2D(128, (5, 5), activation='relu',padding='same'))\n",
        "model7.add(MaxPooling2D(pool_size=(2, 2)))\n",
        "model7.add(Dropout(rate=0.5))\n",
        "\n",
        "model7.add(Conv2D(256, (5, 5), activation='relu',padding='same'))\n",
        "model7.add(Conv2D(256, (5, 5), activation='relu',padding='same'))\n",
        "model7.add(MaxPooling2D(pool_size=(2, 2)))\n",
        "model7.add(Dropout(rate=0.5))\n",
        "\n",
        "model7.add(Conv2D(512, (5, 5), activation='relu',padding='same'))\n",
        "model7.add(Conv2D(512, (5, 5), activation='relu',padding='same'))\n",
        "model7.add(MaxPooling2D(pool_size=(2, 2)))\n",
        "model7.add(Dropout(rate=0.5))\n",
        "\n",
        "model7.add(Flatten())\n",
        "model7.add(Dense(128, activation='relu'))\n",
        "model7.add(Dropout(rate=0.5))\n",
        "model7.add(Dense(num_classes, activation='softmax'))\n",
        "model7.summary()"
      ],
      "execution_count": 15,
      "outputs": [
        {
          "output_type": "stream",
          "text": [
            "Model: \"sequential_3\"\n",
            "_________________________________________________________________\n",
            "Layer (type)                 Output Shape              Param #   \n",
            "=================================================================\n",
            "conv2d_9 (Conv2D)            (None, 27, 27, 32)        160       \n",
            "_________________________________________________________________\n",
            "conv2d_10 (Conv2D)           (None, 27, 27, 64)        51264     \n",
            "_________________________________________________________________\n",
            "max_pooling2d_6 (MaxPooling2 (None, 13, 13, 64)        0         \n",
            "_________________________________________________________________\n",
            "dropout_8 (Dropout)          (None, 13, 13, 64)        0         \n",
            "_________________________________________________________________\n",
            "conv2d_11 (Conv2D)           (None, 13, 13, 128)       204928    \n",
            "_________________________________________________________________\n",
            "conv2d_12 (Conv2D)           (None, 13, 13, 128)       409728    \n",
            "_________________________________________________________________\n",
            "max_pooling2d_7 (MaxPooling2 (None, 6, 6, 128)         0         \n",
            "_________________________________________________________________\n",
            "dropout_9 (Dropout)          (None, 6, 6, 128)         0         \n",
            "_________________________________________________________________\n",
            "conv2d_13 (Conv2D)           (None, 6, 6, 256)         819456    \n",
            "_________________________________________________________________\n",
            "conv2d_14 (Conv2D)           (None, 6, 6, 256)         1638656   \n",
            "_________________________________________________________________\n",
            "max_pooling2d_8 (MaxPooling2 (None, 3, 3, 256)         0         \n",
            "_________________________________________________________________\n",
            "dropout_10 (Dropout)         (None, 3, 3, 256)         0         \n",
            "_________________________________________________________________\n",
            "conv2d_15 (Conv2D)           (None, 3, 3, 512)         3277312   \n",
            "_________________________________________________________________\n",
            "conv2d_16 (Conv2D)           (None, 3, 3, 512)         6554112   \n",
            "_________________________________________________________________\n",
            "max_pooling2d_9 (MaxPooling2 (None, 1, 1, 512)         0         \n",
            "_________________________________________________________________\n",
            "dropout_11 (Dropout)         (None, 1, 1, 512)         0         \n",
            "_________________________________________________________________\n",
            "flatten_3 (Flatten)          (None, 512)               0         \n",
            "_________________________________________________________________\n",
            "dense_5 (Dense)              (None, 128)               65664     \n",
            "_________________________________________________________________\n",
            "dropout_12 (Dropout)         (None, 128)               0         \n",
            "_________________________________________________________________\n",
            "dense_6 (Dense)              (None, 10)                1290      \n",
            "=================================================================\n",
            "Total params: 13,022,570\n",
            "Trainable params: 13,022,570\n",
            "Non-trainable params: 0\n",
            "_________________________________________________________________\n"
          ],
          "name": "stdout"
        }
      ]
    },
    {
      "cell_type": "code",
      "metadata": {
        "id": "eyIUssokQvhi",
        "colab_type": "code",
        "outputId": "b5350ed7-6ef9-4d96-eb25-8a274a0eb514",
        "colab": {
          "base_uri": "https://localhost:8080/",
          "height": 386
        }
      },
      "source": [
        "model7.compile(loss=keras.losses.categorical_crossentropy,optimizer=keras.optimizers.Adadelta(),metrics=['accuracy'])\n",
        "\n",
        "model7.fit(x_train, y_train,batch_size=batch_size,epochs=epochs,verbose=1,validation_data=(x_test, y_test))"
      ],
      "execution_count": 16,
      "outputs": [
        {
          "output_type": "stream",
          "text": [
            "Train on 60000 samples, validate on 10000 samples\n",
            "Epoch 1/10\n",
            "60000/60000 [==============================] - 79s 1ms/step - loss: 1.1005 - acc: 0.6182 - val_loss: 0.2217 - val_acc: 0.9382\n",
            "Epoch 2/10\n",
            "60000/60000 [==============================] - 75s 1ms/step - loss: 0.1106 - acc: 0.9731 - val_loss: 0.1254 - val_acc: 0.9709\n",
            "Epoch 3/10\n",
            "60000/60000 [==============================] - 75s 1ms/step - loss: 0.0658 - acc: 0.9843 - val_loss: 0.0367 - val_acc: 0.9906\n",
            "Epoch 4/10\n",
            "60000/60000 [==============================] - 75s 1ms/step - loss: 0.0493 - acc: 0.9884 - val_loss: 0.0294 - val_acc: 0.9917\n",
            "Epoch 5/10\n",
            "60000/60000 [==============================] - 75s 1ms/step - loss: 0.0411 - acc: 0.9901 - val_loss: 0.0284 - val_acc: 0.9928\n",
            "Epoch 6/10\n",
            "60000/60000 [==============================] - 75s 1ms/step - loss: 0.0365 - acc: 0.9915 - val_loss: 0.0278 - val_acc: 0.9930\n",
            "Epoch 7/10\n",
            "60000/60000 [==============================] - 75s 1ms/step - loss: 0.0307 - acc: 0.9923 - val_loss: 0.0299 - val_acc: 0.9928\n",
            "Epoch 8/10\n",
            "60000/60000 [==============================] - 75s 1ms/step - loss: 0.0259 - acc: 0.9936 - val_loss: 0.0308 - val_acc: 0.9929\n",
            "Epoch 9/10\n",
            "60000/60000 [==============================] - 75s 1ms/step - loss: 0.0241 - acc: 0.9943 - val_loss: 0.0236 - val_acc: 0.9947\n",
            "Epoch 10/10\n",
            "60000/60000 [==============================] - 75s 1ms/step - loss: 0.0193 - acc: 0.9954 - val_loss: 0.0292 - val_acc: 0.9931\n"
          ],
          "name": "stdout"
        },
        {
          "output_type": "execute_result",
          "data": {
            "text/plain": [
              "<keras.callbacks.History at 0x7f5f77da3550>"
            ]
          },
          "metadata": {
            "tags": []
          },
          "execution_count": 16
        }
      ]
    },
    {
      "cell_type": "code",
      "metadata": {
        "id": "b6wz7C_uQ1sR",
        "colab_type": "code",
        "colab": {
          "base_uri": "https://localhost:8080/",
          "height": 50
        },
        "outputId": "2a2723c6-5e44-4beb-f52b-63e12460c552"
      },
      "source": [
        "score7 = model7.evaluate(x_test, y_test, verbose=0) \n",
        "print('Test score:', score7[0]) \n",
        "print('Test accuracy:', score7[1])"
      ],
      "execution_count": 17,
      "outputs": [
        {
          "output_type": "stream",
          "text": [
            "Test score: 0.029218063128428094\n",
            "Test accuracy: 0.9931\n"
          ],
          "name": "stdout"
        }
      ]
    },
    {
      "cell_type": "code",
      "metadata": {
        "id": "WhL7n4zaJOf-",
        "colab_type": "code",
        "colab": {
          "base_uri": "https://localhost:8080/",
          "height": 312
        },
        "outputId": "9058c91b-3b45-4ebe-be2a-6306ffaa9508"
      },
      "source": [
        "%matplotlib notebook\n",
        "import matplotlib.pyplot as plt\n",
        "import numpy as np\n",
        "import time\n",
        "%matplotlib inline\n",
        "# list of epoch numbers\n",
        "x = list(range(1,epochs+1))\n",
        "vy = history.history['val_loss']\n",
        "ty = history.history['loss']\n",
        "test_los,=plt.plot(x,vy,label=\"Test_loss\")\n",
        "train_los,=plt.plot(x,ty,label=\"Train_loss\")\n",
        "plt.legend(handles=[test_los,train_los])\n",
        "plt.title(\"error plot\")\n",
        "plt.xlabel(\"epochs\")\n",
        "plt.ylabel(\"loss\")"
      ],
      "execution_count": 18,
      "outputs": [
        {
          "output_type": "execute_result",
          "data": {
            "text/plain": [
              "Text(0, 0.5, 'loss')"
            ]
          },
          "metadata": {
            "tags": []
          },
          "execution_count": 18
        },
        {
          "output_type": "display_data",
          "data": {
            "image/png": "[encoded data removed]",
            "text/plain": [
              "<Figure size 432x288 with 1 Axes>"
            ]
          },
          "metadata": {
            "tags": []
          }
        }
      ]
    },
    {
      "cell_type": "markdown",
      "metadata": {
        "id": "Y8Tti27wJtFW",
        "colab_type": "text"
      },
      "source": [
        "#pretty table to compare 3 models"
      ]
    },
    {
      "cell_type": "code",
      "metadata": {
        "id": "See5JpdTJsKf",
        "colab_type": "code",
        "colab": {
          "base_uri": "https://localhost:8080/",
          "height": 134
        },
        "outputId": "d4034aee-48b4-4664-f95b-e300d448c8c3"
      },
      "source": [
        "from prettytable import PrettyTable\n",
        "    \n",
        "x = PrettyTable()\n",
        "\n",
        "x.field_names = [\"MLP\",\"Test_score\",\"Test_accuracy\"]\n",
        "x.add_row([\"3 LAYER\",score3[0],score3[1]])\n",
        "x.add_row([\"5 LAYER\",score5[0],score5[1]])\n",
        "x.add_row([\"7 LAYER\",score7[0],score7[1]])\n",
        "print(x)"
      ],
      "execution_count": 20,
      "outputs": [
        {
          "output_type": "stream",
          "text": [
            "+---------+----------------------+---------------+\n",
            "|   MLP   |      Test_score      | Test_accuracy |\n",
            "+---------+----------------------+---------------+\n",
            "| 3 LAYER | 0.019043457312680402 |     0.9932    |\n",
            "| 5 LAYER | 0.01785606231603083  |     0.9959    |\n",
            "| 7 LAYER | 0.029218063128428094 |     0.9931    |\n",
            "+---------+----------------------+---------------+\n"
          ],
          "name": "stdout"
        }
      ]
    },
    {
      "cell_type": "markdown",
      "metadata": {
        "id": "ksanLX9wJx-A",
        "colab_type": "text"
      },
      "source": [
        "#steps followed in presenting data"
      ]
    },
    {
      "cell_type": "markdown",
      "metadata": {
        "id": "AD1I5JnJLEua",
        "colab_type": "text"
      },
      "source": [
        "1.MNIST data set is loaded and divide in to train and test data sets.\n",
        "<br>\n",
        "2.3 different CNN architectures are applied on MNIST data to identy the digits.\n",
        "<br>\n",
        "3.since it is a multi classification problem softmax activation is used at the output layer.\n",
        "<br>\n",
        "4.Error plots are plotted for both tain and test loss.\n",
        "<br>\n",
        "5.Results obtained are represented using pretty table."
      ]
    }
  ]
}