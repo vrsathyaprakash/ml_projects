{
 "cells": [
  {
   "cell_type": "markdown",
   "metadata": {
    "colab_type": "text",
    "id": "AM7jsfwALPlp"
   },
   "source": [
    "# Amazon Fine Food Reviews Analysis\n",
    "\n",
    "\n",
    "Data Source: https://www.kaggle.com/snap/amazon-fine-food-reviews <br>\n",
    "\n",
    "EDA: https://nycdatascience.com/blog/student-works/amazon-fine-foods-visualization/\n",
    "\n",
    "\n",
    "The Amazon Fine Food Reviews dataset consists of reviews of fine foods from Amazon.<br>\n",
    "\n",
    "Number of reviews: 568,454<br>\n",
    "Number of users: 256,059<br>\n",
    "Number of products: 74,258<br>\n",
    "Timespan: Oct 1999 - Oct 2012<br>\n",
    "Number of Attributes/Columns in data: 10 \n",
    "\n",
    "Attribute Information:\n",
    "\n",
    "1. Id\n",
    "2. ProductId - unique identifier for the product\n",
    "3. UserId - unqiue identifier for the user\n",
    "4. ProfileName\n",
    "5. HelpfulnessNumerator - number of users who found the review helpful\n",
    "6. HelpfulnessDenominator - number of users who indicated whether they found the review helpful or not\n",
    "7. Score - rating between 1 and 5\n",
    "8. Time - timestamp for the review\n",
    "9. Summary - brief summary of the review\n",
    "10. Text - text of the review\n",
    "\n",
    "\n",
    "#### Objective:\n",
    "Given a review, determine whether the review is positive (rating of 4 or 5) or negative (rating of 1 or 2).\n",
    "\n",
    "<br>\n",
    "[Q] How to determine if a review is positive or negative?<br>\n",
    "<br> \n",
    "[Ans] We could use Score/Rating. A rating of 4 or 5 can be cosnidered as a positive review. A rating of 1 or 2 can be considered as negative one. A review of rating 3 is considered nuetral and such reviews are ignored from our analysis. This is an approximate and proxy way of determining the polarity (positivity/negativity) of a review.\n",
    "\n",
    "\n"
   ]
  },
  {
   "cell_type": "markdown",
   "metadata": {
    "colab_type": "text",
    "id": "CaQ7XJ4OLPls"
   },
   "source": [
    "# [1]. Reading Data"
   ]
  },
  {
   "cell_type": "markdown",
   "metadata": {
    "colab_type": "text",
    "id": "5VnEBjKRLPlu"
   },
   "source": [
    "## [1.1] Loading the data\n",
    "\n",
    "The dataset is available in two forms\n",
    "1. .csv file\n",
    "2. SQLite Database\n",
    "\n",
    "In order to load the data, We have used the SQLITE dataset as it is easier to query the data and visualise the data efficiently.\n",
    "<br> \n",
    "\n",
    "Here as we only want to get the global sentiment of the recommendations (positive or negative), we will purposefully ignore all Scores equal to 3. If the score is above 3, then the recommendation wil be set to \"positive\". Otherwise, it will be set to \"negative\"."
   ]
  },
  {
   "cell_type": "code",
   "execution_count": 1,
   "metadata": {
    "colab": {},
    "colab_type": "code",
    "id": "x6YclOzXLPlv"
   },
   "outputs": [
    {
     "name": "stderr",
     "output_type": "stream",
     "text": [
      "C:\\Users\\sowmya\\Anaconda3\\lib\\site-packages\\gensim\\utils.py:1212: UserWarning: detected Windows; aliasing chunkize to chunkize_serial\n",
      "  warnings.warn(\"detected Windows; aliasing chunkize to chunkize_serial\")\n"
     ]
    }
   ],
   "source": [
    "%matplotlib inline\n",
    "import warnings\n",
    "warnings.filterwarnings(\"ignore\")\n",
    "\n",
    "\n",
    "import sqlite3\n",
    "import pandas as pd\n",
    "import numpy as np\n",
    "import nltk\n",
    "import string\n",
    "import matplotlib.pyplot as plt\n",
    "import seaborn as sns\n",
    "from sklearn.feature_extraction.text import TfidfTransformer\n",
    "from sklearn.feature_extraction.text import TfidfVectorizer\n",
    "\n",
    "from sklearn.feature_extraction.text import CountVectorizer\n",
    "from sklearn.metrics import confusion_matrix\n",
    "from sklearn import metrics\n",
    "from sklearn.metrics import roc_curve, auc\n",
    "from nltk.stem.porter import PorterStemmer\n",
    "\n",
    "import re\n",
    "# Tutorial about Python regular expressions: https://pymotw.com/2/re/\n",
    "import string\n",
    "from nltk.corpus import stopwords\n",
    "from nltk.stem import PorterStemmer\n",
    "from nltk.stem.wordnet import WordNetLemmatizer\n",
    "\n",
    "from gensim.models import Word2Vec\n",
    "from gensim.models import KeyedVectors\n",
    "import pickle\n",
    "\n",
    "from tqdm import tqdm\n",
    "import os\n",
    "from sklearn.metrics import roc_auc_score\n",
    "from sklearn.metrics import average_precision_score\n",
    "from sklearn.metrics import confusion_matrix\n",
    "from sklearn.model_selection import train_test_split\n",
    "from sklearn.metrics import accuracy_score\n",
    "from sklearn.metrics import classification_report"
   ]
  },
  {
   "cell_type": "code",
   "execution_count": 2,
   "metadata": {
    "colab": {},
    "colab_type": "code",
    "id": "NZ4OSpSiLPl0",
    "outputId": "241c4c64-6186-4351-e38f-fcd06c6896dd"
   },
   "outputs": [
    {
     "name": "stdout",
     "output_type": "stream",
     "text": [
      "Number of data points in our data (525814, 10)\n"
     ]
    },
    {
     "data": {
      "text/html": [
       "<div>\n",
       "<style scoped>\n",
       "    .dataframe tbody tr th:only-of-type {\n",
       "        vertical-align: middle;\n",
       "    }\n",
       "\n",
       "    .dataframe tbody tr th {\n",
       "        vertical-align: top;\n",
       "    }\n",
       "\n",
       "    .dataframe thead th {\n",
       "        text-align: right;\n",
       "    }\n",
       "</style>\n",
       "<table border=\"1\" class=\"dataframe\">\n",
       "  <thead>\n",
       "    <tr style=\"text-align: right;\">\n",
       "      <th></th>\n",
       "      <th>Id</th>\n",
       "      <th>ProductId</th>\n",
       "      <th>UserId</th>\n",
       "      <th>ProfileName</th>\n",
       "      <th>HelpfulnessNumerator</th>\n",
       "      <th>HelpfulnessDenominator</th>\n",
       "      <th>Score</th>\n",
       "      <th>Time</th>\n",
       "      <th>Summary</th>\n",
       "      <th>Text</th>\n",
       "    </tr>\n",
       "  </thead>\n",
       "  <tbody>\n",
       "    <tr>\n",
       "      <th>0</th>\n",
       "      <td>1</td>\n",
       "      <td>B001E4KFG0</td>\n",
       "      <td>A3SGXH7AUHU8GW</td>\n",
       "      <td>delmartian</td>\n",
       "      <td>1</td>\n",
       "      <td>1</td>\n",
       "      <td>1</td>\n",
       "      <td>1303862400</td>\n",
       "      <td>Good Quality Dog Food</td>\n",
       "      <td>I have bought several of the Vitality canned d...</td>\n",
       "    </tr>\n",
       "    <tr>\n",
       "      <th>1</th>\n",
       "      <td>2</td>\n",
       "      <td>B00813GRG4</td>\n",
       "      <td>A1D87F6ZCVE5NK</td>\n",
       "      <td>dll pa</td>\n",
       "      <td>0</td>\n",
       "      <td>0</td>\n",
       "      <td>0</td>\n",
       "      <td>1346976000</td>\n",
       "      <td>Not as Advertised</td>\n",
       "      <td>Product arrived labeled as Jumbo Salted Peanut...</td>\n",
       "    </tr>\n",
       "    <tr>\n",
       "      <th>2</th>\n",
       "      <td>3</td>\n",
       "      <td>B000LQOCH0</td>\n",
       "      <td>ABXLMWJIXXAIN</td>\n",
       "      <td>Natalia Corres \"Natalia Corres\"</td>\n",
       "      <td>1</td>\n",
       "      <td>1</td>\n",
       "      <td>1</td>\n",
       "      <td>1219017600</td>\n",
       "      <td>\"Delight\" says it all</td>\n",
       "      <td>This is a confection that has been around a fe...</td>\n",
       "    </tr>\n",
       "  </tbody>\n",
       "</table>\n",
       "</div>"
      ],
      "text/plain": [
       "   Id   ProductId          UserId                      ProfileName  \\\n",
       "0   1  B001E4KFG0  A3SGXH7AUHU8GW                       delmartian   \n",
       "1   2  B00813GRG4  A1D87F6ZCVE5NK                           dll pa   \n",
       "2   3  B000LQOCH0   ABXLMWJIXXAIN  Natalia Corres \"Natalia Corres\"   \n",
       "\n",
       "   HelpfulnessNumerator  HelpfulnessDenominator  Score        Time  \\\n",
       "0                     1                       1      1  1303862400   \n",
       "1                     0                       0      0  1346976000   \n",
       "2                     1                       1      1  1219017600   \n",
       "\n",
       "                 Summary                                               Text  \n",
       "0  Good Quality Dog Food  I have bought several of the Vitality canned d...  \n",
       "1      Not as Advertised  Product arrived labeled as Jumbo Salted Peanut...  \n",
       "2  \"Delight\" says it all  This is a confection that has been around a fe...  "
      ]
     },
     "execution_count": 2,
     "metadata": {},
     "output_type": "execute_result"
    }
   ],
   "source": [
    "# using SQLite Table to read data.\n",
    "con = sqlite3.connect('database.sqlite') \n",
    "\n",
    "# filtering only positive and negative reviews i.e. \n",
    "# not taking into consideration those reviews with Score=3\n",
    "# SELECT * FROM Reviews WHERE Score != 3 LIMIT 500000, will give top 500000 data points\n",
    "# you can change the number to any other number based on your computing power\n",
    "\n",
    "# filtered_data = pd.read_sql_query(\"\"\" SELECT * FROM Reviews WHERE Score != 3 \"\"\", con) \n",
    "# for tsne assignment you can take 5k data points\n",
    "\n",
    "filtered_data = pd.read_sql_query(\"\"\" SELECT * FROM Reviews WHERE Score != 3 \"\"\", con) \n",
    "\n",
    "# Give reviews with Score>3 a positive rating(1), and reviews with a score<3 a negative rating(0).\n",
    "def partition(x):\n",
    "    if x < 3:\n",
    "        return 0\n",
    "    return 1\n",
    "\n",
    "#changing reviews with score less than 3 to be positive and vice-versa\n",
    "actualScore = filtered_data['Score']\n",
    "positiveNegative = actualScore.map(partition) \n",
    "filtered_data['Score'] = positiveNegative\n",
    "print(\"Number of data points in our data\", filtered_data.shape)\n",
    "filtered_data.head(3)"
   ]
  },
  {
   "cell_type": "code",
   "execution_count": 3,
   "metadata": {
    "colab": {},
    "colab_type": "code",
    "id": "r44Y4VDjLPl7"
   },
   "outputs": [],
   "source": [
    "display = pd.read_sql_query(\"\"\"\n",
    "SELECT UserId, ProductId, ProfileName, Time, Score, Text, COUNT(*)\n",
    "FROM Reviews\n",
    "GROUP BY UserId\n",
    "HAVING COUNT(*)>1\n",
    "\"\"\", con)"
   ]
  },
  {
   "cell_type": "code",
   "execution_count": 4,
   "metadata": {
    "colab": {},
    "colab_type": "code",
    "id": "tTwINQv1LPl_",
    "outputId": "0385b9ca-0a35-4c2b-b656-8e8494414e6f",
    "scrolled": true
   },
   "outputs": [
    {
     "name": "stdout",
     "output_type": "stream",
     "text": [
      "(80668, 7)\n"
     ]
    },
    {
     "data": {
      "text/html": [
       "<div>\n",
       "<style scoped>\n",
       "    .dataframe tbody tr th:only-of-type {\n",
       "        vertical-align: middle;\n",
       "    }\n",
       "\n",
       "    .dataframe tbody tr th {\n",
       "        vertical-align: top;\n",
       "    }\n",
       "\n",
       "    .dataframe thead th {\n",
       "        text-align: right;\n",
       "    }\n",
       "</style>\n",
       "<table border=\"1\" class=\"dataframe\">\n",
       "  <thead>\n",
       "    <tr style=\"text-align: right;\">\n",
       "      <th></th>\n",
       "      <th>UserId</th>\n",
       "      <th>ProductId</th>\n",
       "      <th>ProfileName</th>\n",
       "      <th>Time</th>\n",
       "      <th>Score</th>\n",
       "      <th>Text</th>\n",
       "      <th>COUNT(*)</th>\n",
       "    </tr>\n",
       "  </thead>\n",
       "  <tbody>\n",
       "    <tr>\n",
       "      <th>0</th>\n",
       "      <td>#oc-R115TNMSPFT9I7</td>\n",
       "      <td>B007Y59HVM</td>\n",
       "      <td>Breyton</td>\n",
       "      <td>1331510400</td>\n",
       "      <td>2</td>\n",
       "      <td>Overall its just OK when considering the price...</td>\n",
       "      <td>2</td>\n",
       "    </tr>\n",
       "    <tr>\n",
       "      <th>1</th>\n",
       "      <td>#oc-R11D9D7SHXIJB9</td>\n",
       "      <td>B005HG9ET0</td>\n",
       "      <td>Louis E. Emory \"hoppy\"</td>\n",
       "      <td>1342396800</td>\n",
       "      <td>5</td>\n",
       "      <td>My wife has recurring extreme muscle spasms, u...</td>\n",
       "      <td>3</td>\n",
       "    </tr>\n",
       "    <tr>\n",
       "      <th>2</th>\n",
       "      <td>#oc-R11DNU2NBKQ23Z</td>\n",
       "      <td>B007Y59HVM</td>\n",
       "      <td>Kim Cieszykowski</td>\n",
       "      <td>1348531200</td>\n",
       "      <td>1</td>\n",
       "      <td>This coffee is horrible and unfortunately not ...</td>\n",
       "      <td>2</td>\n",
       "    </tr>\n",
       "    <tr>\n",
       "      <th>3</th>\n",
       "      <td>#oc-R11O5J5ZVQE25C</td>\n",
       "      <td>B005HG9ET0</td>\n",
       "      <td>Penguin Chick</td>\n",
       "      <td>1346889600</td>\n",
       "      <td>5</td>\n",
       "      <td>This will be the bottle that you grab from the...</td>\n",
       "      <td>3</td>\n",
       "    </tr>\n",
       "    <tr>\n",
       "      <th>4</th>\n",
       "      <td>#oc-R12KPBODL2B5ZD</td>\n",
       "      <td>B007OSBE1U</td>\n",
       "      <td>Christopher P. Presta</td>\n",
       "      <td>1348617600</td>\n",
       "      <td>1</td>\n",
       "      <td>I didnt like this coffee. Instead of telling y...</td>\n",
       "      <td>2</td>\n",
       "    </tr>\n",
       "  </tbody>\n",
       "</table>\n",
       "</div>"
      ],
      "text/plain": [
       "               UserId   ProductId             ProfileName        Time  Score  \\\n",
       "0  #oc-R115TNMSPFT9I7  B007Y59HVM                 Breyton  1331510400      2   \n",
       "1  #oc-R11D9D7SHXIJB9  B005HG9ET0  Louis E. Emory \"hoppy\"  1342396800      5   \n",
       "2  #oc-R11DNU2NBKQ23Z  B007Y59HVM        Kim Cieszykowski  1348531200      1   \n",
       "3  #oc-R11O5J5ZVQE25C  B005HG9ET0           Penguin Chick  1346889600      5   \n",
       "4  #oc-R12KPBODL2B5ZD  B007OSBE1U   Christopher P. Presta  1348617600      1   \n",
       "\n",
       "                                                Text  COUNT(*)  \n",
       "0  Overall its just OK when considering the price...         2  \n",
       "1  My wife has recurring extreme muscle spasms, u...         3  \n",
       "2  This coffee is horrible and unfortunately not ...         2  \n",
       "3  This will be the bottle that you grab from the...         3  \n",
       "4  I didnt like this coffee. Instead of telling y...         2  "
      ]
     },
     "execution_count": 4,
     "metadata": {},
     "output_type": "execute_result"
    }
   ],
   "source": [
    "print(display.shape)\n",
    "display.head()"
   ]
  },
  {
   "cell_type": "code",
   "execution_count": 5,
   "metadata": {
    "colab": {},
    "colab_type": "code",
    "id": "EOslHQgnLPmF",
    "outputId": "cb28598d-470a-42bb-e742-4763f953c8cb"
   },
   "outputs": [
    {
     "data": {
      "text/html": [
       "<div>\n",
       "<style scoped>\n",
       "    .dataframe tbody tr th:only-of-type {\n",
       "        vertical-align: middle;\n",
       "    }\n",
       "\n",
       "    .dataframe tbody tr th {\n",
       "        vertical-align: top;\n",
       "    }\n",
       "\n",
       "    .dataframe thead th {\n",
       "        text-align: right;\n",
       "    }\n",
       "</style>\n",
       "<table border=\"1\" class=\"dataframe\">\n",
       "  <thead>\n",
       "    <tr style=\"text-align: right;\">\n",
       "      <th></th>\n",
       "      <th>UserId</th>\n",
       "      <th>ProductId</th>\n",
       "      <th>ProfileName</th>\n",
       "      <th>Time</th>\n",
       "      <th>Score</th>\n",
       "      <th>Text</th>\n",
       "      <th>COUNT(*)</th>\n",
       "    </tr>\n",
       "  </thead>\n",
       "  <tbody>\n",
       "    <tr>\n",
       "      <th>80638</th>\n",
       "      <td>AZY10LLTJ71NX</td>\n",
       "      <td>B006P7E5ZI</td>\n",
       "      <td>undertheshrine \"undertheshrine\"</td>\n",
       "      <td>1334707200</td>\n",
       "      <td>5</td>\n",
       "      <td>I was recommended to try green tea extract to ...</td>\n",
       "      <td>5</td>\n",
       "    </tr>\n",
       "  </tbody>\n",
       "</table>\n",
       "</div>"
      ],
      "text/plain": [
       "              UserId   ProductId                      ProfileName        Time  \\\n",
       "80638  AZY10LLTJ71NX  B006P7E5ZI  undertheshrine \"undertheshrine\"  1334707200   \n",
       "\n",
       "       Score                                               Text  COUNT(*)  \n",
       "80638      5  I was recommended to try green tea extract to ...         5  "
      ]
     },
     "execution_count": 5,
     "metadata": {},
     "output_type": "execute_result"
    }
   ],
   "source": [
    "display[display['UserId']=='AZY10LLTJ71NX']"
   ]
  },
  {
   "cell_type": "code",
   "execution_count": 6,
   "metadata": {
    "colab": {},
    "colab_type": "code",
    "id": "pSwF4sdoLPmM",
    "outputId": "2f3bd7f2-0eea-45f7-eab6-bf08c630d9a3"
   },
   "outputs": [
    {
     "data": {
      "text/plain": [
       "393063"
      ]
     },
     "execution_count": 6,
     "metadata": {},
     "output_type": "execute_result"
    }
   ],
   "source": [
    "display['COUNT(*)'].sum()"
   ]
  },
  {
   "cell_type": "markdown",
   "metadata": {
    "colab_type": "text",
    "id": "PuNkhjz0LPmQ"
   },
   "source": [
    "#  [2] Exploratory Data Analysis"
   ]
  },
  {
   "cell_type": "markdown",
   "metadata": {
    "colab_type": "text",
    "id": "oCJaTWrTLPmS"
   },
   "source": [
    "## [2.1] Data Cleaning: Deduplication\n",
    "\n",
    "It is observed (as shown in the table below) that the reviews data had many duplicate entries. Hence it was necessary to remove duplicates in order to get unbiased results for the analysis of the data.  Following is an example:"
   ]
  },
  {
   "cell_type": "code",
   "execution_count": 7,
   "metadata": {
    "colab": {},
    "colab_type": "code",
    "id": "3lvzRwWVLPmT",
    "outputId": "96ba6f90-6c40-4972-ecd2-d2d208e48877",
    "scrolled": false
   },
   "outputs": [
    {
     "data": {
      "text/html": [
       "<div>\n",
       "<style scoped>\n",
       "    .dataframe tbody tr th:only-of-type {\n",
       "        vertical-align: middle;\n",
       "    }\n",
       "\n",
       "    .dataframe tbody tr th {\n",
       "        vertical-align: top;\n",
       "    }\n",
       "\n",
       "    .dataframe thead th {\n",
       "        text-align: right;\n",
       "    }\n",
       "</style>\n",
       "<table border=\"1\" class=\"dataframe\">\n",
       "  <thead>\n",
       "    <tr style=\"text-align: right;\">\n",
       "      <th></th>\n",
       "      <th>Id</th>\n",
       "      <th>ProductId</th>\n",
       "      <th>UserId</th>\n",
       "      <th>ProfileName</th>\n",
       "      <th>HelpfulnessNumerator</th>\n",
       "      <th>HelpfulnessDenominator</th>\n",
       "      <th>Score</th>\n",
       "      <th>Time</th>\n",
       "      <th>Summary</th>\n",
       "      <th>Text</th>\n",
       "    </tr>\n",
       "  </thead>\n",
       "  <tbody>\n",
       "    <tr>\n",
       "      <th>0</th>\n",
       "      <td>78445</td>\n",
       "      <td>B000HDL1RQ</td>\n",
       "      <td>AR5J8UI46CURR</td>\n",
       "      <td>Geetha Krishnan</td>\n",
       "      <td>2</td>\n",
       "      <td>2</td>\n",
       "      <td>5</td>\n",
       "      <td>1199577600</td>\n",
       "      <td>LOACKER QUADRATINI VANILLA WAFERS</td>\n",
       "      <td>DELICIOUS WAFERS. I FIND THAT EUROPEAN WAFERS ...</td>\n",
       "    </tr>\n",
       "    <tr>\n",
       "      <th>1</th>\n",
       "      <td>138317</td>\n",
       "      <td>B000HDOPYC</td>\n",
       "      <td>AR5J8UI46CURR</td>\n",
       "      <td>Geetha Krishnan</td>\n",
       "      <td>2</td>\n",
       "      <td>2</td>\n",
       "      <td>5</td>\n",
       "      <td>1199577600</td>\n",
       "      <td>LOACKER QUADRATINI VANILLA WAFERS</td>\n",
       "      <td>DELICIOUS WAFERS. I FIND THAT EUROPEAN WAFERS ...</td>\n",
       "    </tr>\n",
       "    <tr>\n",
       "      <th>2</th>\n",
       "      <td>138277</td>\n",
       "      <td>B000HDOPYM</td>\n",
       "      <td>AR5J8UI46CURR</td>\n",
       "      <td>Geetha Krishnan</td>\n",
       "      <td>2</td>\n",
       "      <td>2</td>\n",
       "      <td>5</td>\n",
       "      <td>1199577600</td>\n",
       "      <td>LOACKER QUADRATINI VANILLA WAFERS</td>\n",
       "      <td>DELICIOUS WAFERS. I FIND THAT EUROPEAN WAFERS ...</td>\n",
       "    </tr>\n",
       "    <tr>\n",
       "      <th>3</th>\n",
       "      <td>73791</td>\n",
       "      <td>B000HDOPZG</td>\n",
       "      <td>AR5J8UI46CURR</td>\n",
       "      <td>Geetha Krishnan</td>\n",
       "      <td>2</td>\n",
       "      <td>2</td>\n",
       "      <td>5</td>\n",
       "      <td>1199577600</td>\n",
       "      <td>LOACKER QUADRATINI VANILLA WAFERS</td>\n",
       "      <td>DELICIOUS WAFERS. I FIND THAT EUROPEAN WAFERS ...</td>\n",
       "    </tr>\n",
       "    <tr>\n",
       "      <th>4</th>\n",
       "      <td>155049</td>\n",
       "      <td>B000PAQ75C</td>\n",
       "      <td>AR5J8UI46CURR</td>\n",
       "      <td>Geetha Krishnan</td>\n",
       "      <td>2</td>\n",
       "      <td>2</td>\n",
       "      <td>5</td>\n",
       "      <td>1199577600</td>\n",
       "      <td>LOACKER QUADRATINI VANILLA WAFERS</td>\n",
       "      <td>DELICIOUS WAFERS. I FIND THAT EUROPEAN WAFERS ...</td>\n",
       "    </tr>\n",
       "  </tbody>\n",
       "</table>\n",
       "</div>"
      ],
      "text/plain": [
       "       Id   ProductId         UserId      ProfileName  HelpfulnessNumerator  \\\n",
       "0   78445  B000HDL1RQ  AR5J8UI46CURR  Geetha Krishnan                     2   \n",
       "1  138317  B000HDOPYC  AR5J8UI46CURR  Geetha Krishnan                     2   \n",
       "2  138277  B000HDOPYM  AR5J8UI46CURR  Geetha Krishnan                     2   \n",
       "3   73791  B000HDOPZG  AR5J8UI46CURR  Geetha Krishnan                     2   \n",
       "4  155049  B000PAQ75C  AR5J8UI46CURR  Geetha Krishnan                     2   \n",
       "\n",
       "   HelpfulnessDenominator  Score        Time  \\\n",
       "0                       2      5  1199577600   \n",
       "1                       2      5  1199577600   \n",
       "2                       2      5  1199577600   \n",
       "3                       2      5  1199577600   \n",
       "4                       2      5  1199577600   \n",
       "\n",
       "                             Summary  \\\n",
       "0  LOACKER QUADRATINI VANILLA WAFERS   \n",
       "1  LOACKER QUADRATINI VANILLA WAFERS   \n",
       "2  LOACKER QUADRATINI VANILLA WAFERS   \n",
       "3  LOACKER QUADRATINI VANILLA WAFERS   \n",
       "4  LOACKER QUADRATINI VANILLA WAFERS   \n",
       "\n",
       "                                                Text  \n",
       "0  DELICIOUS WAFERS. I FIND THAT EUROPEAN WAFERS ...  \n",
       "1  DELICIOUS WAFERS. I FIND THAT EUROPEAN WAFERS ...  \n",
       "2  DELICIOUS WAFERS. I FIND THAT EUROPEAN WAFERS ...  \n",
       "3  DELICIOUS WAFERS. I FIND THAT EUROPEAN WAFERS ...  \n",
       "4  DELICIOUS WAFERS. I FIND THAT EUROPEAN WAFERS ...  "
      ]
     },
     "execution_count": 7,
     "metadata": {},
     "output_type": "execute_result"
    }
   ],
   "source": [
    "display= pd.read_sql_query(\"\"\"\n",
    "SELECT *\n",
    "FROM Reviews\n",
    "WHERE Score != 3 AND UserId=\"AR5J8UI46CURR\"\n",
    "ORDER BY ProductID\n",
    "\"\"\", con)\n",
    "display.head()"
   ]
  },
  {
   "cell_type": "markdown",
   "metadata": {
    "colab_type": "text",
    "id": "uT7p9_deLPmb"
   },
   "source": [
    "As it can be seen above that same user has multiple reviews with same values for HelpfulnessNumerator, HelpfulnessDenominator, Score, Time, Summary and Text and on doing analysis it was found that <br>\n",
    "<br> \n",
    "ProductId=B000HDOPZG was Loacker Quadratini Vanilla Wafer Cookies, 8.82-Ounce Packages (Pack of 8)<br>\n",
    "<br> \n",
    "ProductId=B000HDL1RQ was Loacker Quadratini Lemon Wafer Cookies, 8.82-Ounce Packages (Pack of 8) and so on<br>\n",
    "\n",
    "It was inferred after analysis that reviews with same parameters other than ProductId belonged to the same product just having different flavour or quantity. Hence in order to reduce redundancy it was decided to eliminate the rows having same parameters.<br>\n",
    "\n",
    "The method used for the same was that we first sort the data according to ProductId and then just keep the first similar product review and delelte the others. for eg. in the above just the review for ProductId=B000HDL1RQ remains. This method ensures that there is only one representative for each product and deduplication without sorting would lead to possibility of different representatives still existing for the same product."
   ]
  },
  {
   "cell_type": "code",
   "execution_count": 8,
   "metadata": {
    "colab": {},
    "colab_type": "code",
    "id": "mdsKFc50LPme"
   },
   "outputs": [],
   "source": [
    "#Sorting data according to ProductId in ascending order\n",
    "sorted_data=filtered_data.sort_values('ProductId', axis=0, ascending=True, inplace=False, kind='quicksort', na_position='last')"
   ]
  },
  {
   "cell_type": "code",
   "execution_count": 9,
   "metadata": {
    "colab": {},
    "colab_type": "code",
    "id": "2itLgX-NLPmk",
    "outputId": "ac765625-dfdc-4e4e-f886-bd3b7ca3635a"
   },
   "outputs": [
    {
     "data": {
      "text/plain": [
       "(364173, 10)"
      ]
     },
     "execution_count": 9,
     "metadata": {},
     "output_type": "execute_result"
    }
   ],
   "source": [
    "#Deduplication of entries\n",
    "final=sorted_data.drop_duplicates(subset={\"UserId\",\"ProfileName\",\"Time\",\"Text\"}, keep='first', inplace=False)\n",
    "final.shape"
   ]
  },
  {
   "cell_type": "code",
   "execution_count": 10,
   "metadata": {
    "colab": {},
    "colab_type": "code",
    "id": "IBU4iZk4LPmt",
    "outputId": "ceeba223-fe3f-407a-b4e5-0d46c08f69dd"
   },
   "outputs": [
    {
     "data": {
      "text/plain": [
       "69.25890143662969"
      ]
     },
     "execution_count": 10,
     "metadata": {},
     "output_type": "execute_result"
    }
   ],
   "source": [
    "#Checking to see how much % of data still remains\n",
    "(final['Id'].size*1.0)/(filtered_data['Id'].size*1.0)*100"
   ]
  },
  {
   "cell_type": "markdown",
   "metadata": {
    "colab_type": "text",
    "id": "gFBOfSe4LPmy"
   },
   "source": [
    "<b>Observation:-</b> It was also seen that in two rows given below the value of HelpfulnessNumerator is greater than HelpfulnessDenominator which is not practically possible hence these two rows too are removed from calcualtions"
   ]
  },
  {
   "cell_type": "code",
   "execution_count": 11,
   "metadata": {
    "colab": {},
    "colab_type": "code",
    "id": "50flE40lLPmz",
    "outputId": "b6c7e38e-25c1-4a48-be1f-70fdf31aba13"
   },
   "outputs": [
    {
     "data": {
      "text/html": [
       "<div>\n",
       "<style scoped>\n",
       "    .dataframe tbody tr th:only-of-type {\n",
       "        vertical-align: middle;\n",
       "    }\n",
       "\n",
       "    .dataframe tbody tr th {\n",
       "        vertical-align: top;\n",
       "    }\n",
       "\n",
       "    .dataframe thead th {\n",
       "        text-align: right;\n",
       "    }\n",
       "</style>\n",
       "<table border=\"1\" class=\"dataframe\">\n",
       "  <thead>\n",
       "    <tr style=\"text-align: right;\">\n",
       "      <th></th>\n",
       "      <th>Id</th>\n",
       "      <th>ProductId</th>\n",
       "      <th>UserId</th>\n",
       "      <th>ProfileName</th>\n",
       "      <th>HelpfulnessNumerator</th>\n",
       "      <th>HelpfulnessDenominator</th>\n",
       "      <th>Score</th>\n",
       "      <th>Time</th>\n",
       "      <th>Summary</th>\n",
       "      <th>Text</th>\n",
       "    </tr>\n",
       "  </thead>\n",
       "  <tbody>\n",
       "    <tr>\n",
       "      <th>0</th>\n",
       "      <td>64422</td>\n",
       "      <td>B000MIDROQ</td>\n",
       "      <td>A161DK06JJMCYF</td>\n",
       "      <td>J. E. Stephens \"Jeanne\"</td>\n",
       "      <td>3</td>\n",
       "      <td>1</td>\n",
       "      <td>5</td>\n",
       "      <td>1224892800</td>\n",
       "      <td>Bought This for My Son at College</td>\n",
       "      <td>My son loves spaghetti so I didn't hesitate or...</td>\n",
       "    </tr>\n",
       "    <tr>\n",
       "      <th>1</th>\n",
       "      <td>44737</td>\n",
       "      <td>B001EQ55RW</td>\n",
       "      <td>A2V0I904FH7ABY</td>\n",
       "      <td>Ram</td>\n",
       "      <td>3</td>\n",
       "      <td>2</td>\n",
       "      <td>4</td>\n",
       "      <td>1212883200</td>\n",
       "      <td>Pure cocoa taste with crunchy almonds inside</td>\n",
       "      <td>It was almost a 'love at first bite' - the per...</td>\n",
       "    </tr>\n",
       "  </tbody>\n",
       "</table>\n",
       "</div>"
      ],
      "text/plain": [
       "      Id   ProductId          UserId              ProfileName  \\\n",
       "0  64422  B000MIDROQ  A161DK06JJMCYF  J. E. Stephens \"Jeanne\"   \n",
       "1  44737  B001EQ55RW  A2V0I904FH7ABY                      Ram   \n",
       "\n",
       "   HelpfulnessNumerator  HelpfulnessDenominator  Score        Time  \\\n",
       "0                     3                       1      5  1224892800   \n",
       "1                     3                       2      4  1212883200   \n",
       "\n",
       "                                        Summary  \\\n",
       "0             Bought This for My Son at College   \n",
       "1  Pure cocoa taste with crunchy almonds inside   \n",
       "\n",
       "                                                Text  \n",
       "0  My son loves spaghetti so I didn't hesitate or...  \n",
       "1  It was almost a 'love at first bite' - the per...  "
      ]
     },
     "execution_count": 11,
     "metadata": {},
     "output_type": "execute_result"
    }
   ],
   "source": [
    "display= pd.read_sql_query(\"\"\"\n",
    "SELECT *\n",
    "FROM Reviews\n",
    "WHERE Score != 3 AND Id=44737 OR Id=64422\n",
    "ORDER BY ProductID\n",
    "\"\"\", con)\n",
    "\n",
    "display.head()"
   ]
  },
  {
   "cell_type": "code",
   "execution_count": 12,
   "metadata": {
    "colab": {},
    "colab_type": "code",
    "id": "0YTPJMLTLPm7"
   },
   "outputs": [],
   "source": [
    "final=final[final.HelpfulnessNumerator<=final.HelpfulnessDenominator]"
   ]
  },
  {
   "cell_type": "code",
   "execution_count": 13,
   "metadata": {
    "colab": {},
    "colab_type": "code",
    "id": "LVJ_l-x2LPnC",
    "outputId": "d4a19c7a-16fe-4b5b-c3d1-aa1ef0f948a0"
   },
   "outputs": [
    {
     "name": "stdout",
     "output_type": "stream",
     "text": [
      "(364171, 10)\n"
     ]
    },
    {
     "data": {
      "text/plain": [
       "1    307061\n",
       "0     57110\n",
       "Name: Score, dtype: int64"
      ]
     },
     "execution_count": 13,
     "metadata": {},
     "output_type": "execute_result"
    }
   ],
   "source": [
    "#Before starting the next phase of preprocessing lets see the number of entries left\n",
    "print(final.shape)\n",
    "\n",
    "#How many positive and negative reviews are present in our dataset?\n",
    "final['Score'].value_counts()"
   ]
  },
  {
   "cell_type": "markdown",
   "metadata": {
    "colab_type": "text",
    "id": "GrTYWzYrLPnH"
   },
   "source": [
    "\n",
    "#  [3] Preprocessing"
   ]
  },
  {
   "cell_type": "markdown",
   "metadata": {
    "colab_type": "text",
    "id": "zbvLitZeLPnI"
   },
   "source": [
    "## [3.1].  Preprocessing Review Text\n",
    "\n",
    "Now that we have finished deduplication our data requires some preprocessing before we go on further with analysis and making the prediction model.\n",
    "\n",
    "Hence in the Preprocessing phase we do the following in the order below:-\n",
    "\n",
    "1. Begin by removing the html tags\n",
    "2. Remove any punctuations or limited set of special characters like , or . or # etc.\n",
    "3. Check if the word is made up of english letters and is not alpha-numeric\n",
    "4. Check to see if the length of the word is greater than 2 (as it was researched that there is no adjective in 2-letters)\n",
    "5. Convert the word to lowercase\n",
    "6. Remove Stopwords\n",
    "7. Finally Snowball Stemming the word (it was obsereved to be better than Porter Stemming)<br>\n",
    "\n",
    "After which we collect the words used to describe positive and negative reviews"
   ]
  },
  {
   "cell_type": "code",
   "execution_count": 14,
   "metadata": {
    "colab": {},
    "colab_type": "code",
    "id": "yYDc0ZXALPnK",
    "outputId": "5403fab9-796a-493d-f9d3-2a410d004f64"
   },
   "outputs": [
    {
     "name": "stdout",
     "output_type": "stream",
     "text": [
      "this witty little book makes my son laugh at loud. i recite it in the car as we're driving along and he always can sing the refrain. he's learned about whales, India, drooping roses:  i love all the new words this book  introduces and the silliness of it all.  this is a classic book i am  willing to bet my son will STILL be able to recite from memory when he is  in college\n",
      "==================================================\n",
      "I was really looking forward to these pods based on the reviews.  Starbucks is good, but I prefer bolder taste.... imagine my surprise when I ordered 2 boxes - both were expired! One expired back in 2005 for gosh sakes.  I admit that Amazon agreed to credit me for cost plus part of shipping, but geez, 2 years expired!!!  I'm hoping to find local San Diego area shoppe that carries pods so that I can try something different than starbucks.\n",
      "==================================================\n",
      "Great ingredients although, chicken should have been 1st rather than chicken broth, the only thing I do not think belongs in it is Canola oil. Canola or rapeseed is not someting a dog would ever find in nature and if it did find rapeseed in nature and eat it, it would poison them. Today's Food industries have convinced the masses that Canola oil is a safe and even better oil than olive or virgin coconut, facts though say otherwise. Until the late 70's it was poisonous until they figured out a way to fix that. I still like it but it could be better.\n",
      "==================================================\n",
      "Can't do sugar.  Have tried scores of SF Syrups.  NONE of them can touch the excellence of this product.<br /><br />Thick, delicious.  Perfect.  3 ingredients: Water, Maltitol, Natural Maple Flavor.  PERIOD.  No chemicals.  No garbage.<br /><br />Have numerous friends & family members hooked on this stuff.  My husband & son, who do NOT like \"sugar free\" prefer this over major label regular syrup.<br /><br />I use this as my SWEETENER in baking: cheesecakes, white brownies, muffins, pumpkin pies, etc... Unbelievably delicious...<br /><br />Can you tell I like it? :)\n",
      "==================================================\n"
     ]
    }
   ],
   "source": [
    "# printing some random reviews\n",
    "sent_0 = final['Text'].values[0]\n",
    "print(sent_0)\n",
    "print(\"=\"*50)\n",
    "\n",
    "sent_1000 = final['Text'].values[1000]\n",
    "print(sent_1000)\n",
    "print(\"=\"*50)\n",
    "\n",
    "sent_1500 = final['Text'].values[1500]\n",
    "print(sent_1500)\n",
    "print(\"=\"*50)\n",
    "\n",
    "sent_4900 = final['Text'].values[4900]\n",
    "print(sent_4900)\n",
    "print(\"=\"*50)"
   ]
  },
  {
   "cell_type": "code",
   "execution_count": 15,
   "metadata": {
    "colab": {},
    "colab_type": "code",
    "id": "AxYh-wPiLPnS",
    "outputId": "31bddcb2-6c52-4b16-f9fb-c03d5b3bb7c8"
   },
   "outputs": [
    {
     "name": "stdout",
     "output_type": "stream",
     "text": [
      "this witty little book makes my son laugh at loud. i recite it in the car as we're driving along and he always can sing the refrain. he's learned about whales, India, drooping roses:  i love all the new words this book  introduces and the silliness of it all.  this is a classic book i am  willing to bet my son will STILL be able to recite from memory when he is  in college\n"
     ]
    }
   ],
   "source": [
    "# remove urls from text python: https://stackoverflow.com/a/40823105/4084039\n",
    "sent_0 = re.sub(r\"http\\S+\", \"\", sent_0)\n",
    "sent_1000 = re.sub(r\"http\\S+\", \"\", sent_1000)\n",
    "sent_150 = re.sub(r\"http\\S+\", \"\", sent_1500)\n",
    "sent_4900 = re.sub(r\"http\\S+\", \"\", sent_4900)\n",
    "\n",
    "print(sent_0)"
   ]
  },
  {
   "cell_type": "code",
   "execution_count": 16,
   "metadata": {
    "colab": {},
    "colab_type": "code",
    "id": "JMSSWjZqLPne",
    "outputId": "eb1bae4e-6f37-45ee-84a3-ef3bebf4e30a"
   },
   "outputs": [
    {
     "name": "stdout",
     "output_type": "stream",
     "text": [
      "this witty little book makes my son laugh at loud. i recite it in the car as we're driving along and he always can sing the refrain. he's learned about whales, India, drooping roses:  i love all the new words this book  introduces and the silliness of it all.  this is a classic book i am  willing to bet my son will STILL be able to recite from memory when he is  in college\n",
      "==================================================\n",
      "I was really looking forward to these pods based on the reviews.  Starbucks is good, but I prefer bolder taste.... imagine my surprise when I ordered 2 boxes - both were expired! One expired back in 2005 for gosh sakes.  I admit that Amazon agreed to credit me for cost plus part of shipping, but geez, 2 years expired!!!  I'm hoping to find local San Diego area shoppe that carries pods so that I can try something different than starbucks.\n",
      "==================================================\n",
      "Great ingredients although, chicken should have been 1st rather than chicken broth, the only thing I do not think belongs in it is Canola oil. Canola or rapeseed is not someting a dog would ever find in nature and if it did find rapeseed in nature and eat it, it would poison them. Today's Food industries have convinced the masses that Canola oil is a safe and even better oil than olive or virgin coconut, facts though say otherwise. Until the late 70's it was poisonous until they figured out a way to fix that. I still like it but it could be better.\n",
      "==================================================\n",
      "Can't do sugar.  Have tried scores of SF Syrups.  NONE of them can touch the excellence of this product.Thick, delicious.  Perfect.  3 ingredients: Water, Maltitol, Natural Maple Flavor.  PERIOD.  No chemicals.  No garbage.Have numerous friends & family members hooked on this stuff.  My husband & son, who do NOT like \"sugar free\" prefer this over major label regular syrup.I use this as my SWEETENER in baking: cheesecakes, white brownies, muffins, pumpkin pies, etc... Unbelievably delicious...Can you tell I like it? :)\n"
     ]
    }
   ],
   "source": [
    "# https://stackoverflow.com/questions/16206380/python-beautifulsoup-how-to-remove-all-tags-from-an-element\n",
    "from bs4 import BeautifulSoup\n",
    "\n",
    "soup = BeautifulSoup(sent_0, 'lxml')\n",
    "text = soup.get_text()\n",
    "print(text)\n",
    "print(\"=\"*50)\n",
    "\n",
    "soup = BeautifulSoup(sent_1000, 'lxml')\n",
    "text = soup.get_text()\n",
    "print(text)\n",
    "print(\"=\"*50)\n",
    "\n",
    "soup = BeautifulSoup(sent_1500, 'lxml')\n",
    "text = soup.get_text()\n",
    "print(text)\n",
    "print(\"=\"*50)\n",
    "\n",
    "soup = BeautifulSoup(sent_4900, 'lxml')\n",
    "text = soup.get_text()\n",
    "print(text)"
   ]
  },
  {
   "cell_type": "code",
   "execution_count": 17,
   "metadata": {
    "colab": {},
    "colab_type": "code",
    "id": "BEtpMkhULPnt"
   },
   "outputs": [],
   "source": [
    "# https://stackoverflow.com/a/47091490/4084039\n",
    "import re\n",
    "\n",
    "def decontracted(phrase):\n",
    "    # specific\n",
    "    phrase = re.sub(r\"won't\", \"will not\", phrase)\n",
    "    phrase = re.sub(r\"can\\'t\", \"can not\", phrase)\n",
    "\n",
    "    # general\n",
    "    phrase = re.sub(r\"n\\'t\", \" not\", phrase)\n",
    "    phrase = re.sub(r\"\\'re\", \" are\", phrase)\n",
    "    phrase = re.sub(r\"\\'s\", \" is\", phrase)\n",
    "    phrase = re.sub(r\"\\'d\", \" would\", phrase)\n",
    "    phrase = re.sub(r\"\\'ll\", \" will\", phrase)\n",
    "    phrase = re.sub(r\"\\'t\", \" not\", phrase)\n",
    "    phrase = re.sub(r\"\\'ve\", \" have\", phrase)\n",
    "    phrase = re.sub(r\"\\'m\", \" am\", phrase)\n",
    "    return phrase"
   ]
  },
  {
   "cell_type": "code",
   "execution_count": 18,
   "metadata": {
    "colab": {},
    "colab_type": "code",
    "id": "GavAnzNjLPnx",
    "outputId": "517fca9a-b1b6-4c6c-ab33-4c5ac4a5bd62"
   },
   "outputs": [
    {
     "name": "stdout",
     "output_type": "stream",
     "text": [
      "Great ingredients although, chicken should have been 1st rather than chicken broth, the only thing I do not think belongs in it is Canola oil. Canola or rapeseed is not someting a dog would ever find in nature and if it did find rapeseed in nature and eat it, it would poison them. Today is Food industries have convinced the masses that Canola oil is a safe and even better oil than olive or virgin coconut, facts though say otherwise. Until the late 70 is it was poisonous until they figured out a way to fix that. I still like it but it could be better.\n",
      "==================================================\n"
     ]
    }
   ],
   "source": [
    "sent_1500 = decontracted(sent_1500)\n",
    "print(sent_1500)\n",
    "print(\"=\"*50)"
   ]
  },
  {
   "cell_type": "code",
   "execution_count": 19,
   "metadata": {
    "colab": {},
    "colab_type": "code",
    "id": "Kl8nOoL-LPn3",
    "outputId": "16742d57-2529-4fc0-9d28-e9332dbbca97"
   },
   "outputs": [
    {
     "name": "stdout",
     "output_type": "stream",
     "text": [
      "this witty little book makes my son laugh at loud. i recite it in the car as we're driving along and he always can sing the refrain. he's learned about whales, India, drooping roses:  i love all the new words this book  introduces and the silliness of it all.  this is a classic book i am  willing to bet my son will STILL be able to recite from memory when he is  in college\n"
     ]
    }
   ],
   "source": [
    "#remove words with numbers python: https://stackoverflow.com/a/18082370/4084039\n",
    "sent_0 = re.sub(\"\\S*\\d\\S*\", \"\", sent_0).strip()\n",
    "print(sent_0)"
   ]
  },
  {
   "cell_type": "code",
   "execution_count": 20,
   "metadata": {
    "colab": {},
    "colab_type": "code",
    "id": "EGB6X2uxLPn7",
    "outputId": "dbd754e5-eb73-4b3a-f3c3-7b1b40952851"
   },
   "outputs": [
    {
     "name": "stdout",
     "output_type": "stream",
     "text": [
      "Great ingredients although chicken should have been 1st rather than chicken broth the only thing I do not think belongs in it is Canola oil Canola or rapeseed is not someting a dog would ever find in nature and if it did find rapeseed in nature and eat it it would poison them Today is Food industries have convinced the masses that Canola oil is a safe and even better oil than olive or virgin coconut facts though say otherwise Until the late 70 is it was poisonous until they figured out a way to fix that I still like it but it could be better \n"
     ]
    }
   ],
   "source": [
    "#remove spacial character: https://stackoverflow.com/a/5843547/4084039\n",
    "sent_1500 = re.sub('[^A-Za-z0-9]+', ' ', sent_1500)\n",
    "print(sent_1500)"
   ]
  },
  {
   "cell_type": "code",
   "execution_count": 21,
   "metadata": {
    "colab": {},
    "colab_type": "code",
    "id": "CCurSJJ2LPn_"
   },
   "outputs": [],
   "source": [
    "# https://gist.github.com/sebleier/554280\n",
    "# we are removing the words from the stop words list: 'no', 'nor', 'not'\n",
    "# <br /><br /> ==> after the above steps, we are getting \"br br\"\n",
    "# we are including them into stop words list\n",
    "# instead of <br /> if we have <br/> these tags would have revmoved in the 1st step\n",
    "\n",
    "stopwords= set(['br', 'the', 'i', 'me', 'my', 'myself', 'we', 'our', 'ours', 'ourselves', 'you', \"you're\", \"you've\",\\\n",
    "            \"you'll\", \"you'd\", 'your', 'yours', 'yourself', 'yourselves', 'he', 'him', 'his', 'himself', \\\n",
    "            'she', \"she's\", 'her', 'hers', 'herself', 'it', \"it's\", 'its', 'itself', 'they', 'them', 'their',\\\n",
    "            'theirs', 'themselves', 'what', 'which', 'who', 'whom', 'this', 'that', \"that'll\", 'these', 'those', \\\n",
    "            'am', 'is', 'are', 'was', 'were', 'be', 'been', 'being', 'have', 'has', 'had', 'having', 'do', 'does', \\\n",
    "            'did', 'doing', 'a', 'an', 'the', 'and', 'but', 'if', 'or', 'because', 'as', 'until', 'while', 'of', \\\n",
    "            'at', 'by', 'for', 'with', 'about', 'against', 'between', 'into', 'through', 'during', 'before', 'after',\\\n",
    "            'above', 'below', 'to', 'from', 'up', 'down', 'in', 'out', 'on', 'off', 'over', 'under', 'again', 'further',\\\n",
    "            'then', 'once', 'here', 'there', 'when', 'where', 'why', 'how', 'all', 'any', 'both', 'each', 'few', 'more',\\\n",
    "            'most', 'other', 'some', 'such', 'only', 'own', 'same', 'so', 'than', 'too', 'very', \\\n",
    "            's', 't', 'can', 'will', 'just', 'don', \"don't\", 'should', \"should've\", 'now', 'd', 'll', 'm', 'o', 're', \\\n",
    "            've', 'y', 'ain', 'aren', \"aren't\", 'couldn', \"couldn't\", 'didn', \"didn't\", 'doesn', \"doesn't\", 'hadn',\\\n",
    "            \"hadn't\", 'hasn', \"hasn't\", 'haven', \"haven't\", 'isn', \"isn't\", 'ma', 'mightn', \"mightn't\", 'mustn',\\\n",
    "            \"mustn't\", 'needn', \"needn't\", 'shan', \"shan't\", 'shouldn', \"shouldn't\", 'wasn', \"wasn't\", 'weren', \"weren't\", \\\n",
    "            'won', \"won't\", 'wouldn', \"wouldn't\"])"
   ]
  },
  {
   "cell_type": "code",
   "execution_count": 22,
   "metadata": {
    "colab": {},
    "colab_type": "code",
    "id": "mFHQEvfnLPoF",
    "outputId": "5cd6bcc3-54fe-4a8e-a39d-d6dabf3f37f9"
   },
   "outputs": [
    {
     "name": "stderr",
     "output_type": "stream",
     "text": [
      "100%|████████████████████████████████████████████████████████████████████████| 364171/364171 [03:14<00:00, 1867.72it/s]\n"
     ]
    }
   ],
   "source": [
    "# Combining all the above stundents \n",
    "from tqdm import tqdm\n",
    "preprocessed_reviews = []\n",
    "# tqdm is for printing the status bar\n",
    "for sentance in tqdm(final['Text'].values):\n",
    "    sentance = re.sub(r\"http\\S+\", \"\", sentance)\n",
    "    sentance = BeautifulSoup(sentance, 'lxml').get_text()\n",
    "    sentance = decontracted(sentance)\n",
    "    sentance = re.sub(\"\\S*\\d\\S*\", \"\", sentance).strip()\n",
    "    sentance = re.sub('[^A-Za-z]+', ' ', sentance)\n",
    "    # https://gist.github.com/sebleier/554280\n",
    "    sentance = ' '.join(e.lower() for e in sentance.split() if e.lower() not in stopwords)\n",
    "    preprocessed_reviews.append(sentance.strip())"
   ]
  },
  {
   "cell_type": "code",
   "execution_count": 23,
   "metadata": {
    "colab": {},
    "colab_type": "code",
    "id": "Tqx8QUeRLPoH",
    "outputId": "0182081c-6282-4113-b186-5b5bac596388"
   },
   "outputs": [
    {
     "data": {
      "text/plain": [
       "'great ingredients although chicken rather chicken broth thing not think belongs canola oil canola rapeseed not someting dog would ever find nature find rapeseed nature eat would poison today food industries convinced masses canola oil safe even better oil olive virgin coconut facts though say otherwise late poisonous figured way fix still like could better'"
      ]
     },
     "execution_count": 23,
     "metadata": {},
     "output_type": "execute_result"
    }
   ],
   "source": [
    "preprocessed_reviews[1500]"
   ]
  },
  {
   "cell_type": "code",
   "execution_count": 24,
   "metadata": {},
   "outputs": [
    {
     "data": {
      "text/html": [
       "<div>\n",
       "<style scoped>\n",
       "    .dataframe tbody tr th:only-of-type {\n",
       "        vertical-align: middle;\n",
       "    }\n",
       "\n",
       "    .dataframe tbody tr th {\n",
       "        vertical-align: top;\n",
       "    }\n",
       "\n",
       "    .dataframe thead th {\n",
       "        text-align: right;\n",
       "    }\n",
       "</style>\n",
       "<table border=\"1\" class=\"dataframe\">\n",
       "  <thead>\n",
       "    <tr style=\"text-align: right;\">\n",
       "      <th></th>\n",
       "      <th>Id</th>\n",
       "      <th>ProductId</th>\n",
       "      <th>UserId</th>\n",
       "      <th>ProfileName</th>\n",
       "      <th>HelpfulnessNumerator</th>\n",
       "      <th>HelpfulnessDenominator</th>\n",
       "      <th>Score</th>\n",
       "      <th>Time</th>\n",
       "      <th>Summary</th>\n",
       "      <th>Text</th>\n",
       "      <th>preprocessed_text</th>\n",
       "    </tr>\n",
       "  </thead>\n",
       "  <tbody>\n",
       "    <tr>\n",
       "      <th>138706</th>\n",
       "      <td>150524</td>\n",
       "      <td>0006641040</td>\n",
       "      <td>ACITT7DI6IDDL</td>\n",
       "      <td>shari zychinski</td>\n",
       "      <td>0</td>\n",
       "      <td>0</td>\n",
       "      <td>1</td>\n",
       "      <td>939340800</td>\n",
       "      <td>EVERY book is educational</td>\n",
       "      <td>this witty little book makes my son laugh at l...</td>\n",
       "      <td>witty little book makes son laugh loud recite ...</td>\n",
       "    </tr>\n",
       "    <tr>\n",
       "      <th>138688</th>\n",
       "      <td>150506</td>\n",
       "      <td>0006641040</td>\n",
       "      <td>A2IW4PEEKO2R0U</td>\n",
       "      <td>Tracy</td>\n",
       "      <td>1</td>\n",
       "      <td>1</td>\n",
       "      <td>1</td>\n",
       "      <td>1194739200</td>\n",
       "      <td>Love the book, miss the hard cover version</td>\n",
       "      <td>I grew up reading these Sendak books, and watc...</td>\n",
       "      <td>grew reading sendak books watching really rosi...</td>\n",
       "    </tr>\n",
       "    <tr>\n",
       "      <th>138689</th>\n",
       "      <td>150507</td>\n",
       "      <td>0006641040</td>\n",
       "      <td>A1S4A3IQ2MU7V4</td>\n",
       "      <td>sally sue \"sally sue\"</td>\n",
       "      <td>1</td>\n",
       "      <td>1</td>\n",
       "      <td>1</td>\n",
       "      <td>1191456000</td>\n",
       "      <td>chicken soup with rice months</td>\n",
       "      <td>This is a fun way for children to learn their ...</td>\n",
       "      <td>fun way children learn months year learn poems...</td>\n",
       "    </tr>\n",
       "    <tr>\n",
       "      <th>138690</th>\n",
       "      <td>150508</td>\n",
       "      <td>0006641040</td>\n",
       "      <td>AZGXZ2UUK6X</td>\n",
       "      <td>Catherine Hallberg \"(Kate)\"</td>\n",
       "      <td>1</td>\n",
       "      <td>1</td>\n",
       "      <td>1</td>\n",
       "      <td>1076025600</td>\n",
       "      <td>a good swingy rhythm for reading aloud</td>\n",
       "      <td>This is a great little book to read aloud- it ...</td>\n",
       "      <td>great little book read aloud nice rhythm well ...</td>\n",
       "    </tr>\n",
       "    <tr>\n",
       "      <th>138691</th>\n",
       "      <td>150509</td>\n",
       "      <td>0006641040</td>\n",
       "      <td>A3CMRKGE0P909G</td>\n",
       "      <td>Teresa</td>\n",
       "      <td>3</td>\n",
       "      <td>4</td>\n",
       "      <td>1</td>\n",
       "      <td>1018396800</td>\n",
       "      <td>A great way to learn the months</td>\n",
       "      <td>This is a book of poetry about the months of t...</td>\n",
       "      <td>book poetry months year goes month cute little...</td>\n",
       "    </tr>\n",
       "  </tbody>\n",
       "</table>\n",
       "</div>"
      ],
      "text/plain": [
       "            Id   ProductId          UserId                  ProfileName  \\\n",
       "138706  150524  0006641040   ACITT7DI6IDDL              shari zychinski   \n",
       "138688  150506  0006641040  A2IW4PEEKO2R0U                        Tracy   \n",
       "138689  150507  0006641040  A1S4A3IQ2MU7V4        sally sue \"sally sue\"   \n",
       "138690  150508  0006641040     AZGXZ2UUK6X  Catherine Hallberg \"(Kate)\"   \n",
       "138691  150509  0006641040  A3CMRKGE0P909G                       Teresa   \n",
       "\n",
       "        HelpfulnessNumerator  HelpfulnessDenominator  Score        Time  \\\n",
       "138706                     0                       0      1   939340800   \n",
       "138688                     1                       1      1  1194739200   \n",
       "138689                     1                       1      1  1191456000   \n",
       "138690                     1                       1      1  1076025600   \n",
       "138691                     3                       4      1  1018396800   \n",
       "\n",
       "                                           Summary  \\\n",
       "138706                   EVERY book is educational   \n",
       "138688  Love the book, miss the hard cover version   \n",
       "138689               chicken soup with rice months   \n",
       "138690      a good swingy rhythm for reading aloud   \n",
       "138691             A great way to learn the months   \n",
       "\n",
       "                                                     Text  \\\n",
       "138706  this witty little book makes my son laugh at l...   \n",
       "138688  I grew up reading these Sendak books, and watc...   \n",
       "138689  This is a fun way for children to learn their ...   \n",
       "138690  This is a great little book to read aloud- it ...   \n",
       "138691  This is a book of poetry about the months of t...   \n",
       "\n",
       "                                        preprocessed_text  \n",
       "138706  witty little book makes son laugh loud recite ...  \n",
       "138688  grew reading sendak books watching really rosi...  \n",
       "138689  fun way children learn months year learn poems...  \n",
       "138690  great little book read aloud nice rhythm well ...  \n",
       "138691  book poetry months year goes month cute little...  "
      ]
     },
     "execution_count": 24,
     "metadata": {},
     "output_type": "execute_result"
    }
   ],
   "source": [
    "final['preprocessed_text']=preprocessed_reviews\n",
    "final.head()"
   ]
  },
  {
   "cell_type": "markdown",
   "metadata": {
    "colab_type": "text",
    "id": "9IuKp2HULPoL"
   },
   "source": [
    "\n",
    "<h2><font color='red'>[3.2] Preprocessing Review Summary</font></h2>"
   ]
  },
  {
   "cell_type": "code",
   "execution_count": 25,
   "metadata": {
    "colab": {},
    "colab_type": "code",
    "id": "Qk7gYOmKLPoM"
   },
   "outputs": [
    {
     "name": "stdout",
     "output_type": "stream",
     "text": [
      "EVERY book is educational\n",
      "==================================================\n",
      "Shipment was expired by 2 years\n",
      "==================================================\n",
      "Would be best if Canola Oil was left out\n",
      "==================================================\n",
      "Best SF Syrup on the market!\n",
      "==================================================\n"
     ]
    }
   ],
   "source": [
    "## Similartly you can do preprocessing for review summary also.\n",
    "# printing some random reviews\n",
    "sent_0 = final['Summary'].values[0]\n",
    "print(sent_0)\n",
    "print(\"=\"*50)\n",
    "\n",
    "sent_1000 = final['Summary'].values[1000]\n",
    "print(sent_1000)\n",
    "print(\"=\"*50)\n",
    "\n",
    "sent_1500 = final['Summary'].values[1500]\n",
    "print(sent_1500)\n",
    "print(\"=\"*50)\n",
    "\n",
    "sent_4900 = final['Summary'].values[4900]\n",
    "print(sent_4900)\n",
    "print(\"=\"*50)"
   ]
  },
  {
   "cell_type": "code",
   "execution_count": 26,
   "metadata": {},
   "outputs": [
    {
     "name": "stdout",
     "output_type": "stream",
     "text": [
      "EVERY book is educational\n"
     ]
    }
   ],
   "source": [
    "# remove urls from text python: https://stackoverflow.com/a/40823105/4084039\n",
    "sent_0 = re.sub(r\"http\\S+\", \"\", sent_0)\n",
    "sent_1000 = re.sub(r\"http\\S+\", \"\", sent_1000)\n",
    "sent_150 = re.sub(r\"http\\S+\", \"\", sent_1500)\n",
    "sent_4900 = re.sub(r\"http\\S+\", \"\", sent_4900)\n",
    "\n",
    "print(sent_0)"
   ]
  },
  {
   "cell_type": "code",
   "execution_count": 27,
   "metadata": {
    "colab": {},
    "colab_type": "code",
    "id": "JMSSWjZqLPne",
    "outputId": "eb1bae4e-6f37-45ee-84a3-ef3bebf4e30a"
   },
   "outputs": [
    {
     "name": "stdout",
     "output_type": "stream",
     "text": [
      "EVERY book is educational\n",
      "==================================================\n",
      "Shipment was expired by 2 years\n",
      "==================================================\n",
      "Would be best if Canola Oil was left out\n",
      "==================================================\n",
      "Best SF Syrup on the market!\n"
     ]
    }
   ],
   "source": [
    "# https://stackoverflow.com/questions/16206380/python-beautifulsoup-how-to-remove-all-tags-from-an-element\n",
    "from bs4 import BeautifulSoup\n",
    "\n",
    "soup = BeautifulSoup(sent_0, 'lxml')\n",
    "text = soup.get_text()\n",
    "print(text)\n",
    "print(\"=\"*50)\n",
    "\n",
    "soup = BeautifulSoup(sent_1000, 'lxml')\n",
    "text = soup.get_text()\n",
    "print(text)\n",
    "print(\"=\"*50)\n",
    "\n",
    "soup = BeautifulSoup(sent_1500, 'lxml')\n",
    "text = soup.get_text()\n",
    "print(text)\n",
    "print(\"=\"*50)\n",
    "\n",
    "soup = BeautifulSoup(sent_4900, 'lxml')\n",
    "text = soup.get_text()\n",
    "print(text)"
   ]
  },
  {
   "cell_type": "code",
   "execution_count": 28,
   "metadata": {
    "colab": {},
    "colab_type": "code",
    "id": "BEtpMkhULPnt"
   },
   "outputs": [],
   "source": [
    "# https://stackoverflow.com/a/47091490/4084039\n",
    "import re\n",
    "\n",
    "def decontracted(phrase):\n",
    "    # specific\n",
    "    phrase = re.sub(r\"won't\", \"will not\", phrase)\n",
    "    phrase = re.sub(r\"can\\'t\", \"can not\", phrase)\n",
    "\n",
    "    # general\n",
    "    phrase = re.sub(r\"n\\'t\", \" not\", phrase)\n",
    "    phrase = re.sub(r\"\\'re\", \" are\", phrase)\n",
    "    phrase = re.sub(r\"\\'s\", \" is\", phrase)\n",
    "    phrase = re.sub(r\"\\'d\", \" would\", phrase)\n",
    "    phrase = re.sub(r\"\\'ll\", \" will\", phrase)\n",
    "    phrase = re.sub(r\"\\'t\", \" not\", phrase)\n",
    "    phrase = re.sub(r\"\\'ve\", \" have\", phrase)\n",
    "    phrase = re.sub(r\"\\'m\", \" am\", phrase)\n",
    "    return phrase"
   ]
  },
  {
   "cell_type": "code",
   "execution_count": 29,
   "metadata": {
    "colab": {},
    "colab_type": "code",
    "id": "GavAnzNjLPnx",
    "outputId": "517fca9a-b1b6-4c6c-ab33-4c5ac4a5bd62"
   },
   "outputs": [
    {
     "name": "stdout",
     "output_type": "stream",
     "text": [
      "Shipment was expired by 2 years\n",
      "==================================================\n"
     ]
    }
   ],
   "source": [
    "sent_1500 = decontracted(sent_1000)\n",
    "print(sent_1500)\n",
    "print(\"=\"*50)"
   ]
  },
  {
   "cell_type": "code",
   "execution_count": 30,
   "metadata": {
    "colab": {},
    "colab_type": "code",
    "id": "Kl8nOoL-LPn3",
    "outputId": "16742d57-2529-4fc0-9d28-e9332dbbca97"
   },
   "outputs": [
    {
     "name": "stdout",
     "output_type": "stream",
     "text": [
      "Shipment was expired by 2 years\n"
     ]
    }
   ],
   "source": [
    "#remove words with numbers python: https://stackoverflow.com/a/18082370/4084039\n",
    "sent_0 = re.sub(\"\\S*\\d\\S*\", \"\", sent_1000).strip()\n",
    "print(sent_1000)"
   ]
  },
  {
   "cell_type": "code",
   "execution_count": 31,
   "metadata": {
    "colab": {},
    "colab_type": "code",
    "id": "EGB6X2uxLPn7",
    "outputId": "dbd754e5-eb73-4b3a-f3c3-7b1b40952851"
   },
   "outputs": [
    {
     "name": "stdout",
     "output_type": "stream",
     "text": [
      "Shipment was expired by 2 years\n"
     ]
    }
   ],
   "source": [
    "#remove spacial character: https://stackoverflow.com/a/5843547/4084039\n",
    "sent_1500 = re.sub('[^A-Za-z0-9]+', ' ', sent_1500)\n",
    "print(sent_1500)"
   ]
  },
  {
   "cell_type": "code",
   "execution_count": 32,
   "metadata": {
    "colab": {},
    "colab_type": "code",
    "id": "CCurSJJ2LPn_"
   },
   "outputs": [],
   "source": [
    "# https://gist.github.com/sebleier/554280\n",
    "# we are removing the words from the stop words list: 'no', 'nor', 'not'\n",
    "# <br /><br /> ==> after the above steps, we are getting \"br br\"\n",
    "# we are including them into stop words list\n",
    "# instead of <br /> if we have <br/> these tags would have revmoved in the 1st step\n",
    "\n",
    "stopwords= set(['br', 'the', 'i', 'me', 'my', 'myself', 'we', 'our', 'ours', 'ourselves', 'you', \"you're\", \"you've\",\\\n",
    "            \"you'll\", \"you'd\", 'your', 'yours', 'yourself', 'yourselves', 'he', 'him', 'his', 'himself', \\\n",
    "            'she', \"she's\", 'her', 'hers', 'herself', 'it', \"it's\", 'its', 'itself', 'they', 'them', 'their',\\\n",
    "            'theirs', 'themselves', 'what', 'which', 'who', 'whom', 'this', 'that', \"that'll\", 'these', 'those', \\\n",
    "            'am', 'is', 'are', 'was', 'were', 'be', 'been', 'being', 'have', 'has', 'had', 'having', 'do', 'does', \\\n",
    "            'did', 'doing', 'a', 'an', 'the', 'and', 'but', 'if', 'or', 'because', 'as', 'until', 'while', 'of', \\\n",
    "            'at', 'by', 'for', 'with', 'about', 'against', 'between', 'into', 'through', 'during', 'before', 'after',\\\n",
    "            'above', 'below', 'to', 'from', 'up', 'down', 'in', 'out', 'on', 'off', 'over', 'under', 'again', 'further',\\\n",
    "            'then', 'once', 'here', 'there', 'when', 'where', 'why', 'how', 'all', 'any', 'both', 'each', 'few', 'more',\\\n",
    "            'most', 'other', 'some', 'such', 'only', 'own', 'same', 'so', 'than', 'too', 'very', \\\n",
    "            's', 't', 'can', 'will', 'just', 'don', \"don't\", 'should', \"should've\", 'now', 'd', 'll', 'm', 'o', 're', \\\n",
    "            've', 'y', 'ain', 'aren', \"aren't\", 'couldn', \"couldn't\", 'didn', \"didn't\", 'doesn', \"doesn't\", 'hadn',\\\n",
    "            \"hadn't\", 'hasn', \"hasn't\", 'haven', \"haven't\", 'isn', \"isn't\", 'ma', 'mightn', \"mightn't\", 'mustn',\\\n",
    "            \"mustn't\", 'needn', \"needn't\", 'shan', \"shan't\", 'shouldn', \"shouldn't\", 'wasn', \"wasn't\", 'weren', \"weren't\", \\\n",
    "            'won', \"won't\", 'wouldn', \"wouldn't\"])"
   ]
  },
  {
   "cell_type": "code",
   "execution_count": 33,
   "metadata": {
    "colab": {},
    "colab_type": "code",
    "id": "mFHQEvfnLPoF",
    "outputId": "5cd6bcc3-54fe-4a8e-a39d-d6dabf3f37f9"
   },
   "outputs": [
    {
     "name": "stderr",
     "output_type": "stream",
     "text": [
      "  0%|                                                                           | 176/364171 [00:00<03:46, 1609.59it/s]C:\\Users\\sowmya\\Anaconda3\\lib\\site-packages\\bs4\\__init__.py:219: UserWarning: \"b'...'\" looks like a filename, not markup. You should probably open this file and pass the filehandle into Beautiful Soup.\n",
      "  ' Beautiful Soup.' % markup)\n",
      "  6%|████▍                                                                    | 22344/364171 [00:11<02:17, 2493.92it/s]C:\\Users\\sowmya\\Anaconda3\\lib\\site-packages\\bs4\\__init__.py:219: UserWarning: \"b'.'\" looks like a filename, not markup. You should probably open this file and pass the filehandle into Beautiful Soup.\n",
      "  ' Beautiful Soup.' % markup)\n",
      " 10%|███████▏                                                                 | 35922/364171 [00:17<02:40, 2041.95it/s]C:\\Users\\sowmya\\Anaconda3\\lib\\site-packages\\bs4\\__init__.py:219: UserWarning: \"b'...'\" looks like a filename, not markup. You should probably open this file and pass the filehandle into Beautiful Soup.\n",
      "  ' Beautiful Soup.' % markup)\n",
      " 10%|███████▍                                                                 | 36984/364171 [00:18<02:20, 2323.02it/s]C:\\Users\\sowmya\\Anaconda3\\lib\\site-packages\\bs4\\__init__.py:219: UserWarning: \"b'...'\" looks like a filename, not markup. You should probably open this file and pass the filehandle into Beautiful Soup.\n",
      "  ' Beautiful Soup.' % markup)\n",
      " 14%|██████████▎                                                              | 51715/364171 [00:24<02:09, 2411.58it/s]C:\\Users\\sowmya\\Anaconda3\\lib\\site-packages\\bs4\\__init__.py:219: UserWarning: \"b'...'\" looks like a filename, not markup. You should probably open this file and pass the filehandle into Beautiful Soup.\n",
      "  ' Beautiful Soup.' % markup)\n",
      " 27%|███████████████████▋                                                     | 98156/364171 [00:42<02:16, 1952.24it/s]C:\\Users\\sowmya\\Anaconda3\\lib\\site-packages\\bs4\\__init__.py:219: UserWarning: \"b'.'\" looks like a filename, not markup. You should probably open this file and pass the filehandle into Beautiful Soup.\n",
      "  ' Beautiful Soup.' % markup)\n",
      " 27%|███████████████████▋                                                     | 98514/364171 [00:42<01:59, 2219.88it/s]C:\\Users\\sowmya\\Anaconda3\\lib\\site-packages\\bs4\\__init__.py:219: UserWarning: \"b'.'\" looks like a filename, not markup. You should probably open this file and pass the filehandle into Beautiful Soup.\n",
      "  ' Beautiful Soup.' % markup)\n",
      " 32%|██████████████████████▊                                                 | 115582/364171 [00:49<01:31, 2704.51it/s]C:\\Users\\sowmya\\Anaconda3\\lib\\site-packages\\bs4\\__init__.py:219: UserWarning: \"b'...'\" looks like a filename, not markup. You should probably open this file and pass the filehandle into Beautiful Soup.\n",
      "  ' Beautiful Soup.' % markup)\n",
      " 40%|████████████████████████████▌                                           | 144580/364171 [00:59<01:18, 2810.05it/s]C:\\Users\\sowmya\\Anaconda3\\lib\\site-packages\\bs4\\__init__.py:219: UserWarning: \"b'...'\" looks like a filename, not markup. You should probably open this file and pass the filehandle into Beautiful Soup.\n",
      "  ' Beautiful Soup.' % markup)\n",
      " 41%|█████████████████████████████▌                                          | 149590/364171 [01:01<01:20, 2660.97it/s]C:\\Users\\sowmya\\Anaconda3\\lib\\site-packages\\bs4\\__init__.py:219: UserWarning: \"b'...'\" looks like a filename, not markup. You should probably open this file and pass the filehandle into Beautiful Soup.\n",
      "  ' Beautiful Soup.' % markup)\n",
      " 60%|██████████████████████████████████████████▉                             | 216965/364171 [01:26<00:48, 3027.05it/s]C:\\Users\\sowmya\\Anaconda3\\lib\\site-packages\\bs4\\__init__.py:219: UserWarning: \"b'.'\" looks like a filename, not markup. You should probably open this file and pass the filehandle into Beautiful Soup.\n",
      "  ' Beautiful Soup.' % markup)\n",
      " 68%|█████████████████████████████████████████████████                       | 248363/364171 [01:37<00:40, 2892.70it/s]C:\\Users\\sowmya\\Anaconda3\\lib\\site-packages\\bs4\\__init__.py:219: UserWarning: \"b'...'\" looks like a filename, not markup. You should probably open this file and pass the filehandle into Beautiful Soup.\n",
      "  ' Beautiful Soup.' % markup)\n",
      " 78%|███████████████████████████████████████████████████████▊                | 282547/364171 [01:50<00:31, 2614.89it/s]C:\\Users\\sowmya\\Anaconda3\\lib\\site-packages\\bs4\\__init__.py:219: UserWarning: \"b'...'\" looks like a filename, not markup. You should probably open this file and pass the filehandle into Beautiful Soup.\n",
      "  ' Beautiful Soup.' % markup)\n",
      " 89%|████████████████████████████████████████████████████████████████        | 323934/364171 [02:06<00:13, 3034.47it/s]C:\\Users\\sowmya\\Anaconda3\\lib\\site-packages\\bs4\\__init__.py:219: UserWarning: \"b'...'\" looks like a filename, not markup. You should probably open this file and pass the filehandle into Beautiful Soup.\n",
      "  ' Beautiful Soup.' % markup)\n",
      " 91%|█████████████████████████████████████████████████████████████████▏      | 329614/364171 [02:08<00:10, 3200.96it/s]C:\\Users\\sowmya\\Anaconda3\\lib\\site-packages\\bs4\\__init__.py:219: UserWarning: \"b'...'\" looks like a filename, not markup. You should probably open this file and pass the filehandle into Beautiful Soup.\n",
      "  ' Beautiful Soup.' % markup)\n",
      " 92%|██████████████████████████████████████████████████████████████████▎     | 335135/364171 [02:09<00:08, 3349.58it/s]C:\\Users\\sowmya\\Anaconda3\\lib\\site-packages\\bs4\\__init__.py:219: UserWarning: \"b'...'\" looks like a filename, not markup. You should probably open this file and pass the filehandle into Beautiful Soup.\n",
      "  ' Beautiful Soup.' % markup)\n",
      " 97%|██████████████████████████████████████████████████████████████████████▏ | 354852/364171 [02:16<00:03, 3029.55it/s]C:\\Users\\sowmya\\Anaconda3\\lib\\site-packages\\bs4\\__init__.py:219: UserWarning: \"b'.'\" looks like a filename, not markup. You should probably open this file and pass the filehandle into Beautiful Soup.\n",
      "  ' Beautiful Soup.' % markup)\n",
      " 99%|███████████████████████████████████████████████████████████████████████ | 359221/364171 [02:17<00:01, 3153.41it/s]C:\\Users\\sowmya\\Anaconda3\\lib\\site-packages\\bs4\\__init__.py:219: UserWarning: \"b'...'\" looks like a filename, not markup. You should probably open this file and pass the filehandle into Beautiful Soup.\n",
      "  ' Beautiful Soup.' % markup)\n",
      "C:\\Users\\sowmya\\Anaconda3\\lib\\site-packages\\bs4\\__init__.py:219: UserWarning: \"b'...'\" looks like a filename, not markup. You should probably open this file and pass the filehandle into Beautiful Soup.\n",
      "  ' Beautiful Soup.' % markup)\n",
      "100%|████████████████████████████████████████████████████████████████████████| 364171/364171 [02:19<00:00, 2619.37it/s]\n"
     ]
    }
   ],
   "source": [
    "# Combining all the above stundents \n",
    "from tqdm import tqdm\n",
    "preprocessed_summary = []\n",
    "# tqdm is for printing the status bar\n",
    "for sentance in tqdm(final['Summary'].values):\n",
    "    sentance = re.sub(r\"http\\S+\", \"\", sentance)\n",
    "    sentance = BeautifulSoup(sentance, 'lxml').get_text()\n",
    "    sentance = decontracted(sentance)\n",
    "    sentance = re.sub(\"\\S*\\d\\S*\", \"\", sentance).strip()\n",
    "    sentance = re.sub('[^A-Za-z]+', ' ', sentance)\n",
    "    # https://gist.github.com/sebleier/554280\n",
    "    sentance = ' '.join(e.lower() for e in sentance.split() if e.lower() not in stopwords)\n",
    "    preprocessed_summary.append(sentance.strip())"
   ]
  },
  {
   "cell_type": "code",
   "execution_count": 34,
   "metadata": {
    "colab": {},
    "colab_type": "code",
    "id": "Tqx8QUeRLPoH",
    "outputId": "0182081c-6282-4113-b186-5b5bac596388"
   },
   "outputs": [
    {
     "data": {
      "text/plain": [
       "'best sf syrup market'"
      ]
     },
     "execution_count": 34,
     "metadata": {},
     "output_type": "execute_result"
    }
   ],
   "source": [
    "preprocessed_summary[4900]"
   ]
  },
  {
   "cell_type": "code",
   "execution_count": 35,
   "metadata": {},
   "outputs": [
    {
     "data": {
      "text/html": [
       "<div>\n",
       "<style scoped>\n",
       "    .dataframe tbody tr th:only-of-type {\n",
       "        vertical-align: middle;\n",
       "    }\n",
       "\n",
       "    .dataframe tbody tr th {\n",
       "        vertical-align: top;\n",
       "    }\n",
       "\n",
       "    .dataframe thead th {\n",
       "        text-align: right;\n",
       "    }\n",
       "</style>\n",
       "<table border=\"1\" class=\"dataframe\">\n",
       "  <thead>\n",
       "    <tr style=\"text-align: right;\">\n",
       "      <th></th>\n",
       "      <th>Id</th>\n",
       "      <th>ProductId</th>\n",
       "      <th>UserId</th>\n",
       "      <th>ProfileName</th>\n",
       "      <th>HelpfulnessNumerator</th>\n",
       "      <th>HelpfulnessDenominator</th>\n",
       "      <th>Score</th>\n",
       "      <th>Time</th>\n",
       "      <th>Summary</th>\n",
       "      <th>Text</th>\n",
       "      <th>preprocessed_text</th>\n",
       "      <th>preprocessed_summary</th>\n",
       "    </tr>\n",
       "  </thead>\n",
       "  <tbody>\n",
       "    <tr>\n",
       "      <th>138706</th>\n",
       "      <td>150524</td>\n",
       "      <td>0006641040</td>\n",
       "      <td>ACITT7DI6IDDL</td>\n",
       "      <td>shari zychinski</td>\n",
       "      <td>0</td>\n",
       "      <td>0</td>\n",
       "      <td>1</td>\n",
       "      <td>939340800</td>\n",
       "      <td>EVERY book is educational</td>\n",
       "      <td>this witty little book makes my son laugh at l...</td>\n",
       "      <td>witty little book makes son laugh loud recite ...</td>\n",
       "      <td>every book educational</td>\n",
       "    </tr>\n",
       "    <tr>\n",
       "      <th>138688</th>\n",
       "      <td>150506</td>\n",
       "      <td>0006641040</td>\n",
       "      <td>A2IW4PEEKO2R0U</td>\n",
       "      <td>Tracy</td>\n",
       "      <td>1</td>\n",
       "      <td>1</td>\n",
       "      <td>1</td>\n",
       "      <td>1194739200</td>\n",
       "      <td>Love the book, miss the hard cover version</td>\n",
       "      <td>I grew up reading these Sendak books, and watc...</td>\n",
       "      <td>grew reading sendak books watching really rosi...</td>\n",
       "      <td>love book miss hard cover version</td>\n",
       "    </tr>\n",
       "    <tr>\n",
       "      <th>138689</th>\n",
       "      <td>150507</td>\n",
       "      <td>0006641040</td>\n",
       "      <td>A1S4A3IQ2MU7V4</td>\n",
       "      <td>sally sue \"sally sue\"</td>\n",
       "      <td>1</td>\n",
       "      <td>1</td>\n",
       "      <td>1</td>\n",
       "      <td>1191456000</td>\n",
       "      <td>chicken soup with rice months</td>\n",
       "      <td>This is a fun way for children to learn their ...</td>\n",
       "      <td>fun way children learn months year learn poems...</td>\n",
       "      <td>chicken soup rice months</td>\n",
       "    </tr>\n",
       "    <tr>\n",
       "      <th>138690</th>\n",
       "      <td>150508</td>\n",
       "      <td>0006641040</td>\n",
       "      <td>AZGXZ2UUK6X</td>\n",
       "      <td>Catherine Hallberg \"(Kate)\"</td>\n",
       "      <td>1</td>\n",
       "      <td>1</td>\n",
       "      <td>1</td>\n",
       "      <td>1076025600</td>\n",
       "      <td>a good swingy rhythm for reading aloud</td>\n",
       "      <td>This is a great little book to read aloud- it ...</td>\n",
       "      <td>great little book read aloud nice rhythm well ...</td>\n",
       "      <td>good swingy rhythm reading aloud</td>\n",
       "    </tr>\n",
       "    <tr>\n",
       "      <th>138691</th>\n",
       "      <td>150509</td>\n",
       "      <td>0006641040</td>\n",
       "      <td>A3CMRKGE0P909G</td>\n",
       "      <td>Teresa</td>\n",
       "      <td>3</td>\n",
       "      <td>4</td>\n",
       "      <td>1</td>\n",
       "      <td>1018396800</td>\n",
       "      <td>A great way to learn the months</td>\n",
       "      <td>This is a book of poetry about the months of t...</td>\n",
       "      <td>book poetry months year goes month cute little...</td>\n",
       "      <td>great way learn months</td>\n",
       "    </tr>\n",
       "  </tbody>\n",
       "</table>\n",
       "</div>"
      ],
      "text/plain": [
       "            Id   ProductId          UserId                  ProfileName  \\\n",
       "138706  150524  0006641040   ACITT7DI6IDDL              shari zychinski   \n",
       "138688  150506  0006641040  A2IW4PEEKO2R0U                        Tracy   \n",
       "138689  150507  0006641040  A1S4A3IQ2MU7V4        sally sue \"sally sue\"   \n",
       "138690  150508  0006641040     AZGXZ2UUK6X  Catherine Hallberg \"(Kate)\"   \n",
       "138691  150509  0006641040  A3CMRKGE0P909G                       Teresa   \n",
       "\n",
       "        HelpfulnessNumerator  HelpfulnessDenominator  Score        Time  \\\n",
       "138706                     0                       0      1   939340800   \n",
       "138688                     1                       1      1  1194739200   \n",
       "138689                     1                       1      1  1191456000   \n",
       "138690                     1                       1      1  1076025600   \n",
       "138691                     3                       4      1  1018396800   \n",
       "\n",
       "                                           Summary  \\\n",
       "138706                   EVERY book is educational   \n",
       "138688  Love the book, miss the hard cover version   \n",
       "138689               chicken soup with rice months   \n",
       "138690      a good swingy rhythm for reading aloud   \n",
       "138691             A great way to learn the months   \n",
       "\n",
       "                                                     Text  \\\n",
       "138706  this witty little book makes my son laugh at l...   \n",
       "138688  I grew up reading these Sendak books, and watc...   \n",
       "138689  This is a fun way for children to learn their ...   \n",
       "138690  This is a great little book to read aloud- it ...   \n",
       "138691  This is a book of poetry about the months of t...   \n",
       "\n",
       "                                        preprocessed_text  \\\n",
       "138706  witty little book makes son laugh loud recite ...   \n",
       "138688  grew reading sendak books watching really rosi...   \n",
       "138689  fun way children learn months year learn poems...   \n",
       "138690  great little book read aloud nice rhythm well ...   \n",
       "138691  book poetry months year goes month cute little...   \n",
       "\n",
       "                     preprocessed_summary  \n",
       "138706             every book educational  \n",
       "138688  love book miss hard cover version  \n",
       "138689           chicken soup rice months  \n",
       "138690   good swingy rhythm reading aloud  \n",
       "138691             great way learn months  "
      ]
     },
     "execution_count": 35,
     "metadata": {},
     "output_type": "execute_result"
    }
   ],
   "source": [
    "final['preprocessed_summary']=preprocessed_summary\n",
    "final.head()"
   ]
  },
  {
   "cell_type": "code",
   "execution_count": 36,
   "metadata": {},
   "outputs": [
    {
     "name": "stdout",
     "output_type": "stream",
     "text": [
      "(364171, 12)\n"
     ]
    },
    {
     "data": {
      "text/html": [
       "<div>\n",
       "<style scoped>\n",
       "    .dataframe tbody tr th:only-of-type {\n",
       "        vertical-align: middle;\n",
       "    }\n",
       "\n",
       "    .dataframe tbody tr th {\n",
       "        vertical-align: top;\n",
       "    }\n",
       "\n",
       "    .dataframe thead th {\n",
       "        text-align: right;\n",
       "    }\n",
       "</style>\n",
       "<table border=\"1\" class=\"dataframe\">\n",
       "  <thead>\n",
       "    <tr style=\"text-align: right;\">\n",
       "      <th></th>\n",
       "      <th>Id</th>\n",
       "      <th>ProductId</th>\n",
       "      <th>UserId</th>\n",
       "      <th>ProfileName</th>\n",
       "      <th>HelpfulnessNumerator</th>\n",
       "      <th>HelpfulnessDenominator</th>\n",
       "      <th>Score</th>\n",
       "      <th>Time</th>\n",
       "      <th>Summary</th>\n",
       "      <th>Text</th>\n",
       "      <th>preprocessed_text</th>\n",
       "      <th>preprocessed_summary</th>\n",
       "    </tr>\n",
       "  </thead>\n",
       "  <tbody>\n",
       "    <tr>\n",
       "      <th>138706</th>\n",
       "      <td>150524</td>\n",
       "      <td>0006641040</td>\n",
       "      <td>ACITT7DI6IDDL</td>\n",
       "      <td>shari zychinski</td>\n",
       "      <td>0</td>\n",
       "      <td>0</td>\n",
       "      <td>1</td>\n",
       "      <td>939340800</td>\n",
       "      <td>EVERY book is educational</td>\n",
       "      <td>this witty little book makes my son laugh at l...</td>\n",
       "      <td>witty little book makes son laugh loud recite ...</td>\n",
       "      <td>every book educational</td>\n",
       "    </tr>\n",
       "    <tr>\n",
       "      <th>138683</th>\n",
       "      <td>150501</td>\n",
       "      <td>0006641040</td>\n",
       "      <td>AJ46FKXOVC7NR</td>\n",
       "      <td>Nicholas A Mesiano</td>\n",
       "      <td>2</td>\n",
       "      <td>2</td>\n",
       "      <td>1</td>\n",
       "      <td>940809600</td>\n",
       "      <td>This whole series is great way to spend time w...</td>\n",
       "      <td>I can remember seeing the show when it aired o...</td>\n",
       "      <td>remember seeing show aired television years ag...</td>\n",
       "      <td>whole series great way spend time child</td>\n",
       "    </tr>\n",
       "    <tr>\n",
       "      <th>417839</th>\n",
       "      <td>451856</td>\n",
       "      <td>B00004CXX9</td>\n",
       "      <td>AIUWLEQ1ADEG5</td>\n",
       "      <td>Elizabeth Medina</td>\n",
       "      <td>0</td>\n",
       "      <td>0</td>\n",
       "      <td>1</td>\n",
       "      <td>944092800</td>\n",
       "      <td>Entertainingl Funny!</td>\n",
       "      <td>Beetlejuice is a well written movie ..... ever...</td>\n",
       "      <td>beetlejuice well written movie everything exce...</td>\n",
       "      <td>entertainingl funny</td>\n",
       "    </tr>\n",
       "    <tr>\n",
       "      <th>346055</th>\n",
       "      <td>374359</td>\n",
       "      <td>B00004CI84</td>\n",
       "      <td>A344SMIA5JECGM</td>\n",
       "      <td>Vincent P. Ross</td>\n",
       "      <td>1</td>\n",
       "      <td>2</td>\n",
       "      <td>1</td>\n",
       "      <td>944438400</td>\n",
       "      <td>A modern day fairy tale</td>\n",
       "      <td>A twist of rumplestiskin captured on film, sta...</td>\n",
       "      <td>twist rumplestiskin captured film starring mic...</td>\n",
       "      <td>modern day fairy tale</td>\n",
       "    </tr>\n",
       "    <tr>\n",
       "      <th>417838</th>\n",
       "      <td>451855</td>\n",
       "      <td>B00004CXX9</td>\n",
       "      <td>AJH6LUC1UT1ON</td>\n",
       "      <td>The Phantom of the Opera</td>\n",
       "      <td>0</td>\n",
       "      <td>0</td>\n",
       "      <td>1</td>\n",
       "      <td>946857600</td>\n",
       "      <td>FANTASTIC!</td>\n",
       "      <td>Beetlejuice is an excellent and funny movie. K...</td>\n",
       "      <td>beetlejuice excellent funny movie keaton hilar...</td>\n",
       "      <td>fantastic</td>\n",
       "    </tr>\n",
       "  </tbody>\n",
       "</table>\n",
       "</div>"
      ],
      "text/plain": [
       "            Id   ProductId          UserId               ProfileName  \\\n",
       "138706  150524  0006641040   ACITT7DI6IDDL           shari zychinski   \n",
       "138683  150501  0006641040   AJ46FKXOVC7NR        Nicholas A Mesiano   \n",
       "417839  451856  B00004CXX9   AIUWLEQ1ADEG5          Elizabeth Medina   \n",
       "346055  374359  B00004CI84  A344SMIA5JECGM           Vincent P. Ross   \n",
       "417838  451855  B00004CXX9   AJH6LUC1UT1ON  The Phantom of the Opera   \n",
       "\n",
       "        HelpfulnessNumerator  HelpfulnessDenominator  Score       Time  \\\n",
       "138706                     0                       0      1  939340800   \n",
       "138683                     2                       2      1  940809600   \n",
       "417839                     0                       0      1  944092800   \n",
       "346055                     1                       2      1  944438400   \n",
       "417838                     0                       0      1  946857600   \n",
       "\n",
       "                                                  Summary  \\\n",
       "138706                          EVERY book is educational   \n",
       "138683  This whole series is great way to spend time w...   \n",
       "417839                               Entertainingl Funny!   \n",
       "346055                            A modern day fairy tale   \n",
       "417838                                         FANTASTIC!   \n",
       "\n",
       "                                                     Text  \\\n",
       "138706  this witty little book makes my son laugh at l...   \n",
       "138683  I can remember seeing the show when it aired o...   \n",
       "417839  Beetlejuice is a well written movie ..... ever...   \n",
       "346055  A twist of rumplestiskin captured on film, sta...   \n",
       "417838  Beetlejuice is an excellent and funny movie. K...   \n",
       "\n",
       "                                        preprocessed_text  \\\n",
       "138706  witty little book makes son laugh loud recite ...   \n",
       "138683  remember seeing show aired television years ag...   \n",
       "417839  beetlejuice well written movie everything exce...   \n",
       "346055  twist rumplestiskin captured film starring mic...   \n",
       "417838  beetlejuice excellent funny movie keaton hilar...   \n",
       "\n",
       "                           preprocessed_summary  \n",
       "138706                   every book educational  \n",
       "138683  whole series great way spend time child  \n",
       "417839                      entertainingl funny  \n",
       "346055                    modern day fairy tale  \n",
       "417838                                fantastic  "
      ]
     },
     "execution_count": 36,
     "metadata": {},
     "output_type": "execute_result"
    }
   ],
   "source": [
    "#sorting data based on time\n",
    "#reference:https://pandas.pydata.org/pandas-docs/version/0.22/10min.html\n",
    "final_data=final.sort_values(by = \"Time\")\n",
    "print(final_data.shape)\n",
    "final_data.head(5)"
   ]
  },
  {
   "cell_type": "markdown",
   "metadata": {
    "colab_type": "text",
    "id": "B93jqKuhLPoQ"
   },
   "source": [
    "# [4] Featurization"
   ]
  },
  {
   "cell_type": "code",
   "execution_count": 37,
   "metadata": {},
   "outputs": [
    {
     "name": "stdout",
     "output_type": "stream",
     "text": [
      "(100000, 12)\n",
      "(80000,) (80000,)\n",
      "(20000,) (20000,)\n"
     ]
    }
   ],
   "source": [
    "#dividin date into train,test,cross validation before converting in to vectors to avoid data lekage\n",
    "\n",
    "data=final_data[0:100000]\n",
    "print(data.shape)\n",
    "data.head(3)\n",
    "y=data['Score'].values\n",
    "x=data['preprocessed_text'].values\n",
    "# create training and testing vars\n",
    "X_traincv, X_test, y_traincv, y_test = train_test_split(x, y, test_size=0.2)\n",
    "print (X_traincv.shape, y_traincv.shape)\n",
    "print (X_test.shape, y_test.shape)"
   ]
  },
  {
   "cell_type": "markdown",
   "metadata": {
    "colab_type": "text",
    "id": "Mr4j2QhgLPoQ"
   },
   "source": [
    "## [4.1] BAG OF WORDS"
   ]
  },
  {
   "cell_type": "code",
   "execution_count": 38,
   "metadata": {},
   "outputs": [
    {
     "name": "stdout",
     "output_type": "stream",
     "text": [
      "(80000, 52922)\n",
      "(80000, 1)\n",
      "(20000, 1)\n",
      "some feature names  ['aa', 'aaa', 'aaaa', 'aaaaa', 'aaaaaa', 'aaaaaaaaaaaaa', 'aaaaaaaaaaaaaaa', 'aaaaaah', 'aaaaah', 'aaah']\n",
      "====================================================================================================\n",
      "the type of count vectorizer  <class 'scipy.sparse.csr.csr_matrix'>\n",
      "the shape of out text BOW vectorizer  (80000, 52923)\n",
      "the number of unique words  52923\n",
      "the type of count vectorizer  <class 'scipy.sparse.csr.csr_matrix'>\n",
      "the shape of out text BOW vectorizer  (20000, 52923)\n",
      "the number of unique words  52923\n"
     ]
    }
   ],
   "source": [
    "#BoW\n",
    "import warnings\n",
    "warnings.filterwarnings(\"ignore\")\n",
    "from scipy.sparse import csr_matrix\n",
    "import scipy.sparse\n",
    "from scipy.sparse import coo_matrix, hstack\n",
    "m=X_traincv.T\n",
    "o=X_test.T\n",
    "count_vect = CountVectorizer() #in scikit-learn\n",
    "BOW_counts=count_vect.fit_transform(m)\n",
    "print(BOW_counts.shape)\n",
    "X_len=np.array([len(x) for x in X_traincv]).reshape(-1,1)\n",
    "print(X_len.shape)\n",
    "BOW_countsl=hstack([BOW_counts,X_len])\n",
    "x_lentest=np.array([len(x) for x in X_test]).reshape(-1,1)\n",
    "print(x_lentest.shape)\n",
    "BOW_counts_test= count_vect.transform(o)\n",
    "BOW_counts_testl=hstack([BOW_counts_test,x_lentest])\n",
    "\n",
    "print(\"some feature names \", count_vect.get_feature_names()[:10])\n",
    "print('='*100)\n",
    "\n",
    "#data preprocssing:standardize the data\n",
    "from sklearn.preprocessing import StandardScaler#(xi-mui/sigmai)\n",
    "BOW_countsl=StandardScaler(copy=True, with_mean=False, with_std=True).fit_transform(BOW_countsl)\n",
    "BOW_counts_testl=StandardScaler(copy=True, with_mean=False, with_std=True).fit_transform(BOW_counts_testl)\n",
    "print(\"the type of count vectorizer \",type(BOW_countsl))\n",
    "print(\"the shape of out text BOW vectorizer \",BOW_countsl.get_shape())\n",
    "print(\"the number of unique words \", BOW_countsl.get_shape()[1])\n",
    "print(\"the type of count vectorizer \",type(BOW_counts_testl))\n",
    "print(\"the shape of out text BOW vectorizer \",BOW_counts_testl.get_shape())\n",
    "print(\"the number of unique words \", BOW_counts_testl.get_shape()[1])"
   ]
  },
  {
   "cell_type": "code",
   "execution_count": 39,
   "metadata": {},
   "outputs": [
    {
     "name": "stdout",
     "output_type": "stream",
     "text": [
      "<class 'scipy.sparse.csr.csr_matrix'>\n"
     ]
    }
   ],
   "source": [
    "s=BOW_countsl.astype('float32')\n",
    "print(type(s))\n",
    "s.data+=0.001"
   ]
  },
  {
   "cell_type": "markdown",
   "metadata": {
    "colab_type": "text",
    "id": "tSf5kRdLLPoV"
   },
   "source": [
    "## [4.2] Bi-Grams and n-Grams."
   ]
  },
  {
   "cell_type": "markdown",
   "metadata": {
    "colab": {},
    "colab_type": "code",
    "id": "Yfk2d7bLLPoW",
    "outputId": "33472132-5eb3-493f-b08c-081749f99239"
   },
   "source": [
    "#bi-gram, tri-gram and n-gram\n",
    "\n",
    "#removing stop words like \"not\" should be avoided before building n-grams\n",
    "# count_vect = CountVectorizer(ngram_range=(1,2))\n",
    "# please do read the CountVectorizer documentation http://scikit-learn.org/stable/modules/generated/sklearn.feature_extraction.text.CountVectorizer.html\n",
    "\n",
    "# you can choose these numebrs min_df=10, max_features=5000, of your choice\n",
    "count_vect = CountVectorizer(ngram_range=(1,2), min_df=10, max_features=5000)\n",
    "final_bigram_counts = count_vect.fit_transform(preprocessed_reviews)\n",
    "print(\"the type of count vectorizer \",type(final_bigram_counts))\n",
    "print(\"the shape of out text BOW vectorizer \",final_bigram_counts.get_shape())\n",
    "print(\"the number of unique words including both unigrams and bigrams \", final_bigram_counts.get_shape()[1])"
   ]
  },
  {
   "cell_type": "markdown",
   "metadata": {
    "colab_type": "text",
    "id": "-cEEpDx0LPoZ"
   },
   "source": [
    "## [4.3] TF-IDF"
   ]
  },
  {
   "cell_type": "code",
   "execution_count": 40,
   "metadata": {},
   "outputs": [
    {
     "name": "stdout",
     "output_type": "stream",
     "text": [
      "some sample features(unique words in the corpus) ['aa', 'ab', 'abandon', 'abandoned', 'abc', 'abdominal', 'ability', 'able', 'able brew', 'able buy']\n",
      "==================================================\n",
      "the type of count vectorizer  <class 'scipy.sparse.csr.csr_matrix'>\n",
      "the shape of out text TFIDF vectorizer  (80000, 44872)\n",
      "the number of unique words including both unigrams and bigrams  44872\n",
      "==================================================\n",
      "==================================================\n",
      "the type of count vectorizer  <class 'scipy.sparse.csr.csr_matrix'>\n",
      "the shape of out text TFIDF vectorizer  (20000, 44872)\n",
      "the number of unique words including both unigrams and bigrams  44872\n"
     ]
    }
   ],
   "source": [
    "# Please write all the code with proper documentation\n",
    "# Please write all the code with proper documentation\n",
    "tf_idf_vect = TfidfVectorizer(ngram_range=(1,2), min_df=10)\n",
    "tf_idf_vect.fit(m)\n",
    "print(\"some sample features(unique words in the corpus)\",tf_idf_vect.get_feature_names()[0:10])\n",
    "print('='*50)\n",
    "\n",
    "final_tf_idf = tf_idf_vect.transform(m)\n",
    "final_tf_idf_test = tf_idf_vect.transform(o)\n",
    "final_tf_idf=StandardScaler(copy=True, with_mean=False, with_std=True).fit_transform(final_tf_idf)\n",
    "final_tf_idf_test=StandardScaler(copy=True, with_mean=False, with_std=True).fit_transform(final_tf_idf_test)\n",
    "print(\"the type of count vectorizer \",type(final_tf_idf))\n",
    "print(\"the shape of out text TFIDF vectorizer \",final_tf_idf.get_shape())\n",
    "print(\"the number of unique words including both unigrams and bigrams \", final_tf_idf.get_shape()[1])\n",
    "print('='*50)\n",
    "print('='*50)\n",
    "print(\"the type of count vectorizer \",type(final_tf_idf_test))\n",
    "print(\"the shape of out text TFIDF vectorizer \",final_tf_idf_test.get_shape())\n",
    "print(\"the number of unique words including both unigrams and bigrams \", final_tf_idf_test.get_shape()[1])"
   ]
  },
  {
   "cell_type": "markdown",
   "metadata": {
    "colab_type": "text",
    "id": "m3YEHTLPLPod"
   },
   "source": [
    "## [4.4] Word2Vec"
   ]
  },
  {
   "cell_type": "code",
   "execution_count": 41,
   "metadata": {
    "colab": {},
    "colab_type": "code",
    "id": "zwPZCf8cLPoe"
   },
   "outputs": [],
   "source": [
    "# Train your own Word2Vec model using your own text corpus\n",
    "i=0\n",
    "list_of_sentance=[]\n",
    "for sentance in m:\n",
    "    list_of_sentance.append(sentance.split())"
   ]
  },
  {
   "cell_type": "code",
   "execution_count": 42,
   "metadata": {
    "colab": {},
    "colab_type": "code",
    "id": "8ddGZNUfLPog",
    "outputId": "390d4ccb-cda2-4391-83e9-0e502b578171",
    "scrolled": true
   },
   "outputs": [
    {
     "name": "stdout",
     "output_type": "stream",
     "text": [
      "[('good', 0.8476577401161194), ('fantastic', 0.8449395895004272), ('terrific', 0.8360322713851929), ('awesome', 0.8225774765014648), ('excellent', 0.8189431428909302), ('wonderful', 0.7745852470397949), ('perfect', 0.7555155754089355), ('nice', 0.7067368030548096), ('decent', 0.6839704513549805), ('amazing', 0.6657446622848511)]\n",
      "==================================================\n",
      "[('greatest', 0.7847483158111572), ('best', 0.765052855014801), ('nastiest', 0.7076218128204346), ('tastiest', 0.6921259164810181), ('disgusting', 0.625365138053894), ('coolest', 0.6161469221115112), ('nicest', 0.6077620983123779), ('smoothest', 0.6024051308631897), ('terrible', 0.5878893136978149), ('superior', 0.5860752463340759)]\n"
     ]
    }
   ],
   "source": [
    "# Using Google News Word2Vectors\n",
    "\n",
    "# in this project we are using a pretrained model by google\n",
    "# its 3.3G file, once you load this into your memory \n",
    "# it occupies ~9Gb, so please do this step only if you have >12G of ram\n",
    "# we will provide a pickle file wich contains a dict , \n",
    "# and it contains all our courpus words as keys and  model[word] as values\n",
    "# To use this code-snippet, download \"GoogleNews-vectors-negative300.bin\" \n",
    "# from https://drive.google.com/file/d/0B7XkCwpI5KDYNlNUTTlSS21pQmM/edit\n",
    "# it's 1.9GB in size.\n",
    "\n",
    "\n",
    "# http://kavita-ganesan.com/gensim-word2vec-tutorial-starter-code/#.W17SRFAzZPY\n",
    "# you can comment this whole cell\n",
    "# or change these varible according to your need\n",
    "\n",
    "is_your_ram_gt_16g=False\n",
    "want_to_use_google_w2v = False\n",
    "want_to_train_w2v = True\n",
    "\n",
    "if want_to_train_w2v:\n",
    "    # min_count = 5 considers only words that occured atleast 5 times\n",
    "    w2v_model=Word2Vec(list_of_sentance,min_count=5,size=50, workers=4)\n",
    "    print(w2v_model.wv.most_similar('great'))\n",
    "    print('='*50)\n",
    "    print(w2v_model.wv.most_similar('worst'))\n",
    "    \n",
    "elif want_to_use_google_w2v and is_your_ram_gt_16g:\n",
    "    if os.path.isfile('GoogleNews-vectors-negative300.bin'):\n",
    "        w2v_model=KeyedVectors.load_word2vec_format('GoogleNews-vectors-negative300.bin', binary=True)\n",
    "        print(w2v_model.wv.most_similar('great'))\n",
    "        print(w2v_model.wv.most_similar('worst'))\n",
    "    else:\n",
    "        print(\"you don't have gogole's word2vec file, keep want_to_train_w2v = True, to train your own w2v \")"
   ]
  },
  {
   "cell_type": "code",
   "execution_count": 43,
   "metadata": {
    "colab": {},
    "colab_type": "code",
    "id": "bRWXmmnWLPoo",
    "outputId": "1cc345e7-d991-49b8-f1b7-a0d81f0b97e6"
   },
   "outputs": [
    {
     "name": "stdout",
     "output_type": "stream",
     "text": [
      "number of words that occured minimum 5 times  16995\n",
      "sample words  ['not', 'aware', 'fruition', 'tried', 'new', 'strawberry', 'flavor', 'expected', 'hard', 'chew', 'granola', 'type', 'bar', 'hate', 'snacks', 'thought', 'would', 'hand', 'husband', 'use', 'pig', 'soon', 'opened', 'one', 'could', 'smell', 'dates', 'yummy', 'found', 'firm', 'soft', 'really', 'tasty', 'appreciate', 'natural', 'low', 'calories', 'etc', 'bars', 'hunger', 'hit', 'stopping', 'eat', 'option', 'probar', 'took', 'away', 'job', 'physically', 'demanding']\n"
     ]
    }
   ],
   "source": [
    "w2v_words = list(w2v_model.wv.vocab)\n",
    "print(\"number of words that occured minimum 5 times \",len(w2v_words))\n",
    "print(\"sample words \", w2v_words[0:50])"
   ]
  },
  {
   "cell_type": "markdown",
   "metadata": {
    "colab_type": "text",
    "id": "TtWqibqfLPos"
   },
   "source": [
    "## [4.4.1] Converting text into vectors using Avg W2V, TFIDF-W2V"
   ]
  },
  {
   "cell_type": "markdown",
   "metadata": {
    "colab_type": "text",
    "id": "JriP5nZCLPot"
   },
   "source": [
    "#### [4.4.1.1] Avg W2v"
   ]
  },
  {
   "cell_type": "code",
   "execution_count": 44,
   "metadata": {
    "colab": {},
    "colab_type": "code",
    "id": "UnXI9NHTLPot",
    "outputId": "ecbe8256-9718-4bad-de33-e5ce1ee69038"
   },
   "outputs": [
    {
     "name": "stderr",
     "output_type": "stream",
     "text": [
      "100%|███████████████████████████████████████████████████████████████████████████| 80000/80000 [04:25<00:00, 301.58it/s]\n"
     ]
    },
    {
     "name": "stdout",
     "output_type": "stream",
     "text": [
      "80000\n",
      "50\n"
     ]
    }
   ],
   "source": [
    "# average Word2Vec\n",
    "# compute average word2vec for each review.\n",
    "sent_vectors = []; # the avg-w2v for each sentence/review is stored in this list\n",
    "for sent in tqdm(list_of_sentance): # for each review/sentence\n",
    "    sent_vec = np.zeros(50) # as word vectors are of zero length 50, you might need to change this to 300 if you use google's w2v\n",
    "    cnt_words =0; # num of words with a valid vector in the sentence/review\n",
    "    for word in sent: # for each word in a review/sentence\n",
    "        if word in w2v_words:\n",
    "            vec = w2v_model.wv[word]\n",
    "            sent_vec += vec\n",
    "            cnt_words += 1\n",
    "    if cnt_words != 0:\n",
    "        sent_vec /= cnt_words\n",
    "    sent_vectors.append(sent_vec)\n",
    "print(len(sent_vectors))\n",
    "print(len(sent_vectors[0]))"
   ]
  },
  {
   "cell_type": "code",
   "execution_count": 45,
   "metadata": {},
   "outputs": [],
   "source": [
    "# Train your own Word2Vec model using your own text corpus\n",
    "i=0\n",
    "list_of_sentance_test=[]\n",
    "for sentance in o:\n",
    "    list_of_sentance_test.append(sentance.split())"
   ]
  },
  {
   "cell_type": "code",
   "execution_count": 46,
   "metadata": {},
   "outputs": [
    {
     "name": "stderr",
     "output_type": "stream",
     "text": [
      "100%|███████████████████████████████████████████████████████████████████████████| 20000/20000 [01:06<00:00, 300.50it/s]\n"
     ]
    },
    {
     "name": "stdout",
     "output_type": "stream",
     "text": [
      "20000\n",
      "50\n"
     ]
    }
   ],
   "source": [
    "# average Word2Vec\n",
    "# compute average word2vec for each review.\n",
    "sent_vectors_test = []; # the avg-w2v for each sentence/review is stored in this list\n",
    "for sent in tqdm(list_of_sentance_test): # for each review/sentence\n",
    "    sent_vec = np.zeros(50) # as word vectors are of zero length 50, you might need to change this to 300 if you use google's w2v\n",
    "    cnt_words =0; # num of words with a valid vector in the sentence/review\n",
    "    for word in sent: # for each word in a review/sentence\n",
    "        if word in w2v_words:\n",
    "            vec = w2v_model.wv[word]\n",
    "            sent_vec += vec\n",
    "            cnt_words += 1\n",
    "    if cnt_words != 0:\n",
    "        sent_vec /= cnt_words\n",
    "    sent_vectors_test.append(sent_vec)\n",
    "print(len(sent_vectors_test))\n",
    "print(len(sent_vectors_test[0]))"
   ]
  },
  {
   "cell_type": "markdown",
   "metadata": {
    "colab_type": "text",
    "id": "2sHfb529LPow"
   },
   "source": [
    "#### [4.4.1.2] TFIDF weighted W2v"
   ]
  },
  {
   "cell_type": "code",
   "execution_count": 47,
   "metadata": {
    "colab": {},
    "colab_type": "code",
    "id": "sb_wDjAqLPow"
   },
   "outputs": [],
   "source": [
    "# S = [\"abc def pqr\", \"def def def abc\", \"pqr pqr def\"]\n",
    "model = TfidfVectorizer()\n",
    "tf_idf_matrix = model.fit_transform(m)\n",
    "# we are converting a dictionary with word as a key, and the idf as a value\n",
    "dictionary = dict(zip(model.get_feature_names(), list(model.idf_)))"
   ]
  },
  {
   "cell_type": "code",
   "execution_count": 48,
   "metadata": {
    "colab": {},
    "colab_type": "code",
    "id": "3VrUzqx7LPoy",
    "outputId": "8480d5da-7b1d-4bbe-a4c9-fe0a5800b5d0",
    "scrolled": true
   },
   "outputs": [
    {
     "name": "stderr",
     "output_type": "stream",
     "text": [
      "100%|██████████████████████████████████████████████████████████████████████████| 80000/80000 [1:03:46<00:00, 20.91it/s]\n"
     ]
    }
   ],
   "source": [
    "# TF-IDF weighted Word2Vec\n",
    "tfidf_feat = model.get_feature_names() # tfidf words/col-names\n",
    "# final_tf_idf is the sparse matrix with row= sentence, col=word and cell_val = tfidf\n",
    "\n",
    "tfidf_sent_vectors = []; # the tfidf-w2v for each sentence/review is stored in this list\n",
    "row=0;\n",
    "for sent in tqdm(list_of_sentance): # for each review/sentence \n",
    "    sent_vec = np.zeros(50) # as word vectors are of zero length\n",
    "    weight_sum =0; # num of words with a valid vector in the sentence/review\n",
    "    for word in sent: # for each word in a review/sentence\n",
    "        if word in w2v_words and word in tfidf_feat:\n",
    "            vec = w2v_model.wv[word]\n",
    "#             tf_idf = tf_idf_matrix[row, tfidf_feat.index(word)]\n",
    "            # to reduce the computation we are \n",
    "            # dictionary[word] = idf value of word in whole courpus\n",
    "            # sent.count(word) = tf valeus of word in this review\n",
    "            tf_idf = dictionary[word]*(sent.count(word)/len(sent))\n",
    "            sent_vec += (vec * tf_idf)\n",
    "            weight_sum += tf_idf\n",
    "    if weight_sum != 0:\n",
    "        sent_vec /= weight_sum\n",
    "    tfidf_sent_vectors.append(sent_vec)\n",
    "    row += 1"
   ]
  },
  {
   "cell_type": "code",
   "execution_count": 49,
   "metadata": {},
   "outputs": [
    {
     "name": "stderr",
     "output_type": "stream",
     "text": [
      "100%|████████████████████████████████████████████████████████████████████████████| 20000/20000 [14:22<00:00, 23.18it/s]\n"
     ]
    }
   ],
   "source": [
    "# TF-IDF weighted Word2Vec\n",
    "tfidf_feat = model.get_feature_names() # tfidf words/col-names\n",
    "# final_tf_idf is the sparse matrix with row= sentence, col=word and cell_val = tfidf\n",
    "\n",
    "tfidf_sent_vectors_test = []; # the tfidf-w2v for each sentence/review is stored in this list\n",
    "row=0;\n",
    "for sent in tqdm(list_of_sentance_test): # for each review/sentence \n",
    "    sent_vec = np.zeros(50) # as word vectors are of zero length\n",
    "    weight_sum =0; # num of words with a valid vector in the sentence/review\n",
    "    for word in sent: # for each word in a review/sentence\n",
    "        if word in w2v_words and word in tfidf_feat:\n",
    "            vec = w2v_model.wv[word]\n",
    "#             tf_idf = tf_idf_matrix[row, tfidf_feat.index(word)]\n",
    "            # to reduce the computation we are \n",
    "            # dictionary[word] = idf value of word in whole courpus\n",
    "            # sent.count(word) = tf valeus of word in this review\n",
    "            tf_idf = dictionary[word]*(sent.count(word)/len(sent))\n",
    "            sent_vec += (vec * tf_idf)\n",
    "            weight_sum += tf_idf\n",
    "    if weight_sum != 0:\n",
    "        sent_vec /= weight_sum\n",
    "    tfidf_sent_vectors_test.append(sent_vec)\n",
    "    row += 1"
   ]
  },
  {
   "cell_type": "markdown",
   "metadata": {
    "colab_type": "text",
    "id": "Kxx72u1hLPo1"
   },
   "source": [
    "# [5] Assignment 5: Apply Logistic Regression"
   ]
  },
  {
   "cell_type": "markdown",
   "metadata": {
    "colab_type": "text",
    "id": "KDR9We0oLPo2"
   },
   "source": [
    "<ol>\n",
    "    <li><strong>Apply Logistic Regression on these feature sets</strong>\n",
    "        <ul>\n",
    "            <li><font color='red'>SET 1:</font>Review text, preprocessed one converted into vectors using (BOW)</li>\n",
    "            <li><font color='red'>SET 2:</font>Review text, preprocessed one converted into vectors using (TFIDF)</li>\n",
    "            <li><font color='red'>SET 3:</font>Review text, preprocessed one converted into vectors using (AVG W2v)</li>\n",
    "            <li><font color='red'>SET 4:</font>Review text, preprocessed one converted into vectors using (TFIDF W2v)</li>\n",
    "        </ul>\n",
    "    </li>\n",
    "    <br>\n",
    "    <li><strong>Hyper paramter tuning (find best hyper parameters corresponding the algorithm that you choose)</strong>\n",
    "        <ul>\n",
    "    <li>Find the best hyper parameter which will give the maximum <a href='https://www.appliedaicourse.com/course/applied-ai-course-online/lessons/receiver-operating-characteristic-curve-roc-curve-and-auc-1/'>AUC</a> value</li>\n",
    "    <li>Find the best hyper paramter using k-fold cross validation or simple cross validation data</li>\n",
    "    <li>Use gridsearch cv or randomsearch cv or you can also write your own for loops to do this task of hyperparameter tuning</li>          \n",
    "        </ul>\n",
    "    </li>\n",
    "    <br>\n",
    "    <li><strong>Pertubation Test</strong>\n",
    "        <ul>\n",
    "    <li>Get the weights W after fit your model with the data X i.e Train data.</li>\n",
    "    <li>Add a noise to the X (X' = X + e) and get the new data set X' (if X is a sparse\n",
    "matrix, X.data+=e)</li>\n",
    "    <li>Fit the model again on data X' and get the weights W'</li>\n",
    "    <li>Add a small eps value(to eliminate the divisible by zero error) to W and W’ i.e\n",
    "W=W+10^-6 and W’ = W’+10^-6</li>\n",
    "    <li>Now find the % change between W and W' (| (W-W') / (W) |)*100)</li>\n",
    "    <li>Calculate the 0th, 10th, 20th, 30th, ...100th percentiles, and observe any sudden rise in the values of percentage_change_vector</li>\n",
    "    <li> Ex: consider your 99th percentile is 1.3 and your 100th percentiles are 34.6, there is sudden rise from 1.3 to 34.6, now calculate the 99.1, 99.2, 99.3,..., 100th percentile values and get the proper value after which there is sudden rise the values, assume it is 2.5</li>\n",
    "            <li> Print the feature names whose % change is more than a threshold x(in our example it's 2.5)</li>\n",
    "        </ul>\n",
    "    </li>\n",
    "    <br>\n",
    "    <li><strong>Sparsity</strong>\n",
    "        <ul>\n",
    "    <li>Calculate sparsity on weight vector obtained after using L1 regularization</li>\n",
    "        </ul>\n",
    "    </li>\n",
    "    <br><font color='red'>NOTE: Do sparsity and multicollinearity for any one of the vectorizers. Bow or tf-idf is recommended.</font>\n",
    "    <br>\n",
    "    <br>\n",
    "    <li><strong>Feature importance</strong>\n",
    "        <ul>\n",
    "    <li>Get top 10 important features for both positive and negative classes separately.</li>\n",
    "        </ul>\n",
    "    </li>\n",
    "    <br>\n",
    "    <li><strong>Feature engineering</strong>\n",
    "        <ul>\n",
    "    <li>To increase the performance of your model, you can also experiment with with feature engineering like :</li>\n",
    "            <ul>\n",
    "            <li>Taking length of reviews as another feature.</li>\n",
    "            <li>Considering some features from review summary as well.</li>\n",
    "        </ul>\n",
    "        </ul>\n",
    "    </li>\n",
    "    <br>\n",
    "    <li><strong>Representation of results</strong>\n",
    "        <ul>\n",
    "    <li>You need to plot the performance of model both on train data and cross validation data for each hyper parameter, like shown in the figure.\n",
    "    <img src='train_cv_auc.JPG' width=300px></li>\n",
    "    <li>Once after you found the best hyper parameter, you need to train your model with it, and find the AUC on test data and plot the ROC curve on both train and test.\n",
    "    <img src='train_test_auc.JPG' width=300px></li>\n",
    "    <li>Along with plotting ROC curve, you need to print the <a href='https://www.appliedaicourse.com/course/applied-ai-course-online/lessons/confusion-matrix-tpr-fpr-fnr-tnr-1/'>confusion matrix</a> with predicted and original labels of test data points. Please visualize your confusion matrices using <a href='https://seaborn.pydata.org/generated/seaborn.heatmap.html'>seaborn heatmaps.\n",
    "    <img src='confusion_matrix.png' width=300px></li>\n",
    "        </ul>\n",
    "    </li>\n",
    "    <br>\n",
    "    <li><strong>Conclusion</strong>\n",
    "        <ul>\n",
    "    <li>You need to summarize the results at the end of the notebook, summarize it in the table format. To print out a table please refer to this prettytable library<a href='http://zetcode.com/python/prettytable/'>  link</a> \n",
    "        <img src='summary.JPG' width=400px>\n",
    "    </li>\n",
    "        </ul>\n",
    "</ol>"
   ]
  },
  {
   "cell_type": "markdown",
   "metadata": {
    "colab_type": "text",
    "id": "gilb-DOVLPo2"
   },
   "source": [
    "<h4><font color='red'>Note: Data Leakage</font></h4>\n",
    "\n",
    "1. There will be an issue of data-leakage if you vectorize the entire data and then split it into train/cv/test.\n",
    "2. To avoid the issue of data-leakag, make sure to split your data first and then vectorize it. \n",
    "3. While vectorizing your data, apply the method fit_transform() on you train data, and apply the method transform() on cv/test data.\n",
    "4. For more details please go through this <a href='https://soundcloud.com/applied-ai-course/leakage-bow-and-tfidf'>link.</a>"
   ]
  },
  {
   "cell_type": "markdown",
   "metadata": {
    "colab_type": "text",
    "id": "jiYocvSHLPo4"
   },
   "source": [
    "# Applying Logistic Regression"
   ]
  },
  {
   "cell_type": "markdown",
   "metadata": {
    "colab_type": "text",
    "id": "LE_XPVZJLPo4"
   },
   "source": [
    "## [5.1] Logistic Regression on BOW,<font color='red'> SET 1</font>"
   ]
  },
  {
   "cell_type": "markdown",
   "metadata": {
    "colab_type": "text",
    "id": "_iciJvj2LPo4"
   },
   "source": [
    "### [5.1.1] Applying Logistic Regression with L1 regularization on BOW,<font color='red'> SET 1</font>"
   ]
  },
  {
   "cell_type": "code",
   "execution_count": 50,
   "metadata": {},
   "outputs": [
    {
     "data": {
      "image/png": "[encoded data removed]",
      "text/plain": [
       "<Figure size 432x288 with 1 Axes>"
      ]
     },
     "metadata": {},
     "output_type": "display_data"
    },
    {
     "name": "stdout",
     "output_type": "stream",
     "text": [
      "LogisticRegression(C=0.01, class_weight='balanced', dual=False,\n",
      "          fit_intercept=True, intercept_scaling=1, max_iter=100,\n",
      "          multi_class='warn', n_jobs=None, penalty='l1', random_state=None,\n",
      "          solver='warn', tol=0.0001, verbose=0, warm_start=False)\n",
      "0.9868018807042145\n",
      "0.9390119373515581\n",
      "========================================================================================================================================================================================================\n"
     ]
    }
   ],
   "source": [
    "# https://scikit-learn.org/stable/modules/generated/sklearn.model_selection.GridSearchCV.html\n",
    "from sklearn.model_selection import GridSearchCV\n",
    "from sklearn.datasets import *\n",
    "from sklearn.linear_model import LogisticRegression\n",
    "import math\n",
    "lr = LogisticRegression(penalty='l1',class_weight='balanced')\n",
    "#parameters = {'n_neighbors':[1, 5, 10, 15, 21, 31, 41, 51]}\n",
    "tuned_parameters = [{'C': [10**-4, 10**-2, 10**0, 10**2, 10**4]}]\n",
    "clf = GridSearchCV(lr, tuned_parameters, cv=5, scoring='roc_auc')\n",
    "clf.fit(BOW_countsl, y_traincv)\n",
    "\n",
    "train_auc= clf.cv_results_['mean_train_score']\n",
    "train_auc_std= clf.cv_results_['std_train_score']\n",
    "cv_auc = clf.cv_results_['mean_test_score'] \n",
    "cv_auc_std= clf.cv_results_['std_test_score']\n",
    "P=[10**-4, 10**-2, 10**0, 10**2, 10**4]\n",
    "C=[]\n",
    "for i in P:\n",
    "    C.append(math.log(i))\n",
    "plt.plot(C, train_auc, label='Train AUC')\n",
    "# this code is copied from here: https://stackoverflow.com/a/48803361/4084039\n",
    "plt.gca().fill_between(C,train_auc - train_auc_std,train_auc + train_auc_std,alpha=0.2,color='darkblue')\n",
    "\n",
    "plt.plot(C, cv_auc, label='CV AUC')\n",
    "# this code is copied from here: https://stackoverflow.com/a/48803361/4084039\n",
    "plt.gca().fill_between(C,cv_auc - cv_auc_std,cv_auc + cv_auc_std,alpha=0.2,color='darkorange')\n",
    "plt.legend()\n",
    "plt.xlabel(\"C: hyperparameter\")\n",
    "plt.ylabel(\"AUC\")\n",
    "plt.title(\"ERROR PLOTS\")\n",
    "plt.show()\n",
    "print(clf.best_estimator_)\n",
    "print(clf.score(BOW_countsl, y_traincv))\n",
    "print(clf.score(BOW_counts_testl, y_test))\n",
    "print('='*200)\n",
    "score_train_bowl1=clf.score(BOW_countsl, y_traincv)\n",
    "score_test_bowl1=clf.score(BOW_counts_testl, y_test)"
   ]
  },
  {
   "cell_type": "code",
   "execution_count": 51,
   "metadata": {
    "scrolled": true
   },
   "outputs": [
    {
     "name": "stdout",
     "output_type": "stream",
     "text": [
      "[0.5, 0.93394346283569, 0.8654384995101904, 0.8111831000831957, 0.7939483940929405]\n",
      "[0.0001, 0.01, 1, 100, 10000]\n"
     ]
    }
   ],
   "source": [
    "print(list(cv_auc))\n",
    "print(list(P))"
   ]
  },
  {
   "cell_type": "code",
   "execution_count": 52,
   "metadata": {},
   "outputs": [
    {
     "name": "stdout",
     "output_type": "stream",
     "text": [
      "0.01\n"
     ]
    }
   ],
   "source": [
    "i=list(cv_auc).index(max(cv_auc))\n",
    "optimal_C_bowl1=P[i]\n",
    "print(optimal_C_bowl1)"
   ]
  },
  {
   "cell_type": "code",
   "execution_count": 53,
   "metadata": {},
   "outputs": [
    {
     "data": {
      "image/png": "[encoded data removed]",
      "text/plain": [
       "<Figure size 432x288 with 1 Axes>"
      ]
     },
     "metadata": {},
     "output_type": "display_data"
    },
    {
     "name": "stdout",
     "output_type": "stream",
     "text": [
      "====================================================================================================\n"
     ]
    }
   ],
   "source": [
    "# https://scikit-learn.org/stable/modules/generated/sklearn.metrics.roc_curve.html#sklearn.metrics.roc_curve\n",
    "from sklearn.metrics import roc_curve, auc\n",
    "we=LogisticRegression(C=optimal_C_bowl1,penalty='l1',class_weight='balanced')\n",
    "we.fit(BOW_countsl,y_traincv)\n",
    "\n",
    "# roc_auc_score(y_true, y_score) the 2nd parameter should be probability estimates of the positive class\n",
    "# not the predicted outputs\n",
    "\n",
    "train_fpr, train_tpr, thresholds = roc_curve(y_traincv, we.predict_proba(BOW_countsl)[:,1])\n",
    "test_fpr, test_tpr, thresholds = roc_curve(y_test, we.predict_proba(BOW_counts_testl)[:,1])\n",
    "\n",
    "plt.plot(train_fpr, train_tpr, label=\"train AUC =\"+str(auc(train_fpr, train_tpr)))\n",
    "plt.plot(test_fpr, test_tpr, label=\"test AUC =\"+str(auc(test_fpr, test_tpr)))\n",
    "plt.legend()\n",
    "plt.xlabel(\"FALSE POSITIVE RATE\")\n",
    "plt.ylabel(\"TRUE POSITIVE RATE\")\n",
    "plt.title(\"AUC ROC curve\")\n",
    "plt.show()\n",
    "\n",
    "print(\"=\"*100)\n",
    "train_AUC_bowl1 = auc(train_fpr, train_tpr)\n",
    "test_AUC_bowl1 = auc(test_fpr, test_tpr)"
   ]
  },
  {
   "cell_type": "markdown",
   "metadata": {
    "colab_type": "text",
    "id": "5h4NhywcLPo7"
   },
   "source": [
    "#### [5.1.1.1] Calculating sparsity on weight vector obtained using L1 regularization on BOW,<font color='red'> SET 1</font>"
   ]
  },
  {
   "cell_type": "code",
   "execution_count": 54,
   "metadata": {
    "colab": {},
    "colab_type": "code",
    "id": "-mmdLzUALPo-"
   },
   "outputs": [
    {
     "name": "stdout",
     "output_type": "stream",
     "text": [
      "6242\n"
     ]
    }
   ],
   "source": [
    "# Please write all the code with proper documentation\n",
    "import numpy as np\n",
    "we=LogisticRegression(C=optimal_C_bowl1,penalty='l1',class_weight='balanced')\n",
    "we.fit(BOW_countsl,y_traincv)\n",
    "W=we.coef_\n",
    "print(np.count_nonzero(W))"
   ]
  },
  {
   "cell_type": "code",
   "execution_count": 55,
   "metadata": {},
   "outputs": [],
   "source": [
    "W=W+10**-6"
   ]
  },
  {
   "cell_type": "markdown",
   "metadata": {
    "colab_type": "text",
    "id": "5h4NhywcLPo7"
   },
   "source": [
    "#### CONFUSION MATRIX obtained using L1 regularization on BOW,<font color='red'> SET 1</font>"
   ]
  },
  {
   "cell_type": "code",
   "execution_count": 56,
   "metadata": {},
   "outputs": [],
   "source": [
    "from sklearn.metrics import confusion_matrix\n",
    "cm_train=confusion_matrix(y_traincv, we.predict(BOW_countsl))\n",
    "cm_test=confusion_matrix(y_test, we.predict(BOW_counts_testl))"
   ]
  },
  {
   "cell_type": "code",
   "execution_count": 57,
   "metadata": {},
   "outputs": [
    {
     "name": "stdout",
     "output_type": "stream",
     "text": [
      "Train confusion matrix\n"
     ]
    },
    {
     "data": {
      "image/png": "[encoded data removed]",
      "text/plain": [
       "<Figure size 432x288 with 2 Axes>"
      ]
     },
     "metadata": {},
     "output_type": "display_data"
    }
   ],
   "source": [
    "print(\"Train confusion matrix\")\n",
    "class_label = [\"negative\", \"positive\"]\n",
    "df_cm = pd.DataFrame(cm_train, index = class_label, columns = class_label)\n",
    "sns.heatmap(df_cm, cmap='magma',annot = True, fmt = \"d\")\n",
    "plt.title(\"Confusion Matrix\")\n",
    "plt.xlabel(\"Predicted Label\")\n",
    "plt.ylabel(\"Actual Label\")\n",
    "plt.show()"
   ]
  },
  {
   "cell_type": "code",
   "execution_count": 58,
   "metadata": {},
   "outputs": [
    {
     "name": "stdout",
     "output_type": "stream",
     "text": [
      "Test confusion matrix\n"
     ]
    },
    {
     "data": {
      "image/png": "[encoded data removed]",
      "text/plain": [
       "<Figure size 432x288 with 2 Axes>"
      ]
     },
     "metadata": {},
     "output_type": "display_data"
    }
   ],
   "source": [
    "print(\"Test confusion matrix\")\n",
    "class_label = [\"negative\", \"positive\"]\n",
    "df_cm = pd.DataFrame(cm_test, index = class_label, columns = class_label)\n",
    "sns.heatmap(df_cm, cmap='magma',annot = True, fmt = \"d\")\n",
    "plt.title(\"Confusion Matrix\")\n",
    "plt.xlabel(\"Predicted Label\")\n",
    "plt.ylabel(\"Actual Label\")\n",
    "plt.show()"
   ]
  },
  {
   "cell_type": "markdown",
   "metadata": {
    "colab_type": "text",
    "id": "aRHMa52qLPpA"
   },
   "source": [
    "### [5.1.2] Applying Logistic Regression with L2 regularization on BOW,<font color='red'> SET 1</font>"
   ]
  },
  {
   "cell_type": "code",
   "execution_count": 59,
   "metadata": {
    "colab": {},
    "colab_type": "code",
    "id": "GBbb9lxlLPpB"
   },
   "outputs": [
    {
     "data": {
      "image/png": "[encoded data removed]",
      "text/plain": [
       "<Figure size 432x288 with 1 Axes>"
      ]
     },
     "metadata": {},
     "output_type": "display_data"
    },
    {
     "name": "stdout",
     "output_type": "stream",
     "text": [
      "LogisticRegression(C=0.0001, class_weight='balanced', dual=False,\n",
      "          fit_intercept=True, intercept_scaling=1, max_iter=100,\n",
      "          multi_class='warn', n_jobs=None, penalty='l2', random_state=None,\n",
      "          solver='warn', tol=0.0001, verbose=0, warm_start=False)\n",
      "0.9933908682215346\n",
      "0.9340313480670361\n",
      "========================================================================================================================================================================================================\n"
     ]
    }
   ],
   "source": [
    "# Please write all the code with proper documentation\n",
    "# https://scikit-learn.org/stable/modules/generated/sklearn.model_selection.GridSearchCV.html\n",
    "from sklearn.model_selection import GridSearchCV\n",
    "from sklearn.datasets import *\n",
    "from sklearn.linear_model import LogisticRegression\n",
    "lr = LogisticRegression(penalty='l2',class_weight='balanced')\n",
    "#parameters = {'n_neighbors':[1, 5, 10, 15, 21, 31, 41, 51]}\n",
    "tuned_parameters = [{'C': [10**-4, 10**-2, 10**0, 10**2, 10**4]}]\n",
    "clf = GridSearchCV(lr, tuned_parameters, cv=5, scoring='roc_auc')\n",
    "clf.fit(BOW_countsl, y_traincv)\n",
    "\n",
    "train_auc= clf.cv_results_['mean_train_score']\n",
    "train_auc_std= clf.cv_results_['std_train_score']\n",
    "cv_auc = clf.cv_results_['mean_test_score'] \n",
    "cv_auc_std= clf.cv_results_['std_test_score']\n",
    "P=[10**-4, 10**-2, 10**0, 10**2, 10**4]\n",
    "C=[]\n",
    "for i in P:\n",
    "    C.append(math.log(i))\n",
    "plt.plot(C, train_auc, label='Train AUC')\n",
    "# this code is copied from here: https://stackoverflow.com/a/48803361/4084039\n",
    "plt.gca().fill_between(C,train_auc - train_auc_std,train_auc + train_auc_std,alpha=0.2,color='darkblue')\n",
    "\n",
    "plt.plot(C, cv_auc, label='CV AUC')\n",
    "# this code is copied from here: https://stackoverflow.com/a/48803361/4084039\n",
    "plt.gca().fill_between(C,cv_auc - cv_auc_std,cv_auc + cv_auc_std,alpha=0.2,color='darkorange')\n",
    "plt.legend()\n",
    "plt.xlabel(\"C: hyperparameter\")\n",
    "plt.ylabel(\"AUC\")\n",
    "plt.title(\"ERROR PLOTS\")\n",
    "plt.show()\n",
    "print(clf.best_estimator_)\n",
    "print(clf.score(BOW_countsl, y_traincv))\n",
    "print(clf.score(BOW_counts_testl, y_test))\n",
    "print('='*200)\n",
    "score_train_bowl2=clf.score(BOW_countsl, y_traincv)\n",
    "score_test_bowl2=clf.score(BOW_counts_testl, y_test)"
   ]
  },
  {
   "cell_type": "code",
   "execution_count": 60,
   "metadata": {},
   "outputs": [
    {
     "name": "stdout",
     "output_type": "stream",
     "text": [
      "[0.9262621259080306, 0.8875159402732592, 0.837617281374357, 0.8227983507051704, 0.8224460820369596]\n",
      "[0.0001, 0.01, 1, 100, 10000]\n"
     ]
    }
   ],
   "source": [
    "print(list(cv_auc))\n",
    "print(P)"
   ]
  },
  {
   "cell_type": "code",
   "execution_count": 61,
   "metadata": {},
   "outputs": [
    {
     "name": "stdout",
     "output_type": "stream",
     "text": [
      "0.0001\n"
     ]
    }
   ],
   "source": [
    "i=list(cv_auc).index(max(cv_auc))\n",
    "optimal_C_bowl2=P[i]\n",
    "print(optimal_C_bowl2)"
   ]
  },
  {
   "cell_type": "code",
   "execution_count": 62,
   "metadata": {},
   "outputs": [
    {
     "data": {
      "image/png": "[encoded data removed]",
      "text/plain": [
       "<Figure size 432x288 with 1 Axes>"
      ]
     },
     "metadata": {},
     "output_type": "display_data"
    },
    {
     "name": "stdout",
     "output_type": "stream",
     "text": [
      "====================================================================================================\n"
     ]
    }
   ],
   "source": [
    "# https://scikit-learn.org/stable/modules/generated/sklearn.metrics.roc_curve.html#sklearn.metrics.roc_curve\n",
    "from sklearn.metrics import roc_curve, auc\n",
    "we=LogisticRegression(C=optimal_C_bowl2,penalty='l2',class_weight='balanced')\n",
    "we.fit(BOW_countsl,y_traincv)\n",
    "\n",
    "# roc_auc_score(y_true, y_score) the 2nd parameter should be probability estimates of the positive class\n",
    "# not the predicted outputs\n",
    "\n",
    "train_fpr, train_tpr, thresholds = roc_curve(y_traincv, we.predict_proba(BOW_countsl)[:,1])\n",
    "test_fpr, test_tpr, thresholds = roc_curve(y_test, we.predict_proba(BOW_counts_testl)[:,1])\n",
    "\n",
    "plt.plot(train_fpr, train_tpr, label=\"train AUC =\"+str(auc(train_fpr, train_tpr)))\n",
    "plt.plot(test_fpr, test_tpr, label=\"test AUC =\"+str(auc(test_fpr, test_tpr)))\n",
    "plt.legend()\n",
    "plt.xlabel(\"FALSE POSITIVE RATE\")\n",
    "plt.ylabel(\"TRUE POSITIVE RATE\")\n",
    "plt.title(\"AUC ROC curve\")\n",
    "plt.show()\n",
    "\n",
    "print(\"=\"*100)\n",
    "train_AUC_bowl2 = auc(train_fpr, train_tpr)\n",
    "test_AUC_bowl2 = auc(test_fpr, test_tpr)"
   ]
  },
  {
   "cell_type": "code",
   "execution_count": 154,
   "metadata": {
    "colab": {},
    "colab_type": "code",
    "id": "-mmdLzUALPo-"
   },
   "outputs": [
    {
     "name": "stdout",
     "output_type": "stream",
     "text": [
      "52923\n"
     ]
    }
   ],
   "source": [
    "# Please write all the code with proper documentation\n",
    "import numpy as np\n",
    "we=LogisticRegression(C=optimal_C_bowl2,penalty='l2',class_weight='balanced')\n",
    "we.fit(BOW_countsl,y_traincv)\n",
    "W=we.coef_\n",
    "print(np.count_nonzero(W))"
   ]
  },
  {
   "cell_type": "code",
   "execution_count": 155,
   "metadata": {},
   "outputs": [
    {
     "data": {
      "text/plain": [
       "array([[-0.00191209,  0.0032982 ,  0.00240426, ...,  0.00061797,\n",
       "         0.00137879,  0.04110567]])"
      ]
     },
     "execution_count": 155,
     "metadata": {},
     "output_type": "execute_result"
    }
   ],
   "source": [
    "W"
   ]
  },
  {
   "cell_type": "code",
   "execution_count": 167,
   "metadata": {},
   "outputs": [],
   "source": [
    "We=W+10**-6"
   ]
  },
  {
   "cell_type": "code",
   "execution_count": 168,
   "metadata": {},
   "outputs": [
    {
     "name": "stdout",
     "output_type": "stream",
     "text": [
      "[[-0.00191109  0.0032992   0.00240526 ...  0.00061897  0.00137979\n",
      "   0.04110667]]\n"
     ]
    }
   ],
   "source": [
    "print(We)"
   ]
  },
  {
   "cell_type": "markdown",
   "metadata": {
    "colab_type": "text",
    "id": "5h4NhywcLPo7"
   },
   "source": [
    "#### CONFUSION MATRIX obtained using L2 regularization on BOW,<font color='red'> SET 1</font>"
   ]
  },
  {
   "cell_type": "code",
   "execution_count": 157,
   "metadata": {},
   "outputs": [],
   "source": [
    "from sklearn.metrics import confusion_matrix\n",
    "cm_train=confusion_matrix(y_traincv, we.predict(BOW_countsl))\n",
    "cm_test=confusion_matrix(y_test, we.predict(BOW_counts_testl))"
   ]
  },
  {
   "cell_type": "code",
   "execution_count": 158,
   "metadata": {},
   "outputs": [
    {
     "name": "stdout",
     "output_type": "stream",
     "text": [
      "Train confusion matrix\n"
     ]
    },
    {
     "data": {
      "image/png": "[encoded data removed]",
      "text/plain": [
       "<Figure size 432x288 with 2 Axes>"
      ]
     },
     "metadata": {},
     "output_type": "display_data"
    }
   ],
   "source": [
    "print(\"Train confusion matrix\")\n",
    "class_label = [\"negative\", \"positive\"]\n",
    "df_cm = pd.DataFrame(cm_train, index = class_label, columns = class_label)\n",
    "sns.heatmap(df_cm, cmap='magma',annot = True, fmt = \"d\")\n",
    "plt.title(\"Confusion Matrix\")\n",
    "plt.xlabel(\"Predicted Label\")\n",
    "plt.ylabel(\"Actual Label\")\n",
    "plt.show()"
   ]
  },
  {
   "cell_type": "code",
   "execution_count": 159,
   "metadata": {},
   "outputs": [
    {
     "name": "stdout",
     "output_type": "stream",
     "text": [
      "Test confusion matrix\n"
     ]
    },
    {
     "data": {
      "image/png": "[encoded data removed]",
      "text/plain": [
       "<Figure size 432x288 with 2 Axes>"
      ]
     },
     "metadata": {},
     "output_type": "display_data"
    }
   ],
   "source": [
    "print(\"Test confusion matrix\")\n",
    "class_label = [\"negative\", \"positive\"]\n",
    "df_cm = pd.DataFrame(cm_test, index = class_label, columns = class_label)\n",
    "sns.heatmap(df_cm, cmap='magma',annot = True, fmt = \"d\")\n",
    "plt.title(\"Confusion Matrix\")\n",
    "plt.xlabel(\"Predicted Label\")\n",
    "plt.ylabel(\"Actual Label\")\n",
    "plt.show()"
   ]
  },
  {
   "cell_type": "markdown",
   "metadata": {
    "colab_type": "text",
    "id": "UaJkugTKLPpE"
   },
   "source": [
    "#### [5.1.2.1] Performing pertubation test (multicollinearity check) on BOW,<font color='red'> SET 1</font>"
   ]
  },
  {
   "cell_type": "code",
   "execution_count": 160,
   "metadata": {},
   "outputs": [
    {
     "name": "stdout",
     "output_type": "stream",
     "text": [
      "15165\n"
     ]
    }
   ],
   "source": [
    "# Please write all the code with proper documentation\n",
    "import numpy as np\n",
    "we=LogisticRegression(C=1,penalty='l1',class_weight='balanced')\n",
    "we.fit(s,y_traincv)\n",
    "Wn=we.coef_\n",
    "print(np.count_nonzero(Wn))"
   ]
  },
  {
   "cell_type": "code",
   "execution_count": 161,
   "metadata": {},
   "outputs": [],
   "source": [
    "wd=Wn+10**-6"
   ]
  },
  {
   "cell_type": "code",
   "execution_count": 162,
   "metadata": {},
   "outputs": [
    {
     "name": "stdout",
     "output_type": "stream",
     "text": [
      "[[0.00000000e+00 4.30316234e-02 3.62929536e-04 ... 0.00000000e+00\n",
      "  1.40649699e-02 7.44078160e-01]]\n"
     ]
    }
   ],
   "source": [
    "print(Wn)"
   ]
  },
  {
   "cell_type": "code",
   "execution_count": 163,
   "metadata": {},
   "outputs": [
    {
     "name": "stdout",
     "output_type": "stream",
     "text": [
      "<class 'numpy.ndarray'>\n"
     ]
    }
   ],
   "source": [
    "per=(abs((We-wd)/We)*100)\n",
    "print(type(per))"
   ]
  },
  {
   "cell_type": "code",
   "execution_count": 164,
   "metadata": {},
   "outputs": [
    {
     "name": "stdout",
     "output_type": "stream",
     "text": [
      "52923\n"
     ]
    }
   ],
   "source": [
    "print(Wn.size)"
   ]
  },
  {
   "cell_type": "code",
   "execution_count": 178,
   "metadata": {},
   "outputs": [
    {
     "data": {
      "text/plain": [
       "[<matplotlib.lines.Line2D at 0x19cb0848550>]"
      ]
     },
     "execution_count": 178,
     "metadata": {},
     "output_type": "execute_result"
    },
    {
     "data": {
      "image/png": "[encoded data removed]",
      "text/plain": [
       "<Figure size 432x288 with 1 Axes>"
      ]
     },
     "metadata": {},
     "output_type": "display_data"
    }
   ],
   "source": [
    "y=[np.percentile(per,0),np.percentile(per,10),np.percentile(per,20),np.percentile(per,30),np.percentile(per,40),np.percentile(per,50),np.percentile(per,60),np.percentile(per,70),np.percentile(per,80),np.percentile(per,90),np.percentile(per,100)]\n",
    "x=[0,10,20,30,40,50,60,70,80,90,100]\n",
    "\n",
    "plt.plot(x,y)"
   ]
  },
  {
   "cell_type": "code",
   "execution_count": 179,
   "metadata": {},
   "outputs": [
    {
     "name": "stdout",
     "output_type": "stream",
     "text": [
      "49922\n"
     ]
    }
   ],
   "source": [
    "#https://docs.scipy.org/doc/numpy/reference/generated/numpy.where.html\n",
    "print(per[np.where(per > 90)].size)"
   ]
  },
  {
   "cell_type": "markdown",
   "metadata": {},
   "source": [
    "49922 feautures have  weight change greater than 90 percent.hence feautures are multicolinnear."
   ]
  },
  {
   "cell_type": "code",
   "execution_count": 181,
   "metadata": {},
   "outputs": [
    {
     "name": "stdout",
     "output_type": "stream",
     "text": [
      "['valuecalories', 'valued', 'valueonly', 'values', 'valuesaturated', 'valuetrans', 'valuevitamin', 'valve', 'valved', 'valves', 'vamp', 'vampire', 'vampires', 'van', 'vanalla', 'vancouver', 'vanes', 'vanessa', 'vaniila', 'vanila', 'vanilla', 'vanillaand', 'vanillachange', 'vanillamilkshake', 'vanillanumi', 'vanillas', 'vanille', 'vaniller', 'vanillery', 'vanillia', 'vanillin', 'vanish', 'vanished', 'vanishing', 'vanity', 'vannila', 'vannilla', 'vanquish', 'vantiquities', 'vapor', 'vaporize', 'vaporized', 'vaporizer', 'vaporizes', 'vapors', 'vaporub', 'vaposteam', 'var', 'varaities', 'vareties', 'varety', 'variability', 'variable', 'variables', 'variance', 'variances', 'variant', 'variants', 'variation', 'variations', 'variaty', 'varicose', 'varied', 'variedly', 'varieities', 'varies', 'variescalories', 'varietal', 'varietals', 'varietes', 'varietials', 'varieties', 'varietiesand', 'variety', 'varietyof', 'varietys', 'variey', 'varing', 'various', 'variously', 'variousseasonings', 'varities', 'varity', 'varment', 'varmint', 'varmints', 'varnish', 'varnishes', 'varnishkes', 'varoius', 'varous', 'varties', 'vary', 'varying', 'varys', 'vascular', 'vase', 'vaseline', 'vases', 'vasicular', 'vasodilator', 'vasquez', 'vast', 'vastly', 'vat', 'vatican', 'vatious', 'vats', 'vault', 'vaux', 'vay', 'vaying', 'vazza', 'vb', 'vbe', 'vbg', 'vc', 'vco', 'vcr', 'veal', 'vecchia', 'vedas', 'vee', 'veer', 'veered', 'veers', 'veery', 'veg', 'vega', 'vegables', 'vegamite', 'vegan', 'vegancompassion', 'veganessentials', 'veganism', 'vegannaise', 'veganomicon', 'vegans', 'vegas', 'vegatable', 'vegatables', 'vegatarian', 'vege', 'vegeburger', 'vegecat', 'vegei', 'vegelinks', 'vegemite', 'vegemites', 'vegenomicon', 'veges', 'vegeta', 'vegetable', 'vegetables', 'vegetablesonly', 'vegetably', 'vegetal', 'vegetarian', 'vegetariani', 'vegetarians', 'vegetatian', 'vegetation', 'vegetative', 'vegeterians', 'veggetables', 'veggie', 'veggiecrisps', 'veggiedent', 'veggies', 'veggis', 'veggy', 'vegi', 'vegie', 'vegies', 'vegiproduct', 'vegis', 'vegit', 'vegitable', 'vegitables', 'vegitarian', 'vegs', 'vegtable', 'vegtables', 'vegtiable', 'vegys', 'vehicle', 'vehicles', 'veils', 'veins', 'veja', 'velcade', 'velcro', 'velevt', 'velia', 'vell', 'velleron', 'velma', 'velva', 'velveeta', 'velveetacheese', 'velvelty', 'velvet', 'velveta', 'velveteen', 'velvetey', 'velvetly', 'velvets', 'velvetta', 'velvety', 'ven', 'venco', 'vend', 'vender', 'vending', 'vendor', 'vendori', 'vendors', 'veneer', 'venerable', 'venetian', 'venezienne', 'venezuela', 'venezuelan', 'vengance', 'vengeance', 'vengeful', 'venice', 'venison', 'venom', 'vension', 'vent', 'ventaire', 'vente', 'vented', 'venti', 'ventilated', 'ventilation', 'venting', 'ventresca', 'vents', 'venture', 'ventured', 'ventures', 'venturing', 'venue', 'venues', 'venus', 'ver', 'vera', 'verbac', 'verbage', 'verbal', 'verbally', 'verbatim', 'verbena', 'verbs', 'verdad', 'verdant', 'verde', 'verdict', 'vereda', 'veredagloria', 'verge', 'vergin', 'vergine', 'verging', 'vergnano', 'verict', 'verie', 'veriety', 'verifiable', 'verification', 'verified', 'verify', 'verifying', 'verion', 'veritable', 'verity', 'vermicelli', 'vermin', 'vermints', 'vermonster', 'vermont', 'vermonter', 'vermonters', 'vermouth', 'verna', 'verne', 'vernon', 'vernor', 'vernors', 'vero', 'verona', 'veronica', 'veroy', 'verrrry', 'verrry', 'verry', 'versa', 'versability', 'versailles', 'versatality', 'versatile', 'versatility', 'versatille', 'verse', 'versed', 'verses', 'versility', 'versin', 'version', 'versions', 'versital', 'versitile', 'versitility', 'verson', 'verstaile', 'versus', 'vert', 'vertabra', 'vertebra', 'vertebrae', 'vertical', 'vertically', 'verum', 'verveine', 'veryappealing', 'veryasia', 'veryconvenient', 'veryconveniet', 'verydelicious', 'veryeasy', 'veryexpensive', 'verygood', 'verylarge', 'verypicky', 'verypleased', 'verysparingly', 'veryy', 'veryyyyyyy', 'ves', 'vesatile', 'vespinae', 'vessel', 'vessels', 'vest', 'vestal', 'vested', 'vestige', 'vesus', 'vesuvio', 'vesuvius', 'vet', 'vetchy', 'vetenarian', 'veteran', 'veteranarian', 'veterans', 'veterinarian', 'veterinarians', 'veterinary', 'veternarians', 'veternerian', 'vetetables', 'vetoed', 'vetrinarian', 'vets', 'vetsupply', 'vetted', 'vexed', 'vey', 'vez', 'vfw', 'vginegar', 'vh', 'vhs', 'vi', 'via', 'viability', 'viable', 'viactiv', 'vial', 'vialone', 'vials', 'viamy', 'vian', 'viande', 'vianne', 'vibe', 'vibrance', 'vibrancy', 'vibrant', 'vibrantly', 'vibrar', 'vibrate', 'vibrating', 'vibration', 'vic', 'vicar', 'vicariously', 'vice', 'vicenza', 'vices', 'vichysoise', 'vichyssois', 'vicinity', 'viciously', 'vick', 'vicki', 'vickie', 'vicks', 'vicksburg', 'vics', 'victim', 'victims', 'victor', 'victoria', 'victorian', 'victorious', 'victors', 'victory', 'vida', 'vidalia', 'video', 'videodrome', 'videogame', 'videos', 'vids', 'vie', 'vienna', 'vienne', 'viennese', 'viet', 'vietnam', 'vietnamese', 'view', 'viewable', 'viewed', 'viewer', 'viewers', 'viewing', 'viewings', 'viewpoint', 'viewpoints', 'views', 'viga', 'vigerously', 'vigilant', 'vignettes', 'vigo', 'vigor', 'vigorous', 'vigorously', 'vigoruous', 'viii', 'viit', 'viitamin', 'viki', 'viking', 'vikings', 'vikram', 'vile', 'vilified', 'villa', 'village', 'villages', 'villaware', 'ville', 'vim', 'vimto', 'vin', 'vinacafe', 'vinagarette', 'vinager', 'vinagrette', 'vinagry', 'vinaigre', 'vinaigrette', 'vinaigretteit', 'vinaigrettes', 'vincent', 'vinci', 'vindaloo', 'vindaloos', 'vindicates', 'vindication', 'vindications', 'vine', 'vineagar', 'vinecourchc', 'vinegar', 'vinegared', 'vinegarette', 'vinegarey', 'vinegarrice', 'vinegars', 'vinegarseasoned', 'vinegarsushi', 'vinegarwhisk', 'vinegary', 'vineger', 'vinegers', 'vinegrette', 'vinegrettes', 'vines', 'viney', 'vineyard', 'vineyards', 'vingear', 'vingery', 'vinigar', 'vinnila', 'vinny', 'vino', 'vinta', 'vintage', 'vintages', 'vinter', 'vinters', 'vinturi', 'vinum', 'vinyard', 'vinyl', 'viola', 'violate', 'violated', 'violates', 'violating', 'violation', 'violence', 'violent', 'violently', 'violet', 'violets', 'violin', 'violist', 'vip', 'viral', 'virbac', 'virgib', 'virgin', 'virginia', 'virginiaand', 'virgins', 'virile', 'virility', 'virtual', 'virtually', 'virtue', 'virtues', 'virtuous', 'virus', 'viruses', 'virutally', 'vis', 'visa', 'visable', 'visably', 'visage', 'viscocity', 'viscosity', 'viscous', 'visibility', 'visible', 'visibly', 'visino', 'vision', 'visionary', 'visions', 'visisted', 'visit', 'visited', 'visiting', 'visitng', 'visitor', 'visitors', 'visits', 'vissino', 'vist', 'vista', 'vistas', 'visting', 'vistors', 'visual', 'visualize', 'visually', 'visuals', 'vit', 'vita', 'vitacoco', 'vitacost', 'vitacraft', 'vitakraft', 'vital', 'vitalabs', 'vitalicious', 'vitality', 'vitally', 'vitalyte', 'vitamic', 'vitamin', 'vitamine', 'vitamineral', 'vitamines', 'vitaminlife', 'vitamins', 'vitaminscet', 'vitaminy', 'vitamix', 'vitamns', 'vitamuffins', 'vitasoy', 'vitaspelt', 'vite', 'vitiamins', 'vitimin', 'vito', 'vitro', 'vittadini', 'vittles', 'viva', 'vivacious', 'vivacity', 'vivani', 'vivarin', 'vive', 'vivian', 'vivid', 'vividly', 'vivifying', 'viz', 'vizlas', 'vizsla', 'vizslas', 'vjm', 'vk', 'vladimir', 'vladivostok', 'vlasic', 'vldl', 'vlose', 'vn', 'vocab', 'vocal', 'vodka', 'voehl', 'vogel', 'vogt', 'vogue', 'vohc', 'voice', 'voiced', 'voicemail', 'voiceovers', 'voices', 'voicing', 'void', 'voight', 'voil', 'voila', 'vol', 'volatile', 'volatilized', 'volcanic', 'volcano', 'volcanoes', 'vole', 'voles', 'volia', 'volio', 'volition', 'volleyball', 'vollkornbrot', 'volpi', 'voltage', 'voltaire', 'volteados', 'volume', 'volumes', 'volumetrics', 'volumiizing', 'voluminous', 'volumizing', 'voluntarily', 'voluntary', 'volunteer', 'volunteered', 'volunteers', 'volunterily', 'voluptuous', 'volvic', 'vomit', 'vomited', 'vomiting', 'vomitous', 'vomits', 'vomitted', 'vomitting', 'vommited', 'vommitted', 'von', 'vons', 'voo', 'voodoo', 'voom', 'vooms', 'voracious', 'voraciously', 'vosges', 'voss', 'vote', 'voted', 'voters', 'votes', 'voting', 'vouch', 'vouched', 'vous', 'vow', 'vowed', 'vowing', 'vox', 'vp', 'vpi', 'vpn', 'vps', 'vrey', 'vruit', 'vs', 'vscognac', 'vserion', 'vt', 'vu', 'vulgar', 'vulgaris', 'vulnerable', 'vultures', 'vunderbar', 'vung', 'vv', 'vw', 'wa', 'waa', 'waaa', 'waaaaa', 'waaaaaaaay', 'waaaaaaay', 'waaaaaay', 'waaaaay', 'waaaabbbit', 'waaaay', 'waaaayyy', 'waaaayyyyyyy', 'waaanh', 'waaas', 'waaay', 'waait', 'waay', 'wabash', 'wabo', 'waching', 'wacked', 'wacky', 'waco', 'wacthing', 'wad', 'wadded', 'wade', 'wadi', 'wads', 'wafer', 'wafers', 'waffels', 'waffers', 'waffies', 'waffle', 'wafflemaker', 'waffler', 'waffles', 'waft', 'wafted', 'wafter', 'wafting', 'wafts', 'wafu', 'wag', 'wagatha', 'wage', 'wager', 'wages', 'wagged', 'waggers', 'wagging', 'waggle', 'wagner', 'wagon', 'wagons', 'wags', 'wagyu', 'wah', 'wahines', 'wahoo', 'waifs', 'waikato', 'waikiki', 'wail', 'wailing', 'waimea', 'wains', 'waist', 'waisteline', 'waisting', 'waistline', 'waistlines', 'waists', 'wait', 'waite', 'waited', 'waiter', 'waiting', 'waitng', 'waitress', 'waitresses', 'waits', 'waive', 'waiver', 'waivered', 'wakame', 'wakarenai', 'wake', 'wakefulness', 'wakeing', 'wakes', 'wakeup', 'waking', 'wal', 'wala', 'walbert', 'wald', 'waldbaums', 'walden', 'waldorf', 'wales', 'walgreen', 'walgreens', 'walk', 'walked', 'walker', 'walkers', 'walkerswod', 'walkerswood', 'walkerwood', 'walkerwoods', 'walking', 'walkings', 'walks', 'walky', 'wall', 'walla', 'wallah', 'wallahs', 'walled', 'wallenford', 'wallet', 'wallets', 'wallflower', 'wallmart', 'wallmarts', 'wallop', 'wallops', 'wallpaper', 'walls', 'wally', 'wallyworld', 'walmart', 'walmarts', 'walnettos', 'walnut', 'walnuts', 'walnutsred', 'walsh', 'walt', 'walter', 'walters', 'walts', 'waltz', 'waltzes', 'waluts', 'wammy', 'wamr', 'wan', 'wanamingo', 'wand', 'wanda', 'wander', 'wandered', 'wandering', 'wanders', 'wands', 'waned', 'wanes', 'wang', 'wangs', 'wanh', 'waning', 'wanker', 'wankers', 'wanna', 'wannabe', 'wannabee', 'wannabes', 'want', 'wanted', 'wanting', 'wantned', 'wants', 'wantto', 'waowi', 'war', 'warbling', 'warburg', 'warcraft', 'warcrime', 'ward', 'warding', 'wardrobe', 'wards', 'ware', 'warehouse', 'warehoused', 'warehouses', 'wares', 'warfare', 'warfarin', 'warfighting', 'wargames', 'warhammer', 'warhead', 'warheads', 'warhol', 'warily', 'waring', 'warlords', 'warm', 'warmafter', 'warmed', 'warmer', 'warmers', 'warmest', 'warming', 'warmish', 'warmly', 'warms', 'warmth', 'warn', 'warned', 'warner', 'warners', 'warning', 'warnings', 'warns', 'warp', 'warped', 'warping', 'warrant', 'warranted', 'warrantee', 'warrants', 'warranty', 'warren', 'warrenty', 'warrior', 'warriors', 'warry', 'wars', 'warsaw', 'wart', 'wartime', 'warts', 'warung', 'wary', 'wasa', 'wasabe', 'wasabi', 'wasagain', 'wasaibi', 'wasatch', 'wasbi', 'wasdisappointing', 'wash', 'washable', 'washadding', 'washcloth', 'washed', 'washer', 'washes', 'washing', 'washings', 'washington', 'washy', 'wasin', 'waskom', 'waslike', 'wasnot', 'wasnt', 'wasout', 'wasp', 'waspaying', 'wasps', 'wassail', 'wassome', 'wastage', 'waste', 'wastebasket', 'wasted', 'wasteful', 'wastefully', 'wastefulness', 'wasteing', 'wasteland', 'wasteline', 'wastelines', 'wasten', 'wastes', 'wasthrilled', 'wasting', 'wasvery', 'waswell', 'waswith', 'wat', 'watashiwa', 'watch', 'watchable', 'watchdog', 'watched', 'watcher', 'watchers', 'watches', 'watchful', 'watchign', 'watchin', 'watching', 'watchingour', 'wated', 'water', 'waterafter', 'wateralso', 'waterbelt', 'waterbottles', 'waterbugs', 'watercombine', 'watercress', 'watered', 'waterey', 'waterfourth', 'waterfresh', 'waterfront', 'watergate', 'waterheat', 'waterhint', 'watericegarnish', 'watering', 'wateringly', 'waterings', 'waterlemon', 'waterlogged', 'waterloo', 'watermark', 'watermelen', 'watermellon', 'watermelon', 'watermelons', 'watermelony', 'watermix', 'watermore', 'waternatural', 'waterpiks', 'waterplace', 'waterproof', 'waterpuree', 'waters', 'watershed', 'watertown', 'watervanilla', 'waterwheel', 'watery', 'waterysound', 'wathey', 'wating', 'watkins', 'watson', 'watt', 'wattage', 'watte', 'watts', 'watziznaym', 'waukesha', 'wave', 'waved', 'wavelength', 'waver', 'wavered', 'wavering', 'waverly', 'wavers', 'waves', 'waving', 'wavy', 'wawa', 'wax', 'waxed', 'waxes', 'waxfdc', 'waxier', 'waxiness', 'waxing', 'waxy', 'way', 'waybrighton', 'wayed', 'wayne', 'ways', 'wayside', 'waythe', 'wayto', 'wayward', 'wayyy', 'wayyyy', 'wayyyyy', 'wayyyyyyyy', 'wazzup', 'wbcl', 'wc', 'wd', 'wdw', 'weak', 'weaken', 'weakened', 'weakening', 'weakens', 'weaker', 'weakest', 'weakish', 'weakly', 'weakness', 'weaknesses', 'wealth', 'wealthy', 'wean', 'weaned', 'weaning', 'weans', 'weapon', 'weaponizing', 'weapons', 'wear', 'wearching', 'wearer', 'wearhouse', 'wearin', 'wearing', 'wearon', 'wears', 'weary', 'weather', 'weathered', 'weatherly', 'weave', 'weavels', 'weaver', 'weavil', 'weavils', 'weaving', 'web', 'webb', 'webber', 'webbing', 'webcam', 'weber', 'webers', 'webmd', 'webpage', 'webpages', 'webs', 'websearch', 'webshop', 'webside', 'websight', 'website', 'websiteand', 'websitenationwide', 'websites', 'websitre', 'webster', 'websters', 'webvitamins', 'webvitmins', 'wecan', 'wed', 'wedded', 'wedderspoon', 'wedding', 'weddings', 'wedge', 'wedged', 'wedges', 'wedgewood', 'wedlowski', 'wednesday', 'wednesdays', 'wedrink', 'wee', 'weebee', 'weed', 'weederspoon', 'weeds', 'weedy', 'weeee', 'weeeeeeeeeeeeeeeeeeeeeeeee', 'week', 'weekday', 'weekdays', 'weekend', 'weekenders', 'weekends', 'weekly', 'weeknight', 'weeknights', 'weeks', 'weel', 'ween', 'weened', 'weenie', 'weening', 'weensy', 'weeny', 'weep', 'weeping', 'weepy', 'weere', 'wees', 'weetabix', 'weevil', 'weevils', 'weez', 'weezer', 'weft', 'wegman', 'wegmans', 'wehn', 'wehre', 'wei', 'weigh', 'weighed', 'weighing', 'weighs', 'weight', 'weighted', 'weightgreen', 'weightless', 'weightlifting', 'weightloss', 'weightproblem', 'weights', 'weightwatcher', 'weightwatchers', 'weighty', 'weignt', 'weigth', 'weil', 'weim', 'weimaraner', 'weimeraner', 'weiner', 'weiners', 'weinhard', 'weir', 'weird', 'weirdest', 'weirdly', 'weirdness', 'weirdo', 'weirdos', 'weired', 'weis', 'weise', 'weiser', 'weiss', 'weissbrot', 'weissenbach', 'weisslas', 'weisswurst', 'wel', 'welch', 'welches', 'welchs', 'welcome', 'welcomed', 'welcomes', 'welcoming', 'welded', 'welding', 'welfare', 'well', 'wellas', 'wellbars', 'wellbeing', 'wellbites', 'wellbuilt', 'welldefinitely', 'welless', 'welli', 'wellington', 'wellingtons', 'welljust', 'welll', 'welllll', 'wellnes', 'wellness', 'wellnesss', 'wellonly', 'wellproduct', 'wells', 'welp', 'welsh', 'wending', 'wendy', 'went', 'weorder', 'weork', 'wer', 'wereavailable', 'werein', 'werent', 'wereso', 'werid', 'wern', 'werner', 'wernt', 'werther', 'werthers', 'weruva', 'werw', 'wery', 'wes', 'wesite', 'wesselmann', 'wesserman', 'wessex', 'west', 'westbrae', 'westchester', 'westcoast', 'western', 'westerner', 'westie', 'westiepoo', 'westies', 'westlake', 'westminster', 'weston', 'westphalia', 'westphalian', 'westpot', 'westsoy', 'westto', 'westward', 'wet', 'wetface', 'wether', 'wetland', 'wetness', 'wetted', 'wetter', 'wetting', 'wevils', 'wf', 'wfgf', 'wfm', 'wg', 'wh', 'wha', 'whaaaat', 'whack', 'whacked', 'whacko', 'whacky', 'whad', 'whaddaya', 'whai', 'whala', 'whalaa', 'whale', 'whales', 'whalloping', 'wham', 'whan', 'whang', 'wharehouse', 'wharf', 'whatamelon', 'whatcandystore', 'whatcha', 'whatchamacallit', 'whatever', 'whatevers', 'whateveryou', 'whatnot', 'whatnots', 'whats', 'whatsit', 'whatsoever', 'whatsoevertaste', 'whatta', 'whatto', 'whatziata', 'whay', 'whazzupwidat', 'whc', 'whcih', 'whe', 'wheat', 'wheatblend', 'wheateana', 'wheaten', 'wheatena', 'wheatenaville', 'wheatfree', 'wheatgingerbread', 'wheatgrass', 'wheatgrasskit', 'wheather', 'wheatier', 'wheaties', 'wheatless', 'wheatmeal', 'wheats', 'wheaty', 'wheedle', 'wheedling', 'wheee', 'wheel', 'wheelbarrow', 'wheelchair', 'wheeled', 'wheeler', 'wheels', 'wheeze', 'wheezers', 'wheezing', 'whell', 'whelm', 'whelming', 'whelmingly', 'whelped', 'whem', 'wheneaten', 'whenever', 'wheni', 'whenit', 'whenour', 'whent', 'whenthe', 'whentime', 'whenver', 'whenwe', 'whenyou', 'wher', 'wheras', 'whereas', 'whereever', 'wherehouse', 'wherein', 'whereon', 'whereupon', 'wherever', 'whereveryou', 'whernever', 'whet', 'whether', 'whets', 'whetted', 'whew', 'whey', 'wheywarnings', 'whfoods', 'whhhen', 'whhich', 'whic', 'whichdid', 'whichever', 'whichis', 'whichy', 'whicih', 'whie', 'whiff', 'whiffle', 'whiile', 'whileeat', 'whilevisiting', 'whilie', 'whilry', 'whilst', 'whim', 'whimp', 'whimpering', 'whimping', 'whimps', 'whimpy', 'whims', 'whimsical', 'whimsy', 'whine', 'whined', 'whiner', 'whiners', 'whines', 'whiney', 'whining', 'whiny', 'whip', 'whipit', 'whipped', 'whippersnapper', 'whippet', 'whippets', 'whipping', 'whipple', 'whips', 'whir', 'whirey', 'whirl', 'whirled', 'whirley', 'whirleypop', 'whirling', 'whirls', 'whirly', 'whirlypop', 'whirr', 'whirred', 'whirring', 'whish', 'whisk', 'whiska', 'whiskas', 'whisked', 'whisker', 'whiskers', 'whiskey', 'whiskies', 'whisking', 'whisks', 'whisky', 'whisp', 'whisper', 'whispered', 'whisperer', 'whispering', 'whispers', 'whistle', 'whistles', 'whistling', 'whit', 'white', 'whiteboard', 'whitebread', 'whitefish', 'whitefly', 'whitehouse', 'whiten', 'whitened', 'whitener', 'whiteness', 'whitening', 'whitens', 'whiter', 'whites', 'whitewash', 'whitewave', 'whith', 'whither', 'whithered', 'whiting', 'whitish', 'whitman', 'whitney', 'whitten', 'whittle', 'whiz', 'whizz', 'whizzed', 'whizzing', 'whle', 'whlich', 'whoa', 'whoah', 'whoala', 'whodunnit', 'whoever', 'whohoo', 'whole', 'wholefood', 'wholefoods', 'wholegrain', 'wholeheartdly', 'wholeheartedly', 'wholelattelove', 'wholemeal', 'wholeness', 'wholes', 'wholesale', 'wholesaleclub', 'wholesaler', 'wholesalers', 'wholesell', 'wholesome', 'wholesomefood', 'wholesomeness', 'wholespice', 'wholewheat', 'wholistic', 'whollop', 'wholly', 'whomever', 'whomp', 'whoo', 'whoooole', 'whooopee', 'whoop', 'whoopie', 'whooping', 'whoops', 'whoosh', 'whooshed', 'whopp', 'whopper', 'whoppers', 'whopping', 'whoppingly', 'whoprescribed', 'whoread', 'whos', 'whose', 'whould', 'whow', 'whrite', 'wht', 'whyyyy', 'wi', 'wic', 'wich', 'wichita', 'wick', 'wicked', 'wickedly', 'wicker', 'wide', 'widely', 'widen', 'widened', 'widens', 'wider', 'wides', 'widescreen', 'widespread', 'widly', 'widow', 'widower', 'width', 'wieght', 'wiener', 'wieners', 'wienerschnitzel', 'wierd', 'wierdness', 'wiesbaden', 'wieser', 'wife', 'wifeand', 'wifed', 'wifes', 'wifey', 'wiggle', 'wiggled', 'wiggling', 'wiggly', 'wighed', 'wigley', 'wigs', 'wih', 'wihout', 'wiht', 'wii', 'wiil', 'wiithout', 'wiki', 'wikipedia', 'wil', 'wilbur', 'wild', 'wildberries', 'wildberry', 'wilde', 'wilder', 'wilderness', 'wildest', 'wildfire', 'wildflower', 'wildflowers', 'wildlife', 'wildly', 'wilds', 'wildstrawberry', 'wildwood', 'wile', 'wiles', 'wilford', 'wilkes', 'wilkin', 'willard', 'willbe', 'willbuy', 'willcompliment', 'willcontinue', 'willdrink', 'willed', 'willett', 'willhave', 'willi', 'william', 'williams', 'williamsalbany', 'williamsburg', 'williamson', 'willie', 'willing', 'willingham', 'willingly', 'willingness', 'willis', 'willl', 'willnot', 'willow', 'willpower', 'willpurchase', 'willtry', 'willuse', 'willy', 'wilma', 'wilsh', 'wilson', 'wilt', 'wilted', 'wilton', 'wilts', 'wimp', 'wimper', 'wimpiness', 'wimpishly', 'wimps', 'wimpy', 'win', 'wince', 'winces', 'wincing', 'winco', 'wind', 'windchill', 'winded', 'windi', 'winding', 'windmill', 'windmills', 'window', 'windows', 'windowsill', 'windowsills', 'windpipe', 'winds', 'windshield', 'windsor', 'windy', 'wine', 'winegums', 'winer', 'wineries', 'winery', 'wines', 'winesalt', 'winey', 'wineyfinish', 'wing', 'winged', 'winging', 'wings', 'wingshalf', 'wingsoil', 'wingstoss', 'wining', 'wink', 'winking', 'winn', 'winna', 'winner', 'winners', 'winnie', 'winning', 'winnings', 'winnipeg', 'winnow', 'wino', 'winona', 'winonna', 'wins', 'winsconsinmade', 'winston', 'wint', 'winter', 'winterblue', 'wintered', 'winterfresh', 'winterfrost', 'wintergreeen', 'wintergreen', 'wintermint', 'wintermy', 'winters', 'wintertime', 'wintery', 'winthrop', 'winto', 'wintry', 'winy', 'wionderful', 'wipe', 'wiped', 'wipes', 'wiping', 'wire', 'wired', 'wiredweird', 'wirehaired', 'wireless', 'wires', 'wirhout', 'wiring', 'wis', 'wisconsin', 'wisconsinite', 'wisconsinmade', 'wisconson', 'wisdom', 'wise', 'wisecrackers', 'wisecracking', 'wised', 'wiseguy', 'wisely', 'wiseman', 'wiser', 'wisewhat', 'wisgold', 'wish', 'wishbone', 'wished', 'wishes', 'wishing', 'wishit', 'wishky', 'wishlist', 'wishniak', 'wishy', 'wisk', 'wiska', 'wisked', 'wisky', 'wisps', 'wissotzky', 'wistfully', 'wit', 'witch', 'witchcrafts', 'witchhazel', 'witha', 'withall', 'withcarbohydrates', 'withdraw', 'withdrawal', 'withdrawals', 'withdrawing', 'withdrawl', 'withdrawn', 'withdrew', 'wither', 'withered', 'withering', 'withfine', 'withflax', 'withfresh', 'withheld', 'withhold', 'withholding', 'withhoney', 'withhout', 'within', 'withing', 'withinsights', 'withme', 'withminimal', 'withmy', 'withot', 'withou', 'withouit', 'withour', 'without', 'withouth', 'withoutnoticing', 'withoutthem', 'withpapertowel', 'withpro', 'withsimilac', 'withsix', 'withspaghetti', 'withsplenda', 'withstand', 'withstands', 'withstick', 'withstood', 'witht', 'withthe', 'withtheir', 'withthis', 'witin', 'witjh', 'witmer', 'witness', 'witnessed', 'witnessing', 'witohut', 'wits', 'witth', 'witty', 'wives', 'wizard', 'wizards', 'wizzlers', 'wjat', 'wjla', 'wjrf', 'wk', 'wks', 'wld', 'wll', 'wlll', 'wlmart', 'wls', 'wm', 'wmart', 'wmd', 'wnats', 'wnho', 'wno', 'wnough', 'wo', 'woah', 'wobbler', 'woderfully', 'wodnerfully', 'woe', 'woeber', 'woefully', 'woek', 'woes', 'wofferman', 'wohop', 'wok', 'woke', 'woken', 'wokeup', 'wol', 'wold', 'woldhudson', 'wolf', 'wolfberries', 'wolfberry', 'wolfe', 'wolfed', 'wolfen', 'wolferman', 'wolfermans', 'wolff', 'wolfgan', 'wolfgang', 'wolfhound', 'wolfing', 'wolfs', 'wolfson', 'wollop', 'wolves', 'woma', 'woman', 'womans', 'womderful', 'womem', 'women', 'womens', 'womit', 'wondeful', 'wonder', 'wonderabout', 'wonderbread', 'wondercocoa', 'wonderdful', 'wonderdrug', 'wondered', 'wonderfl', 'wonderfui', 'wonderful', 'wonderfulcrowning', 'wonderfull', 'wonderfully', 'wonderfulness', 'wonderfulusually', 'wonderfuly', 'wondering', 'wonderland', 'wonderment', 'wondermous', 'wonderous', 'wonderously', 'wonderrful', 'wonders', 'wonderslim', 'wonderul', 'wondferul', 'wondrous', 'wonerful', 'wonerfully', 'wonka', 'wonky', 'wont', 'wonton', 'wontons', 'woo', 'wood', 'woodchuck', 'woodchucks', 'woodeagle', 'woodear', 'wooded', 'wooden', 'woodgrain', 'woodie', 'woodier', 'woodiness', 'woodman', 'woodpecker', 'woodpiles', 'woods', 'woodshop', 'woodsmaui', 'woodstock', 'woodstocks', 'woodstream', 'woodsy', 'woody', 'wooed', 'woof', 'woofers', 'woofs', 'woofy', 'woohhhooo', 'woohoo', 'woohooo', 'wooks', 'wool', 'woolen', 'woolworth', 'woooooooo', 'woopie', 'woops', 'woosh', 'wooster', 'woot', 'woow', 'woowee', 'woozy', 'worcester', 'worcestershire', 'worchester', 'worchestershire', 'word', 'worded', 'wording', 'words', 'wordy', 'wore', 'worht', 'work', 'workable', 'workaday', 'workaround', 'workarounds', 'workday', 'workdays', 'worked', 'worker', 'workers', 'workes', 'workhorse', 'working', 'workload', 'workout', 'workouts', 'workplace', 'workplaces', 'workps', 'workroom', 'works', 'worksas', 'worksfleischmanns', 'worksgreat', 'workshop', 'workshops', 'worksother', 'workspace', 'workstyles', 'world', 'worldfiner', 'worldly', 'worldpantry', 'worlds', 'worldwide', 'worm', 'wormed', 'wormer', 'worms', 'wormwood', 'worn', 'worried', 'worries', 'worriless', 'worrisome', 'worrth', 'worry', 'worrying', 'worschire', 'worse', 'worsened', 'worsening', 'worship', 'worshipper', 'worst', 'worsterchire', 'wort', 'worth', 'worthiness', 'worthing', 'worthingtn', 'worthington', 'worthinton', 'worthless', 'worths', 'worththe', 'worthwhile', 'worthy', 'wory', 'woryy', 'wost', 'woth', 'wou', 'woud', 'woudl', 'woudld', 'wought', 'wouid', 'woul', 'would', 'woulda', 'wouldaily', 'wouldal', 'wouldark', 'wouldarker', 'woulday', 'wouldbe', 'woulde', 'wouldead', 'wouldeep', 'wouldefunct', 'wouldelivers', 'wouldeluxe', 'wouldentail', 'wouldeovers', 'wouldepartment', 'wouldesigner', 'wouldessert', 'wouldget', 'wouldiet', 'wouldieter', 'wouldifferent', 'wouldill', 'wouldint', 'wouldip', 'wouldirect', 'wouldirty', 'wouldiscovered', 'wouldiscovering', 'wouldisguise', 'wouldissolve', 'wouldissolved', 'wouldnever', 'wouldnot', 'wouldnt', 'wouldo', 'wouldoctor', 'wouldoctored', 'wouldoes', 'wouldog', 'wouldogs', 'wouldollar', 'wouldouble', 'wouldough', 'wouldown', 'wouldrecommend', 'wouldress', 'wouldrink', 'wouldrinking', 'wouldrop', 'wouldrying', 'wouldst', 'wouldust', 'wouldusty', 'wouldve', 'wouldying', 'woule', 'wouls', 'woulso', 'wound', 'wounded', 'wounder', 'wounderful', 'wounds', 'wouod', 'wouold', 'woven', 'wow', 'wowed', 'wowit', 'wows', 'wp', 'wpc', 'wrangle', 'wrap', 'wraped', 'wrapped', 'wrapper', 'wrappers', 'wrapping', 'wrappings', 'wraps', 'wrapture', 'wrath', 'wre', 'wreak', 'wreaked', 'wreaking', 'wreaks', 'wreath', 'wreck', 'wrecked', 'wrecking', 'wrer', 'wrestle', 'wrestlers', 'wrestles', 'wrestling', 'wretch', 'wretched', 'wriggler', 'wright', 'wrigley', 'wrigleys', 'wringer', 'wringing', 'wrings', 'wrinked', 'wrinkle', 'wrinkled', 'wrinkles', 'wrinkly', 'wrist', 'wrists', 'write', 'writen', 'writer', 'writers', 'writes', 'writhing', 'writing', 'writings', 'written', 'writtenonly', 'writting', 'wrong', 'wronged', 'wrongly', 'wrongo', 'wrongs', 'wrote', 'wrt', 'wrth', 'wrung', 'ws', 'wt', 'wtf', 'wth', 'wtih', 'wtihout', 'wu', 'wuality', 'wuch', 'wudgies', 'wudgy', 'wulong', 'wulongs', 'wunderbars', 'wurly', 'wurst', 'wursts', 'wuss', 'wussy', 'wuyi', 'wuyishan', 'wv', 'wvm', 'ww', 'wwatchers', 'wwii', 'wwiii', 'wwooohhooo', 'www', 'wxcellent', 'wxtra', 'wy', 'wylde', 'wyler', 'wylers', 'wyman', 'wynona', 'wyoming', 'wyona', 'wysong', 'xagave', 'xanathum', 'xanax', 'xand', 'xango', 'xantham', 'xanthan', 'xanthelasma', 'xanthem', 'xanthine', 'xanthines', 'xanthum', 'xbold', 'xbox', 'xc', 'xcell', 'xcellent', 'xcellint', 'xclear', 'xd', 'xdate', 'xena', 'xenoestrogens', 'xenophobic', 'xg', 'xiangsi', 'xico', 'xiii', 'ximenez', 'xiv', 'xl', 'xlear', 'xlge', 'xlichew', 'xlr', 'xlure', 'xlylitol', 'xlyo', 'xmas', 'xo', 'xocolatl', 'xox', 'xoxo', 'xoxox', 'xpiration', 'xplode', 'xplosion', 'xrays', 'xtra', 'xtreme', 'xv', 'xvi', 'xwith', 'xx', 'xxx', 'xxxbucks', 'xxxtra', 'xxxxtremely', 'xy', 'xyiltol', 'xylan', 'xylichew', 'xylitol', 'xylitoli', 'xylitolwhatever', 'xyllitol', 'xylo', 'xyloburst', 'xylosweet', 'xylotol', 'xyltol', 'ya', 'yaa', 'yaaaaay', 'yaawwwwnn', 'yaay', 'yachts', 'yacon', 'yada', 'yadayadayada', 'yadda', 'yaer', 'yagart', 'yah', 'yahoo', 'yak', 'yaki', 'yakima', 'yakimando', 'yakisoba', 'yakked', 'yam', 'yama', 'yamama', 'yamamoto', 'yamamotoyama', 'yamasa', 'yamate', 'yamatoyama', 'yame', 'yammy', 'yams', 'yan', 'yancyd', 'yang', 'yangtse', 'yank', 'yanked', 'yankee', 'yankees', 'yanks', 'yanky', 'yaohan', 'yappers', 'yappy', 'yaps', 'yard', 'yardbird', 'yardbirds', 'yards', 'yardstick', 'yare', 'yarn', 'yarrow', 'yars', 'yawn', 'yawned', 'yawning', 'yay', 'yaya', 'ybor', 'yc', 'ycca', 'ye', 'yea', 'yeaaaaah', 'yeach', 'yeah', 'yeahhh', 'yealds', 'yeap', 'year', 'yearly', 'yearn', 'yearned', 'yearning', 'yearnings', 'yearout', 'years', 'yearsago', 'yearsback', 'yearsi', 'yeasr', 'yeast', 'yeastin', 'yeastiness', 'yeastred', 'yeasts', 'yeasty', 'yeat', 'yeay', 'yecch', 'yech', 'yeck', 'yeech', 'yeee', 'yeeeooowww', 'yeees', 'yeesh', 'yeh', 'yehuda', 'yeild', 'yeilding', 'yell', 'yelled', 'yelling', 'yello', 'yellow', 'yellowcake', 'yellowed', 'yellower', 'yellowfin', 'yellowing', 'yellowish', 'yellowjacket', 'yellows', 'yellowtail', 'yellowy', 'yells', 'yelp', 'yelped', 'yemini', 'yen', 'yenshaw', 'yeowww', 'yep', 'yer', 'yerba', 'yerbamate', 'yerbe', 'yers', 'yes', 'yescan', 'yesdoes', 'yeshua', 'yesi', 'yesis', 'yesrs', 'yess', 'yessiree', 'yest', 'yesterday', 'yesterdays', 'yesterdy', 'yesteryear', 'yet', 'yetclif', 'yeterday', 'yetit', 'yever', 'yg', 'yhis', 'yi', 'yicky', 'yield', 'yielded', 'yielding', 'yields', 'yikes', 'yimothy', 'yin', 'ying', 'yip', 'yipee', 'yippee', 'yipper', 'yippie', 'yippy', 'yipyaps', 'yixing', 'ymca', 'ymmm', 'ymmv', 'ymmw', 'ymmy', 'yngwie', 'yo', 'yoakum', 'yobaby', 'yocheese', 'yoda', 'yodel', 'yodels', 'yoga', 'yogart', 'yogert', 'yoghourt', 'yoghurt', 'yogi', 'yogic', 'yogitea', 'yogourmet', 'yogoutmet', 'yogur', 'yogurettes', 'yogurt', 'yogurtfor', 'yogurts', 'yogurtsets', 'yogurtyogourmet', 'yohay', 'yokan', 'yoke', 'yokes', 'yoki', 'yokosuka', 'yoks', 'yokshire', 'yolk', 'yolkless', 'yolks', 'yolky', 'yom', 'yoo', 'yoohoo', 'yoong', 'yooooouuuuuuu', 'yoplait', 'yopur', 'yor', 'yore', 'york', 'yorker', 'yorkers', 'yorkie', 'yorkiepoo', 'yorkies', 'yorkipoo', 'yorkshie', 'yorkshire', 'yorkshiremonm', 'yorksire', 'yorky', 'yoru', 'yosemite', 'yoshinoya', 'youalready', 'youamazon', 'youcan', 'youcant', 'youchoose', 'youcould', 'youdiane', 'youdobetterthan', 'yougart', 'yougert', 'yougonna', 'yougrt', 'yougurt', 'youit', 'youjames', 'youkan', 'youlinda', 'youll', 'youmelody', 'youmy', 'yound', 'young', 'younger', 'youngest', 'youngin', 'youngman', 'youngster', 'youngsters', 'yourdaily', 'yourdigestive', 'youre', 'yourfavorite', 'yourfoods', 'yourfruits', 'yourlocal', 'youronly', 'yourritz', 'yourselfer', 'yous', 'youse', 'youself', 'yousincerelyms', 'youstill', 'youth', 'youthful', 'youthfully', 'youtom', 'youtube', 'youtubegarden', 'youur', 'youv', 'youve', 'youwant', 'youwill', 'youwould', 'yow', 'yowled', 'yowling', 'yoy', 'ypsilanti', 'yr', 'yrs', 'ys', 'ytwelve', 'yu', 'yuban', 'yucatan', 'yucateco', 'yucca', 'yucchhh', 'yuchk', 'yuck', 'yuckiest', 'yuckiness', 'yuckkkkkkkkkkkkkkkk', 'yucko', 'yucky', 'yugort', 'yugoslavia', 'yuh', 'yuk', 'yukkkkk', 'yukky', 'yukon', 'yuky', 'yulong', 'yum', 'yuma', 'yumalicious', 'yumberry', 'yumi', 'yumm', 'yumma', 'yummee', 'yummeeee', 'yummers', 'yummi', 'yummie', 'yummier', 'yummies', 'yummiest', 'yummilicious', 'yummily', 'yumminess', 'yummish', 'yummm', 'yummmm', 'yummmmm', 'yummmmmm', 'yummmmmmm', 'yummmmmmmm', 'yummmmmmmmm', 'yummmmmmmmmm', 'yummmmmmmmmmmmy', 'yummmmmmmmmy', 'yummmmmmmy', 'yummmmmmy', 'yummmmmmyadded', 'yummmmmy', 'yummmmy', 'yummmmyyy', 'yummmy', 'yummo', 'yumms', 'yummy', 'yummydeliciouscolorfulcons', 'yummyearth', 'yummyness', 'yummypat', 'yummyravioli', 'yumnmy', 'yumnuts', 'yumo', 'yums', 'yumscrumarama', 'yumy', 'yumyum', 'yunah', 'yunann', 'yung', 'yungas', 'yunnan', 'yunny', 'yup', 'yuppie', 'yuppies', 'yuppy', 'yuricka', 'yuuki', 'yuuummmmm', 'yuuuumy', 'yuuuuummy', 'yuuuuummyyyy', 'yuuuuuummmmmm', 'yuzu', 'yves', 'yvonne', 'yyou', 'yyyuuummm', 'za', 'zaar', 'zaba', 'zaballione', 'zabars', 'zabba', 'zabuca', 'zach', 'zack', 'zactly', 'zafrani', 'zag', 'zagging', 'zagnut', 'zagreb', 'zaloga', 'zambezi', 'zamori', 'zamouri', 'zang', 'zango', 'zantac', 'zante', 'zap', 'zapp', 'zapped', 'zapper', 'zappos', 'zaps', 'zarafina', 'zareba', 'zat', 'zatairain', 'zatarain', 'zataraine', 'zatarains', 'zataran', 'zatarian', 'zatarin', 'zatterans', 'zaxby', 'zaz', 'zbar', 'zbars', 'zd', 'zea', 'zeal', 'zealand', 'zebra', 'zehr', 'zehrs', 'zeisner', 'zelben', 'zellies', 'zellwood', 'zen', 'zena', 'zenith', 'zensoy', 'zeolite', 'zeppelin', 'zerg', 'zergut', 'zermatt', 'zero', 'zeros', 'zest', 'zestful', 'zestiness', 'zestnon', 'zesty', 'zeus', 'zevia', 'zhean', 'zhejiang', 'zhen', 'zhena', 'zhenathis', 'zhu', 'zico', 'ziconot', 'zig', 'zigelhofer', 'ziggie', 'ziggies', 'ziggy', 'zigzag', 'zilch', 'zillion', 'zillions', 'zimtsterne', 'zinc', 'zinczenko', 'zinfandel', 'zing', 'zinged', 'zinger', 'zingerman', 'zingers', 'zingiber', 'zingier', 'zinging', 'zingy', 'zion', 'zip', 'zipfizz', 'ziploc', 'ziplock', 'ziplocked', 'ziplocks', 'ziplocs', 'zipp', 'zipped', 'zipper', 'zippered', 'zippers', 'zippfizz', 'zipping', 'zippo', 'zippy', 'zit', 'zita', 'ziti', 'zito', 'ziwi', 'ziwipeak', 'ziyad', 'zoe', 'zoey', 'zoie', 'zoj', 'zoji', 'zojirushi', 'zola', 'zoloft', 'zombie', 'zombies', 'zomg', 'zon', 'zone', 'zones', 'zoo', 'zookeeper', 'zoom', 'zoomed', 'zoomies', 'zooming', 'zoos', 'zoster', 'zots', 'zotz', 'zotzs', 'zours', 'zout', 'zp', 'zreport', 'zsweet', 'zuc', 'zucchini', 'zuccini', 'zuchini', 'zuke', 'zukes', 'zulu', 'zuma', 'zumis', 'zummy', 'zuppa', 'zurich', 'zwieback', 'zwiebeck', 'zx', 'zydeco', 'zyje', 'zyme', 'zyrtec', 'zz', 'zzzzz', 'zzzzzz', 'zzzzzzz', 'zzzzzzzz', 'zzzzzzzzzzz']"
     ]
    },
    {
     "name": "stdout",
     "output_type": "stream",
     "text": [
      "\n"
     ]
    }
   ],
   "source": [
    "#https://stackoverflow.com/questions/11116697/how-to-get-most-informative-features-for-scikit-learn-classifiers\n",
    "feature_names = count_vect.get_feature_names()\n",
    "print(feature_names[49922:])"
   ]
  },
  {
   "cell_type": "markdown",
   "metadata": {
    "colab_type": "text",
    "id": "eB1rF0BQLPpG"
   },
   "source": [
    "### [5.1.3] Feature Importance on BOW,<font color='red'> SET 1</font>"
   ]
  },
  {
   "cell_type": "markdown",
   "metadata": {
    "colab_type": "text",
    "id": "JZTP19dqLPpI"
   },
   "source": [
    "#### [5.1.3.1] Top 10 important features of positive class from<font color='red'> SET 1</font>"
   ]
  },
  {
   "cell_type": "code",
   "execution_count": 74,
   "metadata": {},
   "outputs": [
    {
     "name": "stdout",
     "output_type": "stream",
     "text": [
      "Top 10 positive features/n\n",
      "\t2.3857\tgreat          \n",
      "\t1.7227\tbest           \n",
      "\t1.5577\tgood           \n",
      "\t1.5255\tperfect        \n",
      "\t1.4927\tlove           \n",
      "\t1.3590\tfavorite       \n",
      "\t1.2444\thealthful      \n",
      "\t1.1497\tloves          \n",
      "\t1.1406\taddicted       \n",
      "\t1.1341\tdelicious      \n"
     ]
    }
   ],
   "source": [
    "# Please write all the code with proper documentation\n",
    "#https://stackoverflow.com/questions/11116697/how-to-get-most-informative-features-for-scikit-learn-classifiers\n",
    "feature_names = count_vect.get_feature_names()\n",
    "coefs_with_fns = sorted(zip(we.coef_[0], feature_names))\n",
    "top = coefs_with_fns[:-11:-1]\n",
    "print(\"Top 10 positive features/n\")\n",
    "for coef_1, positive in top:\n",
    "    print (\"\\t%.4f\\t%-15s\" % (coef_1, positive))\n",
    "    "
   ]
  },
  {
   "cell_type": "markdown",
   "metadata": {
    "colab_type": "text",
    "id": "UJLYBE1gLPpJ"
   },
   "source": [
    "#### [5.1.3.2] Top 10 important features of negative class from<font color='red'> SET 1</font>"
   ]
  },
  {
   "cell_type": "code",
   "execution_count": 75,
   "metadata": {
    "colab": {},
    "colab_type": "code",
    "id": "c9r7Zjx1LPpK"
   },
   "outputs": [
    {
     "name": "stdout",
     "output_type": "stream",
     "text": [
      "Top 10 Negative features\n",
      "\t-2.8569\tnot            \n",
      "\t-1.4388\tworst          \n",
      "\t-0.9928\tcanidae        \n",
      "\t-0.8821\tbait           \n",
      "\t-0.7555\tsuperfine      \n",
      "\t-0.7156\tunfortunately  \n",
      "\t-0.7140\tdisappointing  \n",
      "\t-0.6969\tterrible       \n",
      "\t-0.6792\tgeyser         \n",
      "\t-0.6298\tleaves         \n"
     ]
    }
   ],
   "source": [
    "# Please write all the code with proper documentation\n",
    "feature_names = count_vect.get_feature_names()\n",
    "coefs_with_fns = sorted(zip(we.coef_[0], feature_names))\n",
    "top = coefs_with_fns[:10]\n",
    "print(\"Top 10 Negative features\")\n",
    "for coef_1, negative in top:\n",
    "    print (\"\\t%.4f\\t%-15s\" % (coef_1, negative))"
   ]
  },
  {
   "cell_type": "markdown",
   "metadata": {
    "colab_type": "text",
    "id": "nKn3VXcZLPpN"
   },
   "source": [
    "## [5.2] Logistic Regression on TFIDF,<font color='red'> SET 2</font>"
   ]
  },
  {
   "cell_type": "markdown",
   "metadata": {
    "colab_type": "text",
    "id": "naTBSzm6LPpN"
   },
   "source": [
    "### [5.2.1] Applying Logistic Regression with L1 regularization on TFIDF,<font color='red'> SET 2</font>"
   ]
  },
  {
   "cell_type": "code",
   "execution_count": 76,
   "metadata": {
    "colab": {},
    "colab_type": "code",
    "id": "PEhaagXXLPpS"
   },
   "outputs": [
    {
     "data": {
      "image/png": "[encoded data removed]",
      "text/plain": [
       "<Figure size 432x288 with 1 Axes>"
      ]
     },
     "metadata": {},
     "output_type": "display_data"
    },
    {
     "name": "stdout",
     "output_type": "stream",
     "text": [
      "LogisticRegression(C=0.01, class_weight='balanced', dual=False,\n",
      "          fit_intercept=True, intercept_scaling=1, max_iter=100,\n",
      "          multi_class='warn', n_jobs=None, penalty='l1', random_state=None,\n",
      "          solver='warn', tol=0.0001, verbose=0, warm_start=False)\n",
      "0.9951099016536522\n",
      "0.9573656749873616\n",
      "========================================================================================================================================================================================================\n"
     ]
    }
   ],
   "source": [
    "# Please write all the code with proper documentation\n",
    "# https://scikit-learn.org/stable/modules/generated/sklearn.model_selection.GridSearchCV.html\n",
    "from sklearn.model_selection import GridSearchCV\n",
    "from sklearn.datasets import *\n",
    "from sklearn.linear_model import LogisticRegression\n",
    "import math\n",
    "lr = LogisticRegression(penalty='l1',class_weight='balanced')\n",
    "#parameters = {'n_neighbors':[1, 5, 10, 15, 21, 31, 41, 51]}\n",
    "tuned_parameters = [{'C': [10**-4, 10**-2, 10**0, 10**2, 10**4]}]\n",
    "clf = GridSearchCV(lr, tuned_parameters, cv=5, scoring='roc_auc')\n",
    "clf.fit(final_tf_idf, y_traincv)\n",
    "\n",
    "train_auc= clf.cv_results_['mean_train_score']\n",
    "train_auc_std= clf.cv_results_['std_train_score']\n",
    "cv_auc = clf.cv_results_['mean_test_score'] \n",
    "cv_auc_std= clf.cv_results_['std_test_score']\n",
    "P=[10**-4, 10**-2, 10**0, 10**2, 10**4]\n",
    "C=[]\n",
    "for i in P:\n",
    "    C.append(math.log(i))\n",
    "plt.plot(C, train_auc, label='Train AUC')\n",
    "# this code is copied from here: https://stackoverflow.com/a/48803361/4084039\n",
    "plt.gca().fill_between(C,train_auc - train_auc_std,train_auc + train_auc_std,alpha=0.2,color='darkblue')\n",
    "\n",
    "plt.plot(C, cv_auc, label='CV AUC')\n",
    "# this code is copied from here: https://stackoverflow.com/a/48803361/4084039\n",
    "plt.gca().fill_between(C,cv_auc - cv_auc_std,cv_auc + cv_auc_std,alpha=0.2,color='darkorange')\n",
    "plt.legend()\n",
    "plt.xlabel(\"C: hyperparameter\")\n",
    "plt.ylabel(\"AUC\")\n",
    "plt.title(\"ERROR PLOTS\")\n",
    "plt.show()\n",
    "print(clf.best_estimator_)\n",
    "print(clf.score(final_tf_idf, y_traincv))\n",
    "print(clf.score(final_tf_idf_test, y_test))\n",
    "print('='*200)\n",
    "score_train_tfidfl1=clf.score(final_tf_idf, y_traincv)\n",
    "score_test_tfidfl1=clf.score(final_tf_idf_test, y_test)"
   ]
  },
  {
   "cell_type": "code",
   "execution_count": 77,
   "metadata": {
    "scrolled": true
   },
   "outputs": [
    {
     "name": "stdout",
     "output_type": "stream",
     "text": [
      "[0.6638306447129373, 0.9531485819683566, 0.9366891069218433, 0.9246459263833312, 0.8931439402393008]\n",
      "[0.0001, 0.01, 1, 100, 10000]\n"
     ]
    }
   ],
   "source": [
    "print(list(cv_auc))\n",
    "print(list(P))"
   ]
  },
  {
   "cell_type": "code",
   "execution_count": 78,
   "metadata": {},
   "outputs": [
    {
     "name": "stdout",
     "output_type": "stream",
     "text": [
      "0.01\n"
     ]
    }
   ],
   "source": [
    "i=list(cv_auc).index(max(cv_auc))\n",
    "optimal_C_tfidfl1=P[i]\n",
    "print(optimal_C_tfidfl1)"
   ]
  },
  {
   "cell_type": "code",
   "execution_count": 79,
   "metadata": {},
   "outputs": [
    {
     "data": {
      "image/png": "[encoded data removed]",
      "text/plain": [
       "<Figure size 432x288 with 1 Axes>"
      ]
     },
     "metadata": {},
     "output_type": "display_data"
    },
    {
     "name": "stdout",
     "output_type": "stream",
     "text": [
      "====================================================================================================\n"
     ]
    }
   ],
   "source": [
    "# https://scikit-learn.org/stable/modules/generated/sklearn.metrics.roc_curve.html#sklearn.metrics.roc_curve\n",
    "from sklearn.metrics import roc_curve, auc\n",
    "we=LogisticRegression(C=optimal_C_tfidfl1,penalty='l1',class_weight='balanced')\n",
    "we.fit(final_tf_idf,y_traincv)\n",
    "\n",
    "# roc_auc_score(y_true, y_score) the 2nd parameter should be probability estimates of the positive class\n",
    "# not the predicted outputs\n",
    "\n",
    "train_fpr, train_tpr, thresholds = roc_curve(y_traincv, we.predict_proba(final_tf_idf)[:,1])\n",
    "test_fpr, test_tpr, thresholds = roc_curve(y_test, we.predict_proba(final_tf_idf_test)[:,1])\n",
    "\n",
    "plt.plot(train_fpr, train_tpr, label=\"train AUC =\"+str(auc(train_fpr, train_tpr)))\n",
    "plt.plot(test_fpr, test_tpr, label=\"test AUC =\"+str(auc(test_fpr, test_tpr)))\n",
    "plt.legend()\n",
    "plt.xlabel(\"FALSE POSITIVE RATE\")\n",
    "plt.ylabel(\"TRUE POSITIVE RATE\")\n",
    "plt.title(\"AUC ROC curve\")\n",
    "plt.show()\n",
    "\n",
    "print(\"=\"*100)\n",
    "train_AUC_tfidfl1 = auc(train_fpr, train_tpr)\n",
    "test_AUC_tfidfl1 = auc(test_fpr, test_tpr)"
   ]
  },
  {
   "cell_type": "markdown",
   "metadata": {
    "colab_type": "text",
    "id": "5h4NhywcLPo7"
   },
   "source": [
    "#### CONFUSION MATRIX obtained using L1 regularization on TFIDF,<font color='red'> SET 1</font>"
   ]
  },
  {
   "cell_type": "code",
   "execution_count": 80,
   "metadata": {},
   "outputs": [],
   "source": [
    "from sklearn.metrics import confusion_matrix\n",
    "cm_train=confusion_matrix(y_traincv, we.predict(final_tf_idf))\n",
    "cm_test=confusion_matrix(y_test, we.predict(final_tf_idf_test))"
   ]
  },
  {
   "cell_type": "code",
   "execution_count": 81,
   "metadata": {},
   "outputs": [
    {
     "name": "stdout",
     "output_type": "stream",
     "text": [
      "Train confusion matrix\n"
     ]
    },
    {
     "data": {
      "image/png": "[encoded data removed]",
      "text/plain": [
       "<Figure size 432x288 with 2 Axes>"
      ]
     },
     "metadata": {},
     "output_type": "display_data"
    }
   ],
   "source": [
    "print(\"Train confusion matrix\")\n",
    "class_label = [\"negative\", \"positive\"]\n",
    "df_cm = pd.DataFrame(cm_train, index = class_label, columns = class_label)\n",
    "sns.heatmap(df_cm, cmap='magma',annot = True, fmt = \"d\")\n",
    "plt.title(\"Confusion Matrix\")\n",
    "plt.xlabel(\"Predicted Label\")\n",
    "plt.ylabel(\"Actual Label\")\n",
    "plt.show()"
   ]
  },
  {
   "cell_type": "code",
   "execution_count": 82,
   "metadata": {},
   "outputs": [
    {
     "name": "stdout",
     "output_type": "stream",
     "text": [
      "Test confusion matrix\n"
     ]
    },
    {
     "data": {
      "image/png": "[encoded data removed]",
      "text/plain": [
       "<Figure size 432x288 with 2 Axes>"
      ]
     },
     "metadata": {},
     "output_type": "display_data"
    }
   ],
   "source": [
    "print(\"Test confusion matrix\")\n",
    "class_label = [\"negative\", \"positive\"]\n",
    "df_cm = pd.DataFrame(cm_test, index = class_label, columns = class_label)\n",
    "sns.heatmap(df_cm, cmap='magma',annot = True, fmt = \"d\")\n",
    "plt.title(\"Confusion Matrix\")\n",
    "plt.xlabel(\"Predicted Label\")\n",
    "plt.ylabel(\"Actual Label\")\n",
    "plt.show()"
   ]
  },
  {
   "cell_type": "markdown",
   "metadata": {
    "colab_type": "text",
    "id": "NdFShHQJLPpV"
   },
   "source": [
    "### [5.2.2] Applying Logistic Regression with L2 regularization on TFIDF,<font color='red'> SET 2</font>"
   ]
  },
  {
   "cell_type": "code",
   "execution_count": 83,
   "metadata": {
    "colab": {},
    "colab_type": "code",
    "id": "Jyhq3JDzLPpW"
   },
   "outputs": [
    {
     "data": {
      "image/png": "[encoded data removed]",
      "text/plain": [
       "<Figure size 432x288 with 1 Axes>"
      ]
     },
     "metadata": {},
     "output_type": "display_data"
    },
    {
     "name": "stdout",
     "output_type": "stream",
     "text": [
      "LogisticRegression(C=0.0001, class_weight='balanced', dual=False,\n",
      "          fit_intercept=True, intercept_scaling=1, max_iter=100,\n",
      "          multi_class='warn', n_jobs=None, penalty='l2', random_state=None,\n",
      "          solver='warn', tol=0.0001, verbose=0, warm_start=False)\n",
      "0.9991751480978492\n",
      "0.9540213923253751\n",
      "========================================================================================================================================================================================================\n"
     ]
    }
   ],
   "source": [
    "# Please write all the code with proper documentation\n",
    "# Please write all the code with proper documentation\n",
    "# https://scikit-learn.org/stable/modules/generated/sklearn.model_selection.GridSearchCV.html\n",
    "from sklearn.model_selection import GridSearchCV\n",
    "from sklearn.datasets import *\n",
    "from sklearn.linear_model import LogisticRegression\n",
    "import math\n",
    "lr = LogisticRegression(penalty='l2',class_weight='balanced')\n",
    "#parameters = {'n_neighbors':[1, 5, 10, 15, 21, 31, 41, 51]}\n",
    "tuned_parameters = [{'C': [10**-4, 10**-2, 10**0, 10**2, 10**4]}]\n",
    "clf = GridSearchCV(lr, tuned_parameters, cv=5, scoring='roc_auc')\n",
    "clf.fit(final_tf_idf, y_traincv)\n",
    "\n",
    "train_auc= clf.cv_results_['mean_train_score']\n",
    "train_auc_std= clf.cv_results_['std_train_score']\n",
    "cv_auc = clf.cv_results_['mean_test_score'] \n",
    "cv_auc_std= clf.cv_results_['std_test_score']\n",
    "P=[10**-4, 10**-2, 10**0, 10**2, 10**4]\n",
    "C=[]\n",
    "for i in P:\n",
    "    C.append(math.log(i))\n",
    "plt.plot(C, train_auc, label='Train AUC')\n",
    "# this code is copied from here: https://stackoverflow.com/a/48803361/4084039\n",
    "plt.gca().fill_between(C,train_auc - train_auc_std,train_auc + train_auc_std,alpha=0.2,color='darkblue')\n",
    "\n",
    "plt.plot(C, cv_auc, label='CV AUC')\n",
    "# this code is copied from here: https://stackoverflow.com/a/48803361/4084039\n",
    "plt.gca().fill_between(C,cv_auc - cv_auc_std,cv_auc + cv_auc_std,alpha=0.2,color='darkorange')\n",
    "plt.legend()\n",
    "plt.xlabel(\"C: hyperparameter\")\n",
    "plt.ylabel(\"AUC\")\n",
    "plt.title(\"ERROR PLOTS\")\n",
    "plt.show()\n",
    "print(clf.best_estimator_)\n",
    "print(clf.score(final_tf_idf, y_traincv))\n",
    "print(clf.score(final_tf_idf_test, y_test))\n",
    "print('='*200)\n",
    "score_train_tfidfl2=clf.score(final_tf_idf, y_traincv)\n",
    "score_test_tfidfl2=clf.score(final_tf_idf_test, y_test)"
   ]
  },
  {
   "cell_type": "code",
   "execution_count": 84,
   "metadata": {
    "scrolled": true
   },
   "outputs": [
    {
     "name": "stdout",
     "output_type": "stream",
     "text": [
      "[0.9495211710026759, 0.9287012708009627, 0.9193841080050035, 0.9026809892172394, 0.9009902488638578]\n",
      "[0.0001, 0.01, 1, 100, 10000]\n"
     ]
    }
   ],
   "source": [
    "print(list(cv_auc))\n",
    "print(list(P))"
   ]
  },
  {
   "cell_type": "code",
   "execution_count": 85,
   "metadata": {},
   "outputs": [
    {
     "name": "stdout",
     "output_type": "stream",
     "text": [
      "0.0001\n"
     ]
    }
   ],
   "source": [
    "i=list(cv_auc).index(max(cv_auc))\n",
    "optimal_C_tfidfl2=P[i]\n",
    "print(optimal_C_tfidfl2)"
   ]
  },
  {
   "cell_type": "code",
   "execution_count": 86,
   "metadata": {},
   "outputs": [
    {
     "data": {
      "image/png": "[encoded data removed]",
      "text/plain": [
       "<Figure size 432x288 with 1 Axes>"
      ]
     },
     "metadata": {},
     "output_type": "display_data"
    },
    {
     "name": "stdout",
     "output_type": "stream",
     "text": [
      "====================================================================================================\n"
     ]
    }
   ],
   "source": [
    "# https://scikit-learn.org/stable/modules/generated/sklearn.metrics.roc_curve.html#sklearn.metrics.roc_curve\n",
    "from sklearn.metrics import roc_curve, auc\n",
    "we=LogisticRegression(C=optimal_C_tfidfl2,penalty='l2',class_weight='balanced')\n",
    "we.fit(final_tf_idf,y_traincv)\n",
    "\n",
    "# roc_auc_score(y_true, y_score) the 2nd parameter should be probability estimates of the positive class\n",
    "# not the predicted outputs\n",
    "\n",
    "train_fpr, train_tpr, thresholds = roc_curve(y_traincv, we.predict_proba(final_tf_idf)[:,1])\n",
    "test_fpr, test_tpr, thresholds = roc_curve(y_test, we.predict_proba(final_tf_idf_test)[:,1])\n",
    "\n",
    "plt.plot(train_fpr, train_tpr, label=\"train AUC =\"+str(auc(train_fpr, train_tpr)))\n",
    "plt.plot(test_fpr, test_tpr, label=\"test AUC =\"+str(auc(test_fpr, test_tpr)))\n",
    "plt.legend()\n",
    "plt.xlabel(\"FALSE POSITIVE RATE\")\n",
    "plt.ylabel(\"TRUE POSITIVE RATE\")\n",
    "plt.title(\"AUC ROC curve\")\n",
    "plt.show()\n",
    "\n",
    "print(\"=\"*100)\n",
    "train_AUC_tfidfl2= auc(train_fpr, train_tpr)\n",
    "test_AUC_tfidfl2 = auc(test_fpr, test_tpr)"
   ]
  },
  {
   "cell_type": "code",
   "execution_count": 87,
   "metadata": {},
   "outputs": [],
   "source": [
    "from sklearn.metrics import confusion_matrix\n",
    "cm_train=confusion_matrix(y_traincv, we.predict(final_tf_idf))\n",
    "cm_test=confusion_matrix(y_test, we.predict(final_tf_idf_test))"
   ]
  },
  {
   "cell_type": "code",
   "execution_count": 88,
   "metadata": {},
   "outputs": [
    {
     "name": "stdout",
     "output_type": "stream",
     "text": [
      "Train confusion matrix\n"
     ]
    },
    {
     "data": {
      "image/png": "[encoded data removed]",
      "text/plain": [
       "<Figure size 432x288 with 2 Axes>"
      ]
     },
     "metadata": {},
     "output_type": "display_data"
    }
   ],
   "source": [
    "print(\"Train confusion matrix\")\n",
    "class_label = [\"negative\", \"positive\"]\n",
    "df_cm = pd.DataFrame(cm_train, index = class_label, columns = class_label)\n",
    "sns.heatmap(df_cm, cmap='magma',annot = True, fmt = \"d\")\n",
    "plt.title(\"Confusion Matrix\")\n",
    "plt.xlabel(\"Predicted Label\")\n",
    "plt.ylabel(\"Actual Label\")\n",
    "plt.show()"
   ]
  },
  {
   "cell_type": "code",
   "execution_count": 89,
   "metadata": {},
   "outputs": [
    {
     "name": "stdout",
     "output_type": "stream",
     "text": [
      "Test confusion matrix\n"
     ]
    },
    {
     "data": {
      "image/png": "[encoded data removed]",
      "text/plain": [
       "<Figure size 432x288 with 2 Axes>"
      ]
     },
     "metadata": {},
     "output_type": "display_data"
    }
   ],
   "source": [
    "print(\"Test confusion matrix\")\n",
    "class_label = [\"negative\", \"positive\"]\n",
    "df_cm = pd.DataFrame(cm_test, index = class_label, columns = class_label)\n",
    "sns.heatmap(df_cm, cmap='magma',annot = True, fmt = \"d\")\n",
    "plt.title(\"Confusion Matrix\")\n",
    "plt.xlabel(\"Predicted Label\")\n",
    "plt.ylabel(\"Actual Label\")\n",
    "plt.show()"
   ]
  },
  {
   "cell_type": "markdown",
   "metadata": {
    "colab_type": "text",
    "id": "xeeJ8eVvLPpX"
   },
   "source": [
    "### [5.2.3] Feature Importance on TFIDF,<font color='red'> SET 2</font>"
   ]
  },
  {
   "cell_type": "markdown",
   "metadata": {
    "colab_type": "text",
    "id": "JZTP19dqLPpI"
   },
   "source": [
    "#### [5.2.3.1] Top 10 important features of positive class from<font color='red'> SET 1</font>"
   ]
  },
  {
   "cell_type": "code",
   "execution_count": 90,
   "metadata": {},
   "outputs": [
    {
     "name": "stdout",
     "output_type": "stream",
     "text": [
      "Top 10 positive features/n\n",
      "\t0.1179\tgreat          \n",
      "\t0.0881\tbest           \n",
      "\t0.0802\tlove           \n",
      "\t0.0767\tgood           \n",
      "\t0.0714\tdelicious      \n",
      "\t0.0587\tloves          \n",
      "\t0.0576\texcellent      \n",
      "\t0.0558\twonderful      \n",
      "\t0.0544\tperfect        \n",
      "\t0.0517\tfavorite       \n"
     ]
    }
   ],
   "source": [
    "# Please write all the code with proper documentation\n",
    "#https://stackoverflow.com/questions/11116697/how-to-get-most-informative-features-for-scikit-learn-classifiers\n",
    "feature_names = tf_idf_vect.get_feature_names()\n",
    "coefs_with_fns = sorted(zip(we.coef_[0], feature_names))\n",
    "top = coefs_with_fns[:-11:-1]\n",
    "print(\"Top 10 positive features/n\")\n",
    "for coef_1, positive in top:\n",
    "    print (\"\\t%.4f\\t%-15s\" % (coef_1, positive))\n",
    "    "
   ]
  },
  {
   "cell_type": "markdown",
   "metadata": {
    "colab_type": "text",
    "id": "UJLYBE1gLPpJ"
   },
   "source": [
    "#### [5.2.3.2] Top 10 important features of negative class from<font color='red'> SET 1</font>"
   ]
  },
  {
   "cell_type": "code",
   "execution_count": 91,
   "metadata": {
    "colab": {},
    "colab_type": "code",
    "id": "c9r7Zjx1LPpK"
   },
   "outputs": [
    {
     "name": "stdout",
     "output_type": "stream",
     "text": [
      "Top 10 Negative features\n",
      "\t-0.0701\tdisappointed   \n",
      "\t-0.0695\tworst          \n",
      "\t-0.0691\tnot worth      \n",
      "\t-0.0608\tnot            \n",
      "\t-0.0582\tnot good       \n",
      "\t-0.0580\tterrible       \n",
      "\t-0.0577\tnot recommend  \n",
      "\t-0.0569\tdisappointing  \n",
      "\t-0.0565\thorrible       \n",
      "\t-0.0564\tnot buy        \n"
     ]
    }
   ],
   "source": [
    "# Please write all the code with proper documentation\n",
    "feature_names = tf_idf_vect.get_feature_names()\n",
    "coefs_with_fns = sorted(zip(we.coef_[0], feature_names))\n",
    "top = coefs_with_fns[:10]\n",
    "print(\"Top 10 Negative features\")\n",
    "for coef_1, negative in top:\n",
    "    print (\"\\t%.4f\\t%-15s\" % (coef_1, negative))"
   ]
  },
  {
   "cell_type": "markdown",
   "metadata": {
    "colab_type": "text",
    "id": "sqYadGOgLPpi"
   },
   "source": [
    "## [5.3] Logistic Regression on AVG W2V,<font color='red'> SET 3</font>"
   ]
  },
  {
   "cell_type": "markdown",
   "metadata": {
    "colab_type": "text",
    "id": "kByBCEA1LPpj"
   },
   "source": [
    "### [5.3.1] Applying Logistic Regression with L1 regularization on AVG W2V<font color='red'> SET 3</font>"
   ]
  },
  {
   "cell_type": "code",
   "execution_count": 92,
   "metadata": {
    "colab": {},
    "colab_type": "code",
    "id": "yCQ_4iJkLPpj"
   },
   "outputs": [
    {
     "data": {
      "image/png": "[encoded data removed]",
      "text/plain": [
       "<Figure size 432x288 with 1 Axes>"
      ]
     },
     "metadata": {},
     "output_type": "display_data"
    },
    {
     "name": "stdout",
     "output_type": "stream",
     "text": [
      "LogisticRegression(C=1, class_weight='balanced', dual=False,\n",
      "          fit_intercept=True, intercept_scaling=1, max_iter=100,\n",
      "          multi_class='warn', n_jobs=None, penalty='l1', random_state=None,\n",
      "          solver='warn', tol=0.0001, verbose=0, warm_start=False)\n",
      "0.9040889373297154\n",
      "0.9058051035397132\n",
      "========================================================================================================================================================================================================\n"
     ]
    }
   ],
   "source": [
    "# Please write all the code with proper documentation\n",
    "# https://scikit-learn.org/stable/modules/generated/sklearn.model_selection.GridSearchCV.html\n",
    "from sklearn.model_selection import GridSearchCV\n",
    "from sklearn.datasets import *\n",
    "from sklearn.linear_model import LogisticRegression\n",
    "import math\n",
    "lr = LogisticRegression(penalty='l1',class_weight='balanced')\n",
    "#parameters = {'n_neighbors':[1, 5, 10, 15, 21, 31, 41, 51]}\n",
    "tuned_parameters = [{'C': [10**-4, 10**-2, 10**0, 10**2, 10**4]}]\n",
    "clf = GridSearchCV(lr, tuned_parameters, cv=5, scoring='roc_auc')\n",
    "clf.fit(sent_vectors, y_traincv)\n",
    "\n",
    "train_auc= clf.cv_results_['mean_train_score']\n",
    "train_auc_std= clf.cv_results_['std_train_score']\n",
    "cv_auc = clf.cv_results_['mean_test_score'] \n",
    "cv_auc_std= clf.cv_results_['std_test_score']\n",
    "P=[10**-4, 10**-2, 10**0, 10**2, 10**4]\n",
    "C=[]\n",
    "for i in P:\n",
    "    C.append(math.log(i))\n",
    "plt.plot(C, train_auc, label='Train AUC')\n",
    "# this code is copied from here: https://stackoverflow.com/a/48803361/4084039\n",
    "plt.gca().fill_between(C,train_auc - train_auc_std,train_auc + train_auc_std,alpha=0.2,color='darkblue')\n",
    "\n",
    "plt.plot(C, cv_auc, label='CV AUC')\n",
    "# this code is copied from here: https://stackoverflow.com/a/48803361/4084039\n",
    "plt.gca().fill_between(C,cv_auc - cv_auc_std,cv_auc + cv_auc_std,alpha=0.2,color='darkorange')\n",
    "plt.legend()\n",
    "plt.xlabel(\"C: hyperparameter\")\n",
    "plt.ylabel(\"AUC\")\n",
    "plt.title(\"ERROR PLOTS\")\n",
    "plt.show()\n",
    "print(clf.best_estimator_)\n",
    "print(clf.score(sent_vectors, y_traincv))\n",
    "print(clf.score(sent_vectors_test, y_test))\n",
    "print('='*200)\n",
    "score_train_aw2vl1=clf.score(sent_vectors, y_traincv)\n",
    "score_test_aw2vl1=clf.score(sent_vectors_test, y_test)"
   ]
  },
  {
   "cell_type": "code",
   "execution_count": 93,
   "metadata": {
    "scrolled": true
   },
   "outputs": [
    {
     "name": "stdout",
     "output_type": "stream",
     "text": [
      "[0.5, 0.9026600816396474, 0.9033550168753658, 0.9033484765144131, 0.903348599076072]\n",
      "[0.0001, 0.01, 1, 100, 10000]\n"
     ]
    }
   ],
   "source": [
    "print(list(cv_auc))\n",
    "print(list(P))"
   ]
  },
  {
   "cell_type": "code",
   "execution_count": 94,
   "metadata": {},
   "outputs": [
    {
     "name": "stdout",
     "output_type": "stream",
     "text": [
      "1\n"
     ]
    }
   ],
   "source": [
    "i=list(cv_auc).index(max(cv_auc))\n",
    "optimal_C_aw2vl1=P[i]\n",
    "print(optimal_C_aw2vl1)"
   ]
  },
  {
   "cell_type": "code",
   "execution_count": 95,
   "metadata": {},
   "outputs": [
    {
     "data": {
      "image/png": "[encoded data removed]",
      "text/plain": [
       "<Figure size 432x288 with 1 Axes>"
      ]
     },
     "metadata": {},
     "output_type": "display_data"
    },
    {
     "name": "stdout",
     "output_type": "stream",
     "text": [
      "====================================================================================================\n"
     ]
    }
   ],
   "source": [
    "# https://scikit-learn.org/stable/modules/generated/sklearn.metrics.roc_curve.html#sklearn.metrics.roc_curve\n",
    "from sklearn.metrics import roc_curve, auc\n",
    "we=LogisticRegression(C=optimal_C_aw2vl1,penalty='l1',class_weight='balanced')\n",
    "we.fit(sent_vectors,y_traincv)\n",
    "\n",
    "# roc_auc_score(y_true, y_score) the 2nd parameter should be probability estimates of the positive class\n",
    "# not the predicted outputs\n",
    "\n",
    "train_fpr, train_tpr, thresholds = roc_curve(y_traincv, we.predict_proba(sent_vectors)[:,1])\n",
    "test_fpr, test_tpr, thresholds = roc_curve(y_test, we.predict_proba(sent_vectors_test)[:,1])\n",
    "\n",
    "plt.plot(train_fpr, train_tpr, label=\"train AUC =\"+str(auc(train_fpr, train_tpr)))\n",
    "plt.plot(test_fpr, test_tpr, label=\"test AUC =\"+str(auc(test_fpr, test_tpr)))\n",
    "plt.legend()\n",
    "plt.xlabel(\"FALSE POSITIVE RATE\")\n",
    "plt.ylabel(\"TRUE POSITIVE RATE\")\n",
    "plt.title(\"AUC ROC curve\")\n",
    "plt.show()\n",
    "\n",
    "print(\"=\"*100)\n",
    "train_AUC_aw2vl1 = auc(train_fpr, train_tpr)\n",
    "test_AUC_aw2vl1= auc(test_fpr, test_tpr)"
   ]
  },
  {
   "cell_type": "markdown",
   "metadata": {
    "colab_type": "text",
    "id": "5h4NhywcLPo7"
   },
   "source": [
    "#### [5.1.1.1] CONFUSION MATRIX obtained using L1 regularization on AVE W2V,<font color='red'> SET 1</font>"
   ]
  },
  {
   "cell_type": "code",
   "execution_count": 96,
   "metadata": {},
   "outputs": [],
   "source": [
    "from sklearn.metrics import confusion_matrix\n",
    "cm_train=confusion_matrix(y_traincv, we.predict(sent_vectors))\n",
    "cm_test=confusion_matrix(y_test, we.predict(sent_vectors_test))"
   ]
  },
  {
   "cell_type": "code",
   "execution_count": 97,
   "metadata": {},
   "outputs": [
    {
     "name": "stdout",
     "output_type": "stream",
     "text": [
      "Train confusion matrix\n"
     ]
    },
    {
     "data": {
      "image/png": "[encoded data removed]",
      "text/plain": [
       "<Figure size 432x288 with 2 Axes>"
      ]
     },
     "metadata": {},
     "output_type": "display_data"
    }
   ],
   "source": [
    "print(\"Train confusion matrix\")\n",
    "class_label = [\"negative\", \"positive\"]\n",
    "df_cm = pd.DataFrame(cm_train, index = class_label, columns = class_label)\n",
    "sns.heatmap(df_cm, cmap='magma',annot = True, fmt = \"d\")\n",
    "plt.title(\"Confusion Matrix\")\n",
    "plt.xlabel(\"Predicted Label\")\n",
    "plt.ylabel(\"Actual Label\")\n",
    "plt.show()"
   ]
  },
  {
   "cell_type": "code",
   "execution_count": 98,
   "metadata": {},
   "outputs": [
    {
     "name": "stdout",
     "output_type": "stream",
     "text": [
      "Test confusion matrix\n"
     ]
    },
    {
     "data": {
      "image/png": "[encoded data removed]",
      "text/plain": [
       "<Figure size 432x288 with 2 Axes>"
      ]
     },
     "metadata": {},
     "output_type": "display_data"
    }
   ],
   "source": [
    "print(\"Test confusion matrix\")\n",
    "class_label = [\"negative\", \"positive\"]\n",
    "df_cm = pd.DataFrame(cm_test, index = class_label, columns = class_label)\n",
    "sns.heatmap(df_cm, cmap='magma',annot = True, fmt = \"d\")\n",
    "plt.title(\"Confusion Matrix\")\n",
    "plt.xlabel(\"Predicted Label\")\n",
    "plt.ylabel(\"Actual Label\")\n",
    "plt.show()"
   ]
  },
  {
   "cell_type": "markdown",
   "metadata": {
    "colab_type": "text",
    "id": "O_8Gu2SfLPpn"
   },
   "source": [
    "### [5.3.2] Applying Logistic Regression with L2 regularization on AVG W2V,<font color='red'> SET 3</font>"
   ]
  },
  {
   "cell_type": "code",
   "execution_count": 99,
   "metadata": {
    "colab": {},
    "colab_type": "code",
    "id": "Zy3s4jk1LPpn"
   },
   "outputs": [
    {
     "data": {
      "image/png": "[encoded data removed]",
      "text/plain": [
       "<Figure size 432x288 with 1 Axes>"
      ]
     },
     "metadata": {},
     "output_type": "display_data"
    },
    {
     "name": "stdout",
     "output_type": "stream",
     "text": [
      "LogisticRegression(C=1, class_weight='balanced', dual=False,\n",
      "          fit_intercept=True, intercept_scaling=1, max_iter=100,\n",
      "          multi_class='warn', n_jobs=None, penalty='l2', random_state=None,\n",
      "          solver='warn', tol=0.0001, verbose=0, warm_start=False)\n",
      "0.9040903664200437\n",
      "0.9058116850599491\n",
      "========================================================================================================================================================================================================\n"
     ]
    }
   ],
   "source": [
    "# Please write all the code with proper documentation\n",
    "# https://scikit-learn.org/stable/modules/generated/sklearn.model_selection.GridSearchCV.html\n",
    "from sklearn.model_selection import GridSearchCV\n",
    "from sklearn.datasets import *\n",
    "from sklearn.linear_model import LogisticRegression\n",
    "import math\n",
    "lr = LogisticRegression(penalty='l2',class_weight='balanced')\n",
    "#parameters = {'n_neighbors':[1, 5, 10, 15, 21, 31, 41, 51]}\n",
    "tuned_parameters = [{'C': [10**-4, 10**-2, 10**0, 10**2, 10**4]}]\n",
    "clf = GridSearchCV(lr, tuned_parameters, cv=5, scoring='roc_auc')\n",
    "clf.fit(sent_vectors, y_traincv)\n",
    "\n",
    "train_auc= clf.cv_results_['mean_train_score']\n",
    "train_auc_std= clf.cv_results_['std_train_score']\n",
    "cv_auc = clf.cv_results_['mean_test_score'] \n",
    "cv_auc_std= clf.cv_results_['std_test_score']\n",
    "P=[10**-4, 10**-2, 10**0, 10**2, 10**4]\n",
    "C=[]\n",
    "for i in P:\n",
    "    C.append(math.log(i))\n",
    "plt.plot(C, train_auc, label='Train AUC')\n",
    "# this code is copied from here: https://stackoverflow.com/a/48803361/4084039\n",
    "plt.gca().fill_between(C,train_auc - train_auc_std,train_auc + train_auc_std,alpha=0.2,color='darkblue')\n",
    "\n",
    "plt.plot(C, cv_auc, label='CV AUC')\n",
    "# this code is copied from here: https://stackoverflow.com/a/48803361/4084039\n",
    "plt.gca().fill_between(C,cv_auc - cv_auc_std,cv_auc + cv_auc_std,alpha=0.2,color='darkorange')\n",
    "plt.legend()\n",
    "plt.xlabel(\"C: hyperparameter\")\n",
    "plt.ylabel(\"AUC\")\n",
    "plt.title(\"ERROR PLOTS\")\n",
    "plt.show()\n",
    "print(clf.best_estimator_)\n",
    "print(clf.score(sent_vectors, y_traincv))\n",
    "print(clf.score(sent_vectors_test, y_test))\n",
    "print('='*200)\n",
    "score_train_aw2vl2=clf.score(sent_vectors, y_traincv)\n",
    "score_test_aw2vl2=clf.score(sent_vectors_test, y_test)"
   ]
  },
  {
   "cell_type": "code",
   "execution_count": 100,
   "metadata": {
    "scrolled": true
   },
   "outputs": [
    {
     "name": "stdout",
     "output_type": "stream",
     "text": [
      "[0.889565094713594, 0.9031480579431471, 0.9033521392408181, 0.9033433930676823, 0.903343465151909]\n",
      "[0.0001, 0.01, 1, 100, 10000]\n"
     ]
    }
   ],
   "source": [
    "print(list(cv_auc))\n",
    "print(list(P))"
   ]
  },
  {
   "cell_type": "code",
   "execution_count": 101,
   "metadata": {},
   "outputs": [
    {
     "name": "stdout",
     "output_type": "stream",
     "text": [
      "1\n"
     ]
    }
   ],
   "source": [
    "i=list(cv_auc).index(max(cv_auc))\n",
    "optimal_C_aw2vl2=P[i]\n",
    "print(optimal_C_aw2vl2)"
   ]
  },
  {
   "cell_type": "code",
   "execution_count": 102,
   "metadata": {},
   "outputs": [
    {
     "data": {
      "image/png": "[encoded data removed]",
      "text/plain": [
       "<Figure size 432x288 with 1 Axes>"
      ]
     },
     "metadata": {},
     "output_type": "display_data"
    },
    {
     "name": "stdout",
     "output_type": "stream",
     "text": [
      "====================================================================================================\n"
     ]
    }
   ],
   "source": [
    "# https://scikit-learn.org/stable/modules/generated/sklearn.metrics.roc_curve.html#sklearn.metrics.roc_curve\n",
    "from sklearn.metrics import roc_curve, auc\n",
    "we=LogisticRegression(C=optimal_C_aw2vl2,penalty='l2',class_weight='balanced')\n",
    "we.fit(sent_vectors,y_traincv)\n",
    "\n",
    "# roc_auc_score(y_true, y_score) the 2nd parameter should be probability estimates of the positive class\n",
    "# not the predicted outputs\n",
    "\n",
    "train_fpr, train_tpr, thresholds = roc_curve(y_traincv, we.predict_proba(sent_vectors)[:,1])\n",
    "test_fpr, test_tpr, thresholds = roc_curve(y_test, we.predict_proba(sent_vectors_test)[:,1])\n",
    "\n",
    "plt.plot(train_fpr, train_tpr, label=\"train AUC =\"+str(auc(train_fpr, train_tpr)))\n",
    "plt.plot(test_fpr, test_tpr, label=\"test AUC =\"+str(auc(test_fpr, test_tpr)))\n",
    "plt.legend()\n",
    "plt.xlabel(\"FALSE POSITIVE RATE\")\n",
    "plt.ylabel(\"TRUE POSITIVE RATE\")\n",
    "plt.title(\"AUC ROC curve\")\n",
    "plt.show()\n",
    "\n",
    "print(\"=\"*100)\n",
    "train_AUC_aw2vl2 = auc(train_fpr, train_tpr)\n",
    "test_AUC_aw2vl2= auc(test_fpr, test_tpr)"
   ]
  },
  {
   "cell_type": "markdown",
   "metadata": {
    "colab_type": "text",
    "id": "5h4NhywcLPo7"
   },
   "source": [
    "#### [5.1.1.1] CONFUSION MATRIX obtained using L2 regularization on AVE W2V,<font color='red'> SET 1</font>"
   ]
  },
  {
   "cell_type": "code",
   "execution_count": 103,
   "metadata": {},
   "outputs": [],
   "source": [
    "from sklearn.metrics import confusion_matrix\n",
    "cm_train=confusion_matrix(y_traincv, we.predict(sent_vectors))\n",
    "cm_test=confusion_matrix(y_test, we.predict(sent_vectors_test))"
   ]
  },
  {
   "cell_type": "code",
   "execution_count": 104,
   "metadata": {},
   "outputs": [
    {
     "name": "stdout",
     "output_type": "stream",
     "text": [
      "Train confusion matrix\n"
     ]
    },
    {
     "data": {
      "image/png": "[encoded data removed]",
      "text/plain": [
       "<Figure size 432x288 with 2 Axes>"
      ]
     },
     "metadata": {},
     "output_type": "display_data"
    }
   ],
   "source": [
    "print(\"Train confusion matrix\")\n",
    "class_label = [\"negative\", \"positive\"]\n",
    "df_cm = pd.DataFrame(cm_train, index = class_label, columns = class_label)\n",
    "sns.heatmap(df_cm, cmap='magma',annot = True, fmt = \"d\")\n",
    "plt.title(\"Confusion Matrix\")\n",
    "plt.xlabel(\"Predicted Label\")\n",
    "plt.ylabel(\"Actual Label\")\n",
    "plt.show()"
   ]
  },
  {
   "cell_type": "code",
   "execution_count": 105,
   "metadata": {},
   "outputs": [
    {
     "name": "stdout",
     "output_type": "stream",
     "text": [
      "Test confusion matrix\n"
     ]
    },
    {
     "data": {
      "image/png": "[encoded data removed]",
      "text/plain": [
       "<Figure size 432x288 with 2 Axes>"
      ]
     },
     "metadata": {},
     "output_type": "display_data"
    }
   ],
   "source": [
    "print(\"Test confusion matrix\")\n",
    "class_label = [\"negative\", \"positive\"]\n",
    "df_cm = pd.DataFrame(cm_test, index = class_label, columns = class_label)\n",
    "sns.heatmap(df_cm, cmap='magma',annot = True, fmt = \"d\")\n",
    "plt.title(\"Confusion Matrix\")\n",
    "plt.xlabel(\"Predicted Label\")\n",
    "plt.ylabel(\"Actual Label\")\n",
    "plt.show()"
   ]
  },
  {
   "cell_type": "markdown",
   "metadata": {
    "colab_type": "text",
    "id": "pdXTwVIPLPpp"
   },
   "source": [
    "## [5.4] Logistic Regression on TFIDF W2V,<font color='red'> SET 4</font>"
   ]
  },
  {
   "cell_type": "markdown",
   "metadata": {
    "colab_type": "text",
    "id": "WP9NjwNSLPpp"
   },
   "source": [
    "### [5.4.1] Applying Logistic Regression with L1 regularization on TFIDF W2V,<font color='red'> SET 4</font>"
   ]
  },
  {
   "cell_type": "code",
   "execution_count": 106,
   "metadata": {
    "colab": {},
    "colab_type": "code",
    "id": "207gYymwLPpq"
   },
   "outputs": [
    {
     "data": {
      "image/png": "[encoded data removed]",
      "text/plain": [
       "<Figure size 432x288 with 1 Axes>"
      ]
     },
     "metadata": {},
     "output_type": "display_data"
    },
    {
     "name": "stdout",
     "output_type": "stream",
     "text": [
      "LogisticRegression(C=1, class_weight='balanced', dual=False,\n",
      "          fit_intercept=True, intercept_scaling=1, max_iter=100,\n",
      "          multi_class='warn', n_jobs=None, penalty='l1', random_state=None,\n",
      "          solver='warn', tol=0.0001, verbose=0, warm_start=False)\n",
      "0.8794615390686495\n",
      "0.8806993222941844\n",
      "========================================================================================================================================================================================================\n"
     ]
    }
   ],
   "source": [
    "# Please write all the code with proper documentation\n",
    "# https://scikit-learn.org/stable/modules/generated/sklearn.model_selection.GridSearchCV.html\n",
    "from sklearn.model_selection import GridSearchCV\n",
    "from sklearn.datasets import *\n",
    "from sklearn.linear_model import LogisticRegression\n",
    "import math\n",
    "lr = LogisticRegression(penalty='l1',class_weight='balanced')\n",
    "#parameters = {'n_neighbors':[1, 5, 10, 15, 21, 31, 41, 51]}\n",
    "tuned_parameters = [{'C': [10**-4, 10**-2, 10**0, 10**2, 10**4]}]\n",
    "clf = GridSearchCV(lr, tuned_parameters, cv=5, scoring='roc_auc')\n",
    "clf.fit(tfidf_sent_vectors, y_traincv)\n",
    "\n",
    "train_auc= clf.cv_results_['mean_train_score']\n",
    "train_auc_std= clf.cv_results_['std_train_score']\n",
    "cv_auc = clf.cv_results_['mean_test_score'] \n",
    "cv_auc_std= clf.cv_results_['std_test_score']\n",
    "P=[10**-4, 10**-2, 10**0, 10**2, 10**4]\n",
    "C=[]\n",
    "for i in P:\n",
    "    C.append(math.log(i))\n",
    "plt.plot(C, train_auc, label='Train AUC')\n",
    "# this code is copied from here: https://stackoverflow.com/a/48803361/4084039\n",
    "plt.gca().fill_between(C,train_auc - train_auc_std,train_auc + train_auc_std,alpha=0.2,color='darkblue')\n",
    "\n",
    "plt.plot(C, cv_auc, label='CV AUC')\n",
    "# this code is copied from here: https://stackoverflow.com/a/48803361/4084039\n",
    "plt.gca().fill_between(C,cv_auc - cv_auc_std,cv_auc + cv_auc_std,alpha=0.2,color='darkorange')\n",
    "plt.legend()\n",
    "plt.xlabel(\"C: hyperparameter\")\n",
    "plt.ylabel(\"AUC\")\n",
    "plt.title(\"ERROR PLOTS\")\n",
    "plt.show()\n",
    "print(clf.best_estimator_)\n",
    "print(clf.score(tfidf_sent_vectors, y_traincv))\n",
    "print(clf.score(tfidf_sent_vectors_test, y_test))\n",
    "print('='*200)\n",
    "score_train_tfidfaw2vl1=clf.score(tfidf_sent_vectors, y_traincv)\n",
    "score_test_tfidfaw2vl1=clf.score(tfidf_sent_vectors_test, y_test)"
   ]
  },
  {
   "cell_type": "code",
   "execution_count": 107,
   "metadata": {
    "scrolled": true
   },
   "outputs": [
    {
     "name": "stdout",
     "output_type": "stream",
     "text": [
      "[0.5, 0.8777758557575777, 0.8785701710387435, 0.8785628168031809, 0.8785624637464867]\n",
      "[0.0001, 0.01, 1, 100, 10000]\n"
     ]
    }
   ],
   "source": [
    "print(list(cv_auc))\n",
    "print(list(P))"
   ]
  },
  {
   "cell_type": "code",
   "execution_count": 108,
   "metadata": {},
   "outputs": [
    {
     "name": "stdout",
     "output_type": "stream",
     "text": [
      "1\n"
     ]
    }
   ],
   "source": [
    "i=list(cv_auc).index(max(cv_auc))\n",
    "optimal_C_tfidfw2vl1=P[i]\n",
    "print(optimal_C_tfidfw2vl1)"
   ]
  },
  {
   "cell_type": "code",
   "execution_count": 109,
   "metadata": {},
   "outputs": [
    {
     "data": {
      "image/png": "[encoded data removed]",
      "text/plain": [
       "<Figure size 432x288 with 1 Axes>"
      ]
     },
     "metadata": {},
     "output_type": "display_data"
    },
    {
     "name": "stdout",
     "output_type": "stream",
     "text": [
      "====================================================================================================\n"
     ]
    }
   ],
   "source": [
    "# https://scikit-learn.org/stable/modules/generated/sklearn.metrics.roc_curve.html#sklearn.metrics.roc_curve\n",
    "from sklearn.metrics import roc_curve, auc\n",
    "we=LogisticRegression(C=optimal_C_tfidfw2vl1,penalty='l1',class_weight='balanced')\n",
    "we.fit(tfidf_sent_vectors,y_traincv)\n",
    "\n",
    "# roc_auc_score(y_true, y_score) the 2nd parameter should be probability estimates of the positive class\n",
    "# not the predicted outputs\n",
    "\n",
    "train_fpr, train_tpr, thresholds = roc_curve(y_traincv, we.predict_proba(tfidf_sent_vectors)[:,1])\n",
    "test_fpr, test_tpr, thresholds = roc_curve(y_test, we.predict_proba(tfidf_sent_vectors_test)[:,1])\n",
    "\n",
    "plt.plot(train_fpr, train_tpr, label=\"train AUC =\"+str(auc(train_fpr, train_tpr)))\n",
    "plt.plot(test_fpr, test_tpr, label=\"test AUC =\"+str(auc(test_fpr, test_tpr)))\n",
    "plt.legend()\n",
    "plt.xlabel(\"FALSE POSITIVE RATE\")\n",
    "plt.ylabel(\"TRUE POSITIVE RATE\")\n",
    "plt.title(\"AUC ROC curve\")\n",
    "plt.show()\n",
    "\n",
    "print(\"=\"*100)\n",
    "train_AUC_tfidfw2vl1 = auc(train_fpr, train_tpr)\n",
    "test_AUC_tfidfw2vl1= auc(test_fpr, test_tpr)"
   ]
  },
  {
   "cell_type": "markdown",
   "metadata": {
    "colab_type": "text",
    "id": "5h4NhywcLPo7"
   },
   "source": [
    "#### [5.1.1.1] CONFUSION MATRIX obtained using L1 regularization on TFIDF W2V,<font color='red'> SET 1</font>"
   ]
  },
  {
   "cell_type": "code",
   "execution_count": 110,
   "metadata": {},
   "outputs": [],
   "source": [
    "from sklearn.metrics import confusion_matrix\n",
    "cm_train=confusion_matrix(y_traincv, we.predict(tfidf_sent_vectors))\n",
    "cm_test=confusion_matrix(y_test, we.predict(tfidf_sent_vectors_test))"
   ]
  },
  {
   "cell_type": "code",
   "execution_count": 111,
   "metadata": {},
   "outputs": [
    {
     "name": "stdout",
     "output_type": "stream",
     "text": [
      "Train confusion matrix\n"
     ]
    },
    {
     "data": {
      "image/png": "[encoded data removed]",
      "text/plain": [
       "<Figure size 432x288 with 2 Axes>"
      ]
     },
     "metadata": {},
     "output_type": "display_data"
    }
   ],
   "source": [
    "print(\"Train confusion matrix\")\n",
    "class_label = [\"negative\", \"positive\"]\n",
    "df_cm = pd.DataFrame(cm_train, index = class_label, columns = class_label)\n",
    "sns.heatmap(df_cm, cmap='magma',annot = True, fmt = \"d\")\n",
    "plt.title(\"Confusion Matrix\")\n",
    "plt.xlabel(\"Predicted Label\")\n",
    "plt.ylabel(\"Actual Label\")\n",
    "plt.show()"
   ]
  },
  {
   "cell_type": "code",
   "execution_count": 112,
   "metadata": {},
   "outputs": [
    {
     "name": "stdout",
     "output_type": "stream",
     "text": [
      "Test confusion matrix\n"
     ]
    },
    {
     "data": {
      "image/png": "[encoded data removed]",
      "text/plain": [
       "<Figure size 432x288 with 2 Axes>"
      ]
     },
     "metadata": {},
     "output_type": "display_data"
    }
   ],
   "source": [
    "print(\"Test confusion matrix\")\n",
    "class_label = [\"negative\", \"positive\"]\n",
    "df_cm = pd.DataFrame(cm_test, index = class_label, columns = class_label)\n",
    "sns.heatmap(df_cm, cmap='magma',annot = True, fmt = \"d\")\n",
    "plt.title(\"Confusion Matrix\")\n",
    "plt.xlabel(\"Predicted Label\")\n",
    "plt.ylabel(\"Actual Label\")\n",
    "plt.show()"
   ]
  },
  {
   "cell_type": "markdown",
   "metadata": {
    "colab_type": "text",
    "id": "ynUK2tYDLPps"
   },
   "source": [
    "### [5.4.2] Applying Logistic Regression with L2 regularization on TFIDF W2V,<font color='red'> SET 4</font>"
   ]
  },
  {
   "cell_type": "code",
   "execution_count": 113,
   "metadata": {
    "colab": {},
    "colab_type": "code",
    "id": "hVYuiXl2LPpt"
   },
   "outputs": [
    {
     "data": {
      "image/png": "[encoded data removed]",
      "text/plain": [
       "<Figure size 432x288 with 1 Axes>"
      ]
     },
     "metadata": {},
     "output_type": "display_data"
    },
    {
     "name": "stdout",
     "output_type": "stream",
     "text": [
      "LogisticRegression(C=1, class_weight='balanced', dual=False,\n",
      "          fit_intercept=True, intercept_scaling=1, max_iter=100,\n",
      "          multi_class='warn', n_jobs=None, penalty='l2', random_state=None,\n",
      "          solver='warn', tol=0.0001, verbose=0, warm_start=False)\n",
      "0.8794525593053054\n",
      "0.8807020407481948\n",
      "========================================================================================================================================================================================================\n"
     ]
    }
   ],
   "source": [
    "# Please write all the code with proper documentation\n",
    "# Please write all the code with proper documentation\n",
    "# https://scikit-learn.org/stable/modules/generated/sklearn.model_selection.GridSearchCV.html\n",
    "from sklearn.model_selection import GridSearchCV\n",
    "from sklearn.datasets import *\n",
    "from sklearn.linear_model import LogisticRegression\n",
    "import math\n",
    "lr = LogisticRegression(penalty='l2',class_weight='balanced')\n",
    "#parameters = {'n_neighbors':[1, 5, 10, 15, 21, 31, 41, 51]}\n",
    "tuned_parameters = [{'C': [10**-4, 10**-2, 10**0, 10**2, 10**4]}]\n",
    "clf = GridSearchCV(lr, tuned_parameters, cv=5, scoring='roc_auc')\n",
    "clf.fit(tfidf_sent_vectors, y_traincv)\n",
    "\n",
    "train_auc= clf.cv_results_['mean_train_score']\n",
    "train_auc_std= clf.cv_results_['std_train_score']\n",
    "cv_auc = clf.cv_results_['mean_test_score'] \n",
    "cv_auc_std= clf.cv_results_['std_test_score']\n",
    "P=[10**-4, 10**-2, 10**0, 10**2, 10**4]\n",
    "C=[]\n",
    "for i in P:\n",
    "    C.append(math.log(i))\n",
    "plt.plot(C, train_auc, label='Train AUC')\n",
    "# this code is copied from here: https://stackoverflow.com/a/48803361/4084039\n",
    "plt.gca().fill_between(C,train_auc - train_auc_std,train_auc + train_auc_std,alpha=0.2,color='darkblue')\n",
    "\n",
    "plt.plot(C, cv_auc, label='CV AUC')\n",
    "# this code is copied from here: https://stackoverflow.com/a/48803361/4084039\n",
    "plt.gca().fill_between(C,cv_auc - cv_auc_std,cv_auc + cv_auc_std,alpha=0.2,color='darkorange')\n",
    "plt.legend()\n",
    "plt.xlabel(\"C: hyperparameter\")\n",
    "plt.ylabel(\"AUC\")\n",
    "plt.title(\"ERROR PLOTS\")\n",
    "plt.show()\n",
    "print(clf.best_estimator_)\n",
    "print(clf.score(tfidf_sent_vectors, y_traincv))\n",
    "print(clf.score(tfidf_sent_vectors_test, y_test))\n",
    "print('='*200)\n",
    "score_train_tfidfaw2vl2=clf.score(tfidf_sent_vectors, y_traincv)\n",
    "score_test_tfidfaw2vl2=clf.score(tfidf_sent_vectors_test, y_test)"
   ]
  },
  {
   "cell_type": "code",
   "execution_count": 114,
   "metadata": {
    "scrolled": true
   },
   "outputs": [
    {
     "name": "stdout",
     "output_type": "stream",
     "text": [
      "[0.8598794080699322, 0.8783569602902677, 0.8785661484802253, 0.878562564611636, 0.8785625357104003]\n",
      "[0.0001, 0.01, 1, 100, 10000]\n"
     ]
    }
   ],
   "source": [
    "print(list(cv_auc))\n",
    "print(list(P))"
   ]
  },
  {
   "cell_type": "code",
   "execution_count": 115,
   "metadata": {},
   "outputs": [
    {
     "name": "stdout",
     "output_type": "stream",
     "text": [
      "1\n"
     ]
    }
   ],
   "source": [
    "i=list(cv_auc).index(max(cv_auc))\n",
    "optimal_C_tfidfw2vl2=P[i]\n",
    "print(optimal_C_tfidfw2vl2)"
   ]
  },
  {
   "cell_type": "code",
   "execution_count": 116,
   "metadata": {},
   "outputs": [
    {
     "data": {
      "image/png": "[encoded data removed]",
      "text/plain": [
       "<Figure size 432x288 with 1 Axes>"
      ]
     },
     "metadata": {},
     "output_type": "display_data"
    },
    {
     "name": "stdout",
     "output_type": "stream",
     "text": [
      "====================================================================================================\n"
     ]
    }
   ],
   "source": [
    "# https://scikit-learn.org/stable/modules/generated/sklearn.metrics.roc_curve.html#sklearn.metrics.roc_curve\n",
    "from sklearn.metrics import roc_curve, auc\n",
    "we=LogisticRegression(C=optimal_C_tfidfw2vl2,penalty='l2',class_weight='balanced')\n",
    "we.fit(tfidf_sent_vectors,y_traincv)\n",
    "\n",
    "# roc_auc_score(y_true, y_score) the 2nd parameter should be probability estimates of the positive class\n",
    "# not the predicted outputs\n",
    "\n",
    "train_fpr, train_tpr, thresholds = roc_curve(y_traincv, we.predict_proba(tfidf_sent_vectors)[:,1])\n",
    "test_fpr, test_tpr, thresholds = roc_curve(y_test, we.predict_proba(tfidf_sent_vectors_test)[:,1])\n",
    "\n",
    "plt.plot(train_fpr, train_tpr, label=\"train AUC =\"+str(auc(train_fpr, train_tpr)))\n",
    "plt.plot(test_fpr, test_tpr, label=\"test AUC =\"+str(auc(test_fpr, test_tpr)))\n",
    "plt.legend()\n",
    "plt.xlabel(\"FALSE POSITIVE RATE\")\n",
    "plt.ylabel(\"TRUE POSITIVE RATE\")\n",
    "plt.title(\"AUC ROC curve\")\n",
    "plt.show()\n",
    "\n",
    "print(\"=\"*100)\n",
    "train_AUC_tfidfw2vl2 = auc(train_fpr, train_tpr)\n",
    "test_AUC_tfidfw2vl2= auc(test_fpr, test_tpr)"
   ]
  },
  {
   "cell_type": "markdown",
   "metadata": {
    "colab_type": "text",
    "id": "5h4NhywcLPo7"
   },
   "source": [
    "#### [5.1.1.1] CONFUSION MATRIX obtained using L2 regularization on TFIDF W2V,<font color='red'> SET 1</font>"
   ]
  },
  {
   "cell_type": "code",
   "execution_count": 117,
   "metadata": {},
   "outputs": [],
   "source": [
    "from sklearn.metrics import confusion_matrix\n",
    "cm_train=confusion_matrix(y_traincv, we.predict(tfidf_sent_vectors))\n",
    "cm_test=confusion_matrix(y_test, we.predict(tfidf_sent_vectors_test))"
   ]
  },
  {
   "cell_type": "code",
   "execution_count": 118,
   "metadata": {},
   "outputs": [
    {
     "name": "stdout",
     "output_type": "stream",
     "text": [
      "Train confusion matrix\n"
     ]
    },
    {
     "data": {
      "image/png": "[encoded data removed]",
      "text/plain": [
       "<Figure size 432x288 with 2 Axes>"
      ]
     },
     "metadata": {},
     "output_type": "display_data"
    }
   ],
   "source": [
    "print(\"Train confusion matrix\")\n",
    "class_label = [\"negative\", \"positive\"]\n",
    "df_cm = pd.DataFrame(cm_train, index = class_label, columns = class_label)\n",
    "sns.heatmap(df_cm, cmap='magma',annot = True, fmt = \"d\")\n",
    "plt.title(\"Confusion Matrix\")\n",
    "plt.xlabel(\"Predicted Label\")\n",
    "plt.ylabel(\"Actual Label\")\n",
    "plt.show()"
   ]
  },
  {
   "cell_type": "code",
   "execution_count": 119,
   "metadata": {},
   "outputs": [
    {
     "name": "stdout",
     "output_type": "stream",
     "text": [
      "Test confusion matrix\n"
     ]
    },
    {
     "data": {
      "image/png": "[encoded data removed]",
      "text/plain": [
       "<Figure size 432x288 with 2 Axes>"
      ]
     },
     "metadata": {},
     "output_type": "display_data"
    }
   ],
   "source": [
    "print(\"Test confusion matrix\")\n",
    "class_label = [\"negative\", \"positive\"]\n",
    "df_cm = pd.DataFrame(cm_test, index = class_label, columns = class_label)\n",
    "sns.heatmap(df_cm, cmap='magma',annot = True, fmt = \"d\")\n",
    "plt.title(\"Confusion Matrix\")\n",
    "plt.xlabel(\"Predicted Label\")\n",
    "plt.ylabel(\"Actual Label\")\n",
    "plt.show()"
   ]
  },
  {
   "cell_type": "markdown",
   "metadata": {
    "colab_type": "text",
    "id": "nOvsBNf2LPpv"
   },
   "source": [
    "# [6] Conclusions"
   ]
  },
  {
   "cell_type": "code",
   "execution_count": 128,
   "metadata": {
    "colab": {},
    "colab_type": "code",
    "id": "T7VxD0q2LPpw"
   },
   "outputs": [
    {
     "name": "stdout",
     "output_type": "stream",
     "text": [
      "+-------------------+------------------------+-----------------------+----------------------+---------+-----------+----------+\n",
      "| GRIDSEARCHCVMODEL |  BESTHyperparameter(C) | roc_auc on train data | roc_auc on test data | PENALTY | TRAIN_AUC | TEST_AUC |\n",
      "+-------------------+------------------------+-----------------------+----------------------+---------+-----------+----------+\n",
      "|       LR_BOW      |          0.01          |          0.99         |         0.94         |    L1   |    0.99   |   0.94   |\n",
      "|       LR_BOW      |          0.0           |          0.99         |         0.93         |    L2   |    0.99   |   0.93   |\n",
      "|      LR_TFIDF     |          0.01          |          1.0          |         0.96         |    L1   |    1.0    |   0.96   |\n",
      "|      LR_TFIDF     |          0.0           |          1.0          |         0.95         |    L2   |    1.0    |   0.95   |\n",
      "|     LR_AVGW2V     |           1            |          0.9          |         0.91         |    L1   |    0.9    |   0.91   |\n",
      "|     LR_AVGW2V     |           1            |          0.9          |         0.91         |    L2   |    0.9    |   0.91   |\n",
      "|    LR_TFIDFW2V    |           1            |          0.88         |         0.88         |    L1   |    0.88   |   0.88   |\n",
      "|    LR_TFIDFW2V    |           1            |          0.88         |         0.88         |    L2   |    0.88   |   0.88   |\n",
      "+-------------------+------------------------+-----------------------+----------------------+---------+-----------+----------+\n"
     ]
    }
   ],
   "source": [
    "# Please compare all your models using Prettytable library\n",
    "# Please compare all your models using Prettytable library\n",
    "from prettytable import PrettyTable\n",
    "    \n",
    "x = PrettyTable()\n",
    "\n",
    "x.field_names = [\"GRIDSEARCHCVMODEL\",\" BESTHyperparameter(C)\",\"roc_auc on train data\",\"roc_auc on test data\",\"PENALTY\",\"TRAIN_AUC\",\"TEST_AUC\"]\n",
    "\n",
    "x.add_row([\"LR_BOW\",round(optimal_C_bowl1,2),round(score_train_bowl1,2),round(score_test_bowl1,2),'L1',round(train_AUC_bowl1,2),round(test_AUC_bowl1,2)])\n",
    "x.add_row([\"LR_BOW\",round(optimal_C_bowl2,2),round(score_train_bowl2,2),round(score_test_bowl2,2),'L2',round(train_AUC_bowl2,2),round(test_AUC_bowl2,2)])\n",
    "x.add_row([\"LR_TFIDF\",round(optimal_C_tfidfl1,2),round(score_train_tfidfl1,2),round(score_test_tfidfl1,2),'L1',round(train_AUC_tfidfl1,2),round(test_AUC_tfidfl1,2)])\n",
    "x.add_row([\"LR_TFIDF\",round(optimal_C_tfidfl2,2),round(score_train_tfidfl2,2),round(score_test_tfidfl2,2),'L2',round(train_AUC_tfidfl2,2),round(test_AUC_tfidfl2,2)])\n",
    "x.add_row([\"LR_AVGW2V\",round(optimal_C_aw2vl1,2),round(score_train_aw2vl1,2),round(score_test_aw2vl1,2),'L1',round(train_AUC_aw2vl1,2),round(test_AUC_aw2vl1,2)])\n",
    "x.add_row([\"LR_AVGW2V\",round(optimal_C_aw2vl2,2),round(score_train_aw2vl2,2),round(score_test_aw2vl2,2),'L2',round(train_AUC_aw2vl2,2),round(test_AUC_aw2vl2,2)])\n",
    "x.add_row([\"LR_TFIDFW2V\",round(optimal_C_tfidfw2vl1,2),round(score_train_tfidfaw2vl1,2),round(score_test_tfidfaw2vl1,2),'L1',round(train_AUC_tfidfw2vl1,2),round(test_AUC_tfidfw2vl1,2)])\n",
    "x.add_row([\"LR_TFIDFW2V\",round(optimal_C_tfidfw2vl2,2),round(score_train_tfidfaw2vl2,2),round(score_test_tfidfaw2vl2,2),'L2',round(train_AUC_tfidfw2vl2,2),round(test_AUC_tfidfw2vl2,2)])\n",
    "\n",
    "print(x)"
   ]
  },
  {
   "cell_type": "markdown",
   "metadata": {
    "colab_type": "text",
    "id": "nOvsBNf2LPpv"
   },
   "source": [
    "#  observations"
   ]
  },
  {
   "cell_type": "raw",
   "metadata": {},
   "source": [
    "\n",
    "1.features are corelated.since,we observed thatthere is a 86 percent change in most of the features after adding noise to data     perfoming perturbation test.\n",
    "2.we can see that all the models are performing well on train and test data.There is no effect of l1 and l2 regularization in     case of average word to vec and tfidf w2v.\n",
    "3.performed feauture engineering hack such as adding len of reviews as another feature on bow vectorizer to improve the           performance of model.\n",
    "4.auc_roc metric obtained is same by performing grid search and fpr,tpr values both on test and train data."
   ]
  },
  {
   "cell_type": "markdown",
   "metadata": {},
   "source": [
    "# steps followed in presentin data"
   ]
  },
  {
   "cell_type": "markdown",
   "metadata": {},
   "source": [
    "#1)Logistic regression algorithm is apllied on the preprocessed text of reviews from amazon fine food data by converting it \n",
    "  it into bag of words , tfidf,ave w2v,tfidf w2v model.\n",
    "#2)a feauture engineering hack is performed to improve the performance of model by appending length of reviews as another          feature for bow model.\n",
    "#3)sparsity of weight vector is caluculated using l1 regularization for optimal_c on bag of words model.\n",
    "#4)petrubation test is performed on the model by adding noise to bow to check for multicolinearity of features. \n",
    "#5)hyper parameter tuning is performed by using gridsearchcv and clf.best_estimator_ attribute is used to find best C.\n",
    "#6)optimal C is used to predict the fpr and tpr of train and test data at different threshholds\n",
    "#7)Using fpr and tpr values AUROC curve is plotted.\n",
    "#8)Area under AUROC curve gives us the probabilty that given a query point to how much extent it  is correctly classified.\n",
    "#9)top 10 important features from both positive and negatave classes are reported by using  attribute coef_.\n",
    "#10)then confusion matrix is plotted by using heat maps for both train and test data.\n"
   ]
  },
  {
   "cell_type": "code",
   "execution_count": null,
   "metadata": {},
   "outputs": [],
   "source": []
  }
 ],
 "metadata": {
  "colab": {
   "name": "05 Amazon Fine Food Reviews Analysis_Logistic Regression.ipynb",
   "provenance": [],
   "version": "0.3.2"
  },
  "kernelspec": {
   "display_name": "Python 3",
   "language": "python",
   "name": "python3"
  },
  "language_info": {
   "codemirror_mode": {
    "name": "ipython",
    "version": 3
   },
   "file_extension": ".py",
   "mimetype": "text/x-python",
   "name": "python",
   "nbconvert_exporter": "python",
   "pygments_lexer": "ipython3",
   "version": "3.6.5"
  }
 },
 "nbformat": 4,
 "nbformat_minor": 1
}
